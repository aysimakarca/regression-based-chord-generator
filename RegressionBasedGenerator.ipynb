{
 "cells": [
  {
   "cell_type": "markdown",
   "id": "f867164f",
   "metadata": {},
   "source": [
    "# REGRESSION FOR ALGORITHMIC MUSIC COMPOSITION"
   ]
  },
  {
   "cell_type": "markdown",
   "id": "fbd3f0e7",
   "metadata": {},
   "source": [
    "## Extracting chords from ChordPro files of The Beatles Songs.\n",
    "\n",
    "In this chapter, the functions used for parsing ChordPro files were defined. An organized library version of the functions also can be found in the repository: https://github.com/aysimakarca/chordpro. \n",
    "\n",
    "Data used was collected from http://getsome.org/guitar/olga/chordpro/b/Beatles/\n",
    "\n",
    "The required  python libraries for the notebook to run are listed below:\n",
    "- pandas\n",
    "- numpy\n",
    "- mathplotlib\n",
    "- sklearn\n",
    "- pychord\n",
    "- prettiy_midi\n",
    "- flask"
   ]
  },
  {
   "cell_type": "code",
   "execution_count": 1,
   "id": "c08ae51e",
   "metadata": {},
   "outputs": [],
   "source": [
    "import re\n",
    "import os\n",
    "import numpy as np\n",
    "import matplotlib.pyplot as plt\n",
    "import time\n",
    "from pychord import Chord"
   ]
  },
  {
   "cell_type": "markdown",
   "id": "062be487",
   "metadata": {},
   "source": [
    "Here we define the unique note names as the limited characters which an chord can start with."
   ]
  },
  {
   "cell_type": "code",
   "execution_count": 2,
   "id": "10845a6e",
   "metadata": {},
   "outputs": [],
   "source": [
    "uniqueChordNames = [\"A\",\"B\", \"C\", \"D\", \"E\", \"F\", \"G\"]       \n"
   ]
  },
  {
   "cell_type": "markdown",
   "id": "74cf93b5",
   "metadata": {},
   "source": [
    "The functions below are part of ChordPro parsing features. Here we extract special information like chorus, intro, title, key and using them in the creation of Song object below. "
   ]
  },
  {
   "cell_type": "code",
   "execution_count": 3,
   "id": "1666e42b",
   "metadata": {},
   "outputs": [],
   "source": [
    "def readChordProFile(chordProFile):\n",
    "    with open(chordProFile, 'r') as file:\n",
    "        print(chordProFile)\n",
    "        content = file.read()\n",
    "        return content"
   ]
  },
  {
   "cell_type": "code",
   "execution_count": 4,
   "id": "d9db19ca",
   "metadata": {},
   "outputs": [],
   "source": [
    "def cleanChords(chords):\n",
    "    finalChords = []\n",
    "    for chord in chords:\n",
    "        chord = chord.replace(\"H\", \"B\")\n",
    "        chord = chord.replace(\"b\", \"-\")\n",
    "        chord = chord.replace(\"min\", \"m\")\n",
    "        chord = chord.replace(\"maj\", \"\")\n",
    "        chord = chord.replace(\"sus\", \"\")\n",
    "        chord = chord.replace(\"dim\", \"\")\n",
    "        if len(chord) > 3:\n",
    "            chord = chord[0:3]\n",
    "        chord = chord.replace(\"7\", \"\")        \n",
    "        chord = chord.replace(\"(\", \"\")\n",
    "        chord = chord.replace(\"+\", \"\")\n",
    "        chord = chord.replace(\"?\", \"\")\n",
    "        chord = chord.replace(\".\", \"\")\n",
    "        chord = chord.split(\"/\")[0]\n",
    "        chord = chord.split(\"+\")[0]\n",
    "        chord = re.sub(r'\\d+', '', chord)\n",
    "        restWithoutAlphabethic = re.sub(r'[a-zA-Z]+', '', chord[1:]) \n",
    "        chord = chord[0] + restWithoutAlphabethic\n",
    "        \n",
    "        if chord[0:1] in uniqueChordNames:\n",
    "            finalChords.append(chord)\n",
    "    return finalChords"
   ]
  },
  {
   "cell_type": "code",
   "execution_count": 5,
   "id": "871e4b45",
   "metadata": {},
   "outputs": [],
   "source": [
    "def getChordsOfALine(line, content):\n",
    "    chordPattern = r'\\[([^\\]]+)\\]'\n",
    "    lineChords = []\n",
    "    if \"chorus}\" in line.lower():\n",
    "        lineChords = getChorus(content)\n",
    "    elif \"repeat intro}\" in line.lower():\n",
    "        lineChords = getIntro(content)\n",
    "    elif \"repeat bridge}\" in line.lower():\n",
    "        lineChords = getBridge(content)\n",
    "    elif \"[\" in line:\n",
    "        lineChords = re.findall(chordPattern, line)   \n",
    "    return lineChords"
   ]
  },
  {
   "cell_type": "code",
   "execution_count": 6,
   "id": "35bd6356",
   "metadata": {},
   "outputs": [],
   "source": [
    "def getChorus(content):\n",
    "    patternArr = [\"{soc}(.*?){eoc}\", \"{start_of_chorus}(.*?){end_of_chorus}\"]\n",
    "    chords = []\n",
    "    for pattern in patternArr:\n",
    "        match = re.search(pattern, content, re.DOTALL)\n",
    "        if match:\n",
    "            chorus = match.group(1).strip()\n",
    "            chordPattern = r\"\\[([^\\]]*)\\]\"\n",
    "            chords = re.findall(chordPattern, chorus)\n",
    "            return chords\n",
    "    return chords"
   ]
  },
  {
   "cell_type": "code",
   "execution_count": 7,
   "id": "38e9d81d",
   "metadata": {},
   "outputs": [],
   "source": [
    "def getIntro(content):\n",
    "    chordsOfIntro = []\n",
    "    inIntro = False\n",
    "    for line in content.split(\"\\n\"): \n",
    "        if 'c:intro:}' in line.lower() or 'c:intro}'in line.lower():\n",
    "            inIntro = True\n",
    "        elif inIntro:\n",
    "            lineChords = getChordsOfALine(line, content)\n",
    "            if len(lineChords) > 0:\n",
    "                chordsOfIntro.extend(lineChords)\n",
    "            else:\n",
    "                inIntro = False\n",
    "                break\n",
    "    return chordsOfIntro"
   ]
  },
  {
   "cell_type": "code",
   "execution_count": 8,
   "id": "7a8a4211",
   "metadata": {},
   "outputs": [],
   "source": [
    "def getBridge(content):\n",
    "    chordsOfBridge = []\n",
    "    inBridge = False\n",
    "    for line in content.split(\"\\n\"): \n",
    "        if 'c:bridge:}' in line.lower() or '{c:bridge}'in line.lower():\n",
    "            inBridge = True\n",
    "        elif inBridge:\n",
    "            lineChords = getChordsOfALine(line, content)\n",
    "            if len(lineChords) > 0:\n",
    "                chordsOfBridge.extend(lineChords)\n",
    "            else:\n",
    "                inBridge = False\n",
    "                break\n",
    "    return chordsOfBridge"
   ]
  },
  {
   "cell_type": "code",
   "execution_count": 9,
   "id": "59e5ee8f",
   "metadata": {},
   "outputs": [],
   "source": [
    "def getTitle(content, chordProFile):\n",
    "    pattern = r\"\\{title:\\s*(.*?)\\s*\\}\"\n",
    "    match = re.search(pattern, content)\n",
    "    title = ''\n",
    "    if match:\n",
    "        title = match.group(1)\n",
    "    else:\n",
    "        title = os.path.splitext(os.path.basename(chordProFile))[0]\n",
    "    return title"
   ]
  },
  {
   "cell_type": "code",
   "execution_count": 10,
   "id": "e1c27caa",
   "metadata": {},
   "outputs": [],
   "source": [
    "def getKey(content):\n",
    "    pattern = r\"{key:\\s*([A-G][#b]?)\\s*}\"\n",
    "    match = re.search(pattern, content)\n",
    "    key = ''\n",
    "    if match:\n",
    "        key = match.group(1)\n",
    "    return key"
   ]
  },
  {
   "cell_type": "markdown",
   "id": "4d7be16f",
   "metadata": {},
   "source": [
    "A song class was created in order to access the chord information easily. A song object can be initialized by providing a path for the ChordPro song file and the constructor will call the functions above. It will extract the chords, chorus and other information within the song object."
   ]
  },
  {
   "cell_type": "code",
   "execution_count": 11,
   "id": "f7b730b6",
   "metadata": {},
   "outputs": [],
   "source": [
    "class Song:\n",
    "    def __init__(self, chordProFile):\n",
    "        self.chordProFile = chordProFile\n",
    "        self.content = readChordProFile(chordProFile)\n",
    "        self.chorus = self.getChorus()\n",
    "        self.chords = self.getChords()\n",
    "        self.title = self.getTitle()\n",
    "        self.key = self.getKey()\n",
    "        \n",
    "    def getChords(self):\n",
    "        chords = []\n",
    "        for line in self.content.split(\"\\n\"): \n",
    "            lineChords = getChordsOfALine(line, self.content)\n",
    "            chords.extend(cleanChords(lineChords))\n",
    "        return chords\n",
    "    \n",
    "    def getChordsBeforeChorus(self):\n",
    "        chords = []\n",
    "        for line in self.content.split(\"\\n\"): \n",
    "            if 'chorus' in line.lower() or '{soc}'in line.lower() or '{start_of_chorus}'in line.lower():\n",
    "                break\n",
    "            lineChords = getChordsOfALine(line, self.content)\n",
    "            chords.extend(cleanChords(lineChords))\n",
    "        return chords\n",
    "        \n",
    "    def getChorus(self):\n",
    "        return getChorus(self.content)\n",
    "    \n",
    "    def getIntro(self):\n",
    "        return getIntro(self.content)\n",
    "    \n",
    "    def getTitle(self):\n",
    "        return getTitle(self.content, self.chordProFile)\n",
    "    \n",
    "    def getKey(self):\n",
    "        return getKey(self.content)\n",
    "    "
   ]
  },
  {
   "cell_type": "markdown",
   "id": "96358f58",
   "metadata": {},
   "source": [
    "## Feature extraction & data preparation for training"
   ]
  },
  {
   "cell_type": "markdown",
   "id": "160c7921",
   "metadata": {},
   "source": [
    "In this part, we are going to create feature and target arrays by using the ChordPro functions above as well as the helper functions below.\n",
    "\n",
    "### Create a song dictionary of songs with chords\n",
    "\n",
    "First, we start with providing a folder path where songs can be found and we are going to iterate over each song. For every file we find, we are going to initialize a Song object and add its chords into a dictionary named **songDict** where key is the song name and value is the chord array. "
   ]
  },
  {
   "cell_type": "code",
   "execution_count": 12,
   "id": "6d7c94ed",
   "metadata": {},
   "outputs": [],
   "source": [
    "def createChordDictFromChordProFiles(dataFolderPath):\n",
    "    fileNames = os.listdir(dataFolderPath)\n",
    "    chordsDict = {}\n",
    "    longestChordLength = 0\n",
    "    for file in fileNames:\n",
    "        if '.DS_Store' in file:\n",
    "            continue\n",
    "        chordproFile = dataFolderPath + file\n",
    "        song = Song(chordproFile)\n",
    "        chordsDict[song.title] = song.chords\n",
    "    return chordsDict"
   ]
  },
  {
   "cell_type": "code",
   "execution_count": 13,
   "id": "d62a3040",
   "metadata": {},
   "outputs": [
    {
     "name": "stdout",
     "output_type": "stream",
     "text": [
      "./data/chordpro/HelloGoodbye.chopro\n",
      "./data/chordpro/TheContinuingStoryOfBungalowBill.chopro\n",
      "./data/chordpro/YellowSubmarine.chopro\n",
      "./data/chordpro/StrawberryFieldsForever.2.chopro\n",
      "./data/chordpro/GetBack.chopro\n",
      "./data/chordpro/Blackbird.chopro\n",
      "./data/chordpro/Help.chopro\n",
      "./data/chordpro/ADayInALife.chopro\n",
      "./data/chordpro/DontLetMeDown.chopro\n",
      "./data/chordpro/FromMeToYou.chopro\n",
      "./data/chordpro/SoldierOfLove.chopro\n",
      "./data/chordpro/EleanorRigby.chopro\n",
      "./data/chordpro/ChristmastimeIsHereAgain.chopro\n",
      "./data/chordpro/WeCanWorkItOut.chopro\n",
      "./data/chordpro/WithALittleHelpFromMyFriends.chopro\n",
      "./data/chordpro/AllTogetherNow.chopro\n",
      "./data/chordpro/LetItBe.2.chopro\n",
      "./data/chordpro/TellMeWhy.chopro\n",
      "./data/chordpro/Anna.chopro\n",
      "./data/chordpro/AcrossTheUniverse.chopro\n",
      "./data/chordpro/IAmAWalrus.chopro\n",
      "./data/chordpro/WithALittleHelpFromMyFriends.2.chopro\n",
      "./data/chordpro/IShouldHaveKnownBetter.chopro\n",
      "./data/chordpro/ICallYourName.chopro\n",
      "./data/chordpro/CantBuyMeLove.2.chopro\n",
      "./data/chordpro/SheLovesYou.german.chopro\n",
      "./data/chordpro/IveJustSeenAFace.chopro\n",
      "./data/chordpro/Yesterday.3.chopro\n",
      "./data/chordpro/LetItBe.chopro\n",
      "./data/chordpro/MaxwellsSilverHammer.chopro\n",
      "./data/chordpro/HereThereAndEverywhere.2.chopro\n",
      "./data/chordpro/TwistAndShout.chopro\n",
      "./data/chordpro/GoodDaySunshine.chopro\n",
      "./data/chordpro/ItsOnlyLove.chopro\n",
      "./data/chordpro/SomeOtherGuy.chopro\n",
      "./data/chordpro/Yesterday.chopro\n",
      "./data/chordpro/ImGonnaSitRightDownAndCryOverYou.chopro\n",
      "./data/chordpro/WhenImSixtyFour.chopro\n",
      "./data/chordpro/YellowSubmarine.2.chopro\n",
      "./data/chordpro/AHardDaysNight.chopro\n",
      "./data/chordpro/LongAndWindingRoad.chopro\n",
      "./data/chordpro/NobodyIKnow.chopro\n",
      "./data/chordpro/HereComesTheSun.chopro\n",
      "./data/chordpro/WhenImSixtyFour.2.chopro\n",
      "./data/chordpro/AllYouNeedIsLove.chopro\n",
      "./data/chordpro/AskMeWhy.chopro\n",
      "./data/chordpro/InMyLife.chopro\n",
      "./data/chordpro/LadyMadonna.chopro\n",
      "./data/chordpro/Misery.chopro\n",
      "./data/chordpro/EightDaysAWeek.2.chopro\n",
      "./data/chordpro/CantBuyMeLove.chopro\n",
      "./data/chordpro/StrawberryFieldsForever.chopro\n",
      "./data/chordpro/Clarabella.chopro\n",
      "./data/chordpro/IWantToHoldYourHand.chopro\n",
      "./data/chordpro/BabysInBlack.chopro\n",
      "./data/chordpro/AllMyLoving.chopro\n",
      "./data/chordpro/GoldenSlumbers.chopro\n",
      "./data/chordpro/IGotAWoman.chopro\n",
      "./data/chordpro/LovelyRita.chopro\n",
      "./data/chordpro/HereThereAndEverywhere.chopro\n",
      "./data/chordpro/IllBeBack.chopro\n",
      "./data/chordpro/NorwegianWood.chopro\n",
      "./data/chordpro/EightDaysAWeek.chopro\n",
      "./data/chordpro/ISawHerStandingThere.chopro\n",
      "./data/chordpro/ComeTogether.chopro\n",
      "./data/chordpro/CryBabyCry.chopro\n",
      "./data/chordpro/PleasePleaseMe.chopro\n",
      "./data/chordpro/HideYourLoveAway.chopro\n",
      "./data/chordpro/TwoOfUs.chopro\n",
      "./data/chordpro/GettingBetter.chopro\n",
      "./data/chordpro/DearPrudence.chopro\n",
      "./data/chordpro/NowhereMan.chopro\n",
      "./data/chordpro/PennyLane.chopro\n",
      "./data/chordpro/AShotOfRythmAndBlues.chopro.txt\n",
      "./data/chordpro/Yesterday.2.chopro\n",
      "./data/chordpro/Birthday.chopro\n",
      "./data/chordpro/Michelle.2.chopro\n",
      "./data/chordpro/OctopussGarden.chopro\n",
      "./data/chordpro/NowhereMan.2.chopro\n",
      "./data/chordpro/BackInTheUSSR.chopro\n",
      "./data/chordpro/OneAndOneIsTwo.chopro\n",
      "./data/chordpro/IFeelFine.chopro\n",
      "./data/chordpro/AShotOfRythmAndBlues.chopro\n",
      "./data/chordpro/ThatsAlrightMama.chopro\n",
      "./data/chordpro/LucyInTheSkyWithDiamonds.chopro\n",
      "./data/chordpro/ObLaDiObLaDa.chopro\n",
      "./data/chordpro/Michelle.chopro\n",
      "./data/chordpro/HeyJude.chopro\n",
      "./data/chordpro/TicketToRide.chopro\n",
      "./data/chordpro/AndILoveHer.chopro\n",
      "./data/chordpro/KeepYourHandsOffMyBaby.chopro\n",
      "./data/chordpro/ImSoTired.chopro\n",
      "./data/chordpro/Girl.chopro\n",
      "./data/chordpro/RockyRacoon.chopro\n",
      "./data/chordpro/A Day in a Life.chordpro\n",
      "./data/chordpro/WhenImSixtyFour.3.chopro\n",
      "./data/chordpro/SheLovesYou.chopro\n",
      "./data/chordpro/AcrossTheUniverse.chopro.txt\n",
      "./data/chordpro/DriveMyCar.chopro\n",
      "./data/chordpro/HeyJude.2.chopro\n",
      "./data/chordpro/ImLookingThroughYou.chopro\n",
      "./data/chordpro/WhileMyGuitarGentlyWeeps.chopro\n"
     ]
    }
   ],
   "source": [
    "pathOfChordTxtFiles = './data/chordpro/'\n",
    "\n",
    "songDict = createChordDictFromChordProFiles(pathOfChordTxtFiles)"
   ]
  },
  {
   "cell_type": "markdown",
   "id": "72bb8657",
   "metadata": {},
   "source": [
    "### Map the string chord names to integer values\n",
    "\n",
    "The chords we worked until this point are in string format. However it is better for the regression to use integer values compared to string values. So we will create two mapping functions to map chords from string to int and from int to string.\n",
    "\n",
    "In order to do the mapping, we build a list of unique chords exists in our songs so that we can use the index as the integer value. This will also be used when mapping from int to chord names back."
   ]
  },
  {
   "cell_type": "code",
   "execution_count": 14,
   "id": "7c008f35",
   "metadata": {},
   "outputs": [
    {
     "name": "stdout",
     "output_type": "stream",
     "text": [
      "['A', 'A-', 'B', 'B-', 'C', 'C#', 'D', 'D#', 'E', 'E-', 'F', 'F#', 'G', 'G#']\n",
      "14\n"
     ]
    }
   ],
   "source": [
    "distinctChordNames = list(sorted({ele for val in songDict.values() for ele in val}))\n",
    "print(distinctChordNames)\n",
    "print(len(distinctChordNames))"
   ]
  },
  {
   "cell_type": "code",
   "execution_count": 15,
   "id": "01c1446a",
   "metadata": {},
   "outputs": [],
   "source": [
    "def mapChordNamesToIndexes(chords):\n",
    "    indexArr = []\n",
    "    for i, chord in enumerate(chords):\n",
    "        indexArr.append(distinctChordNames.index(chord))\n",
    "    return indexArr"
   ]
  },
  {
   "cell_type": "code",
   "execution_count": 16,
   "id": "a70ed03f",
   "metadata": {},
   "outputs": [],
   "source": [
    "def mapIndexesToChordNames(indexes):\n",
    "    chords = []\n",
    "    for i, index in enumerate(indexes):\n",
    "        chords.append(distinctChordNames[index])\n",
    "    return chords"
   ]
  },
  {
   "cell_type": "markdown",
   "id": "63a5fb09",
   "metadata": {},
   "source": [
    "Here we ignore the songs which has less than 10 chords as they are most likely to have a wrong formatting."
   ]
  },
  {
   "cell_type": "code",
   "execution_count": 17,
   "id": "102ca24e",
   "metadata": {},
   "outputs": [
    {
     "name": "stdout",
     "output_type": "stream",
     "text": [
      "Chords are too short, ignoring the song ChristmastimeIsHereAgain\n",
      "Chords are too short, ignoring the song Anna\n",
      "{'Hello, Goodbye': [4, 12, 6, 8, 6, 8, 6, 12, 6, 4, 12, 4, 9, 12, 4, 10, 12, 4, 12, 6, 8, 6, 8, 6, 12, 6, 4, 12, 4, 9, 12, 4, 10, 12, 4, 12, 6, 8, 6, 8, 6, 12, 6, 4, 12, 4, 9, 12, 4, 10, 12, 4, 12, 6, 8, 6, 8, 6, 12, 6, 4, 12, 4, 9, 12, 4, 10, 12, 4, 9, 12], 'The Continuing Story of Bungalow Bill': [4, 12, 4, 10, 4, 10, 12, 0, 8, 0, 6, 0, 6, 8, 0, 4, 10, 12, 0, 4, 10, 8, 12, 0, 10, 4, 12, 4, 10, 4, 10, 12, 0, 8, 0, 6, 0, 6, 8, 0, 4, 10, 12, 0, 4, 10, 12, 8, 12, 0, 10, 4, 12, 4, 10, 4, 10, 12, 0, 8, 0, 6, 0, 6, 8, 0, 4, 10, 12, 0, 4, 10, 12, 8, 12, 0, 10], 'Yellow Submarine': [12, 6, 4, 12, 8, 0, 4, 6, 12, 6, 4, 12, 8, 0, 4, 6, 12, 6, 4, 12, 8, 0, 4, 6, 12, 6, 4, 12, 8, 0, 4, 6, 12, 6, 12, 6, 12, 6, 4, 12, 8, 0, 4, 6, 12, 6, 4, 12, 12, 6, 12, 6, 12, 6, 4, 12, 8, 0, 4, 6, 12, 6, 4, 12, 8, 0, 4, 6, 12, 6, 12, 6, 12], 'Strawberry Fields Forever': [12, 6, 9, 4, 6, 8, 0, 6, 12, 6, 6, 2, 8, 4, 0, 6, 12, 8, 0, 6, 4, 12, 4], 'GetBack': [0, 6, 0, 12, 6, 0, 6, 0, 12, 6, 0, 6, 0, 12, 6, 0, 6, 0, 6, 0, 12, 6, 0, 6, 0, 6, 0, 12, 6, 0, 6], 'Blackbird': [12, 4, 12, 4, 0, 0, 7, 8, 12, 12, 0, 4, 4, 12, 12, 0, 4, 6, 12, 12, 4, 12, 4, 0, 0, 7, 8, 12, 12, 0, 4, 4, 12, 0, 4, 6, 12, 10, 8, 6, 4, 3, 4, 10, 8, 6, 4, 3, 0, 6, 6, 12, 4, 12, 4, 12], 'Help': [2, 12, 8, 0, 0, 5, 11, 6, 12, 0, 5, 11, 6, 12, 0, 2, 12, 8, 0, 0, 0, 5, 11, 6, 12, 0, 5, 11, 6, 12, 0, 2, 12, 8, 0, 0, 0, 11, 0, 0], 'A Day in a Life': [12, 2, 8, 8, 4, 4, 12, 2, 8, 4, 8, 0, 4, 12, 2, 8, 4, 10, 8, 8, 4, 10, 8, 4, 12, 2, 8, 4, 8, 0, 4, 12, 2, 8, 4, 10, 8, 8, 4, 12, 2, 8, 4, 8, 0, 4, 12, 2, 8, 4, 10, 8, 8, 4, 2, 12, 12, 8, 8, 6, 8, 11, 8, 11, 8, 6, 8, 11, 8, 11, 4, 12, 6, 0, 4, 12, 6, 0, 12, 2, 8, 4, 8, 0, 4, 12, 2, 8, 4, 10, 8, 8, 4, 2, 12, 12, 8], 'DontLetMeDown': [8, 11, 11, 0, 8, 11, 11, 0, 8, 8, 8, 11, 11, 8, 8, 8, 11, 11, 8, 8, 8, 11, 11, 0, 8, 11, 11, 0, 8, 8, 8, 11, 11, 0, 8, 11, 11, 0, 8, 8, 8, 2, 2, 8, 0, 8, 8, 11, 11, 0, 8, 11, 11, 0, 8, 8], 'From Me To You': [12, 8, 12, 6, 4, 8, 4, 6, 12, 12, 8, 12, 6, 4, 8, 4, 6, 12, 6, 12, 4, 8, 0, 6, 6, 12, 8, 12, 6, 4, 8, 4, 6, 12], 'SoldierOfLove': [10, 6, 10, 6, 10, 10, 6, 10, 6, 10, 6, 12, 10, 10, 0, 3, 4, 10, 0, 3, 4, 10, 6, 10, 6, 10], 'Eleanor Rigby': [3, 6, 3, 6, 6, 3, 6, 6, 3, 6, 6, 6, 3, 6, 6, 6, 3, 6], 'WeCanWorkItOut': [12, 4, 12, 12, 4, 10, 12, 12, 4, 12, 12, 4, 10, 12, 4, 12, 4, 6, 12, 4, 12, 12, 4, 10, 12, 12, 4, 12, 12, 4, 10, 12, 4, 12, 4, 6, 8, 0, 2, 2, 8, 6, 4, 6, 8, 0, 2, 2, 8, 6, 4, 6, 12, 4, 12, 12, 4, 10, 12, 12, 4, 12, 12, 4, 10, 12, 4, 12, 4, 6, 8, 0, 2, 2, 8, 6, 4, 6, 8, 0, 2, 2, 8, 6, 4, 6], 'WithALittleHelpFromMyFriends': [4, 6, 12, 12, 4, 6, 12, 12, 4, 4, 3, 10, 4, 3, 10, 4, 3, 10, 4, 0, 6, 4, 3, 10, 0, 6, 4, 3, 10, 4, 3, 10, 4, 3, 10, 4, 3, 10, 4, 0, 6, 4, 3, 10, 0, 6, 4, 3, 10, 4, 3, 10, 4, 3, 10, 4, 3, 10, 4, 0, 6, 4, 3, 10, 0, 6, 4, 3, 10], 'All Together Now': [10, 4, 10, 4, 10, 10, 4, 10, 4, 10, 10, 3, 10, 3, 4, 10, 4, 10], 'Let it Be': [12, 6, 8, 4, 12, 6, 4, 12, 6, 8, 4, 12, 6, 4, 12, 8, 2, 4, 12, 6, 4, 12, 12, 6, 8, 4, 12, 6, 4, 12, 12, 6, 8, 4, 12, 6, 4, 12, 8, 2, 4, 12, 6, 4, 12, 12, 6, 8, 4, 12, 6, 4, 12, 12, 6, 8, 4, 12, 6, 4, 12, 8, 2, 4, 12, 6, 4, 12], 'TellMeWhy': [12, 4, 0, 6, 12, 6, 4, 0, 6, 12, 4, 0, 6, 12, 6, 4, 12, 4, 0, 6, 12, 4, 0, 6, 12, 4, 0, 6, 12, 6, 4, 0, 6, 12, 4, 0, 6, 12, 6, 4, 12, 4, 0, 6, 12, 4, 0, 6, 12, 4, 0, 6, 12, 6, 4, 0, 6, 12, 4, 0, 6, 12, 6, 4, 4, 10, 12, 0, 6, 12, 4, 12, 4, 0, 6, 12, 6, 4, 0, 6, 12, 4, 0, 6, 12, 0, 1, 12, 4], 'Across the Universe': [4, 8, 6, 12, 12, 4, 8, 6, 10, 4, 6, 12, 10, 12, 10, 4, 4, 8, 6, 12, 12, 4, 8, 6, 12, 12, 4, 6, 12, 10, 12, 10, 4, 4, 8, 6, 12, 12, 4, 8, 6, 12, 12, 4, 6, 12, 10, 12, 10, 4], 'IAmAWalrus': [2, 0, 12, 10, 8, 8, 6, 6, 0, 0, 4, 6, 8, 0, 0, 4, 6, 0, 0, 0, 6, 10, 12, 0, 0, 10, 2, 4, 6, 8, 0, 0, 4, 6, 8, 0, 0, 4, 6, 0, 6, 0, 8, 6, 6, 4, 6, 8, 8, 2, 0, 12, 10, 8, 2, 0, 12, 10, 8, 10, 2, 4, 6, 8, 4, 6, 8], 'WithALittleHelpFromMyFriends.2': [6, 0, 8, 0, 6, 0, 8, 0, 0, 6, 4, 12, 6, 4, 12, 6, 4, 12, 6, 0, 4, 12, 6, 4, 12, 6, 4, 12, 6, 0, 4, 12, 6, 4, 12, 6, 4, 12, 6, 0, 2, 8, 6, 4, 12, 2, 8, 6, 4, 12, 4, 12, 6, 4, 12, 6, 4, 12, 6, 0, 2, 8, 6, 4, 12, 2, 8, 6, 4, 12, 4, 12, 6, 4, 12, 6, 6, 4, 12, 3, 12, 6], 'IShouldHaveKnownBetter': [4, 12, 4, 12, 4, 12, 4, 12, 4, 12, 0, 10, 12, 4, 12, 4, 12, 4, 12, 4, 12, 4, 12, 4, 12, 4, 12, 0, 10, 8, 0, 10, 4, 8, 0, 10, 4, 10, 12, 4, 0, 10, 12, 4, 12, 4, 12, 4, 12, 4, 12, 4, 12, 4, 12, 4, 12, 0, 10, 12, 4, 12, 4, 12, 4, 12, 4, 12, 4, 12, 4, 12, 4, 12, 0, 10, 12, 4, 12, 4, 12, 4, 12, 4, 12, 4, 12, 4, 12, 4, 12, 0, 10, 8, 0, 10, 4, 8, 0, 10, 4, 10, 12, 4, 0, 10, 12, 4, 12, 4, 12, 4, 12, 4, 12, 4, 12, 4], 'ICallYourName': [8, 5, 11, 2, 8, 5, 11, 0, 0, 5, 11, 4, 2, 8, 5, 11, 2, 8, 5, 11, 0, 0, 5, 11, 4, 2], 'CantBuyMeLove.2': [8, 0, 8, 0, 6, 12, 4, 4, 10, 4, 4, 12, 10, 12, 10, 4, 4, 4, 10, 4, 4, 12, 10, 12, 10, 4, 4, 8, 0, 10, 4, 8, 0, 6, 12, 4, 4, 10, 4, 12, 10, 12, 10, 4, 8, 0, 8, 0, 6, 12, 4], 'She Loves You': [4, 0, 6, 10, 4, 4, 0, 8, 12, 4, 0, 8, 12, 0, 10, 6, 12, 4, 0, 8, 12, 4, 0, 8, 12, 0, 10, 6, 12, 0, 6, 10, 12, 4, 4, 0, 8, 12, 4, 0, 8, 12, 0, 10, 6, 12, 4, 0, 6, 10, 4], 'IveJustSeenAFace': [12, 6, 8, 4, 6, 12, 6, 4, 12, 6, 12, 6, 4, 12, 6, 12, 6, 4, 12, 6, 12, 12, 6, 8, 4, 6, 12, 6, 4, 12, 6, 12, 6, 4, 12, 6, 12, 6, 4, 12, 6, 12], 'Yesterday': [4, 8, 8, 0, 12, 10, 12, 4, 12, 0, 6, 10, 4, 4, 8, 8, 0, 12, 10, 12, 4, 12, 0, 6, 10, 4, 8, 8, 0, 12, 10, 12, 4, 8, 8, 0, 12, 10, 12, 4, 4, 8, 8, 0, 12, 10, 12, 4, 12, 0, 6, 10, 4, 8, 8, 0, 12, 10, 12, 4, 8, 8, 0, 12, 10, 12, 4, 4, 8, 8, 0, 12, 10, 12, 4, 12, 0, 6, 10, 4, 12, 0, 6, 10, 4], \"Maxwell's Silver Hammer\": [6, 2, 8, 0, 6, 0, 6, 2, 8, 0, 6, 0, 8, 0, 6, 8, 0, 8, 0, 6, 6, 8, 0, 8, 0, 6, 6, 8, 0, 8, 0, 6], 'Here There and Everywhere': [10, 12, 0, 3, 10, 12, 0, 3, 8, 0, 8, 0, 6, 12, 12, 4, 10, 12, 0, 3, 10, 12, 0, 3, 8, 0, 8, 0, 6, 12, 12, 9, 1, 10, 3, 4, 10, 3, 4, 10, 12, 0, 3, 10, 12, 0, 3, 8, 0, 8, 0, 6, 12, 12, 4, 12, 10, 12, 0, 3, 10, 12, 0, 3, 10], 'TwistAndShout': [4, 10, 12, 10, 4, 10, 12, 10, 4, 10, 12, 10, 4, 10, 12, 10], 'Good Day Sunshine': [12, 6, 12, 6, 4, 10, 6, 12, 4, 10, 4, 10, 6, 12, 4, 10, 12, 6, 12, 6, 4, 12, 6, 12, 6, 12, 6, 12, 6, 12, 6], 'ItsOnlyLove': [4, 8, 3, 10, 12, 12, 12, 12, 10, 12, 4, 0, 3, 12, 4, 0, 3, 12, 10, 12, 10, 12, 10, 12, 4, 0, 4, 0], 'SomeOtherGuy': [0, 4, 6, 12, 6, 0, 6, 6, 12, 6, 0, 6, 6, 6, 6, 6, 0, 4, 6, 6], 'ImGonnaSitRightDownAndCryOverYou': [6, 4, 12, 4, 12, 6, 12, 4, 12, 4, 12, 4, 6, 12, 12, 4, 12, 6, 12, 4, 12, 4, 6, 12, 12, 4, 12, 6, 12, 12, 6, 12, 6, 4, 12, 4, 12, 6, 12, 4, 6, 12, 12], \"When I'm Sixty-Four\": [12, 6, 12, 12, 4, 9, 12, 8, 0, 6, 12, 8, 6, 8, 8, 2, 8, 0, 4, 6, 12], \"A Hard Day's Night\": [12, 4, 12, 10, 12, 4, 12, 10, 12, 4, 6, 12, 4, 12, 2, 8, 2, 12, 8, 4, 6, 12, 4, 12, 10, 12, 4, 12, 10, 12, 4, 6, 12, 4, 12, 12, 4, 12, 10, 12, 4, 12, 10, 12, 4, 6, 12, 4, 12, 12, 4, 12], 'The Long and Winding Road': [6, 11, 12, 6, 6, 12, 6, 2, 8, 0, 6, 6, 12, 6, 2, 8, 0, 6, 6, 11, 12, 6, 6, 12, 6, 2, 8, 0, 6, 6, 12, 6, 2, 8, 0, 6, 6, 12, 6, 8, 0, 6, 12, 6, 8, 0, 6, 11, 12, 6, 6, 12, 6, 2, 8, 0, 6, 6, 12, 6, 2, 8, 0, 6, 6, 12, 6, 8, 6, 12, 6, 8, 0, 6, 11, 12, 6, 6, 12, 6, 2, 8, 0, 6, 6, 12, 6, 2, 8, 0, 6], 'Nobody I Know': [4, 6, 12, 4, 6, 12, 4, 3, 12, 6, 12, 4, 8, 0, 1, 4, 6, 12, 4, 6, 12, 4, 6, 12, 4, 6, 12, 4, 0, 8, 0, 4, 0, 4, 6, 12, 4, 6, 12, 4, 6, 12, 4, 6, 12, 4, 3, 12, 6, 12, 4, 8, 0, 1, 4, 6, 12, 4, 6, 12, 4, 6, 12, 4, 6, 12, 4], 'Here Comes the Sun': [12, 4, 6, 12, 4, 6, 12, 4, 0, 12, 4, 12, 4, 12, 6, 12, 12], 'WhenImSixtyFour.2': [12, 6, 12, 4, 9, 12, 8, 0, 6, 12, 8, 8, 6, 8, 8, 8, 2, 8, 8, 0, 0, 4, 6, 12, 12, 12, 6, 12, 4, 9, 12, 8, 0, 6, 12, 8, 6, 8, 8, 8, 8, 2, 2, 8, 0, 0, 4, 6, 12, 12, 12, 6, 12, 4, 9, 12, 8, 0, 6, 12], 'All You Need Is Love': [12, 6, 8, 12, 6, 8, 6, 12, 6, 12, 6, 8, 12, 6, 8, 6, 12, 6, 12, 0, 6, 12, 0, 6, 12, 2, 8, 12, 4, 6, 4, 12, 6, 8, 12, 6, 8, 6, 12, 6, 12, 0, 6, 12, 0, 6, 12, 2, 8, 12, 4, 6, 4, 12, 0, 6, 12, 0, 6, 12, 2, 8, 12, 4, 6, 4], 'AskMeWhy': [8, 11, 13, 11, 8, 8, 11, 13, 11, 8, 13, 5, 0, 11, 2, 8, 11, 13, 11, 8, 8, 11, 13, 11, 8, 13, 5, 0, 8, 8, 0, 2, 8, 8, 0, 2, 8, 2, 8, 11, 13, 11, 13, 0, 8, 8, 8, 11, 13, 11, 8, 8, 11, 13, 11, 8, 13, 5, 0, 11, 2, 8, 11, 13, 11, 8, 8, 11, 13, 11, 8, 13, 5, 0, 8, 8, 0, 2, 8, 8, 0, 2, 8, 2, 8, 11, 13, 11, 13, 0, 8, 8], 'InMyLife': [12, 6, 12, 6, 12, 8, 12, 4, 4, 12, 12, 8, 12, 4, 4, 12, 8, 4, 10, 12, 8, 0, 4, 12, 6, 12, 8, 12, 4, 4, 12, 12, 8, 12, 4, 4, 12, 8, 4, 10, 12, 8, 0, 4, 12, 6, 12, 8, 12, 4, 4, 12, 12, 8, 12, 4, 4, 12, 8, 4, 10, 12, 8, 0, 4, 12, 6, 4, 12, 6, 6, 12], 'Lady Madonna': [8, 0, 8, 0, 8, 0, 8, 4, 6, 8, 0, 8, 0, 8, 0, 8, 4, 6, 8, 0, 6, 12, 8, 0, 6, 12, 0, 2, 8, 0, 8, 0, 8, 0, 8, 0, 8, 0, 8, 0, 8, 0, 8, 4, 6, 8, 0, 6, 12, 8, 0, 6, 12, 0, 2, 8, 0, 8, 0, 8, 0, 8, 0], 'Misery': [4, 10, 4, 10, 10, 12, 4, 0, 4, 10, 4, 10, 10, 12, 4, 0, 4, 0, 12, 12, 4, 10, 4, 10, 10, 12, 4, 0, 4, 10, 12, 4, 0, 4, 0, 4, 0], 'Eight Days A Week': [3, 4, 9, 3, 4, 9, 3, 12, 9, 12, 9, 3, 4, 9, 3, 3, 4, 9, 3, 4, 9, 3, 12, 9, 12, 9, 3, 4, 9, 3, 10, 12, 4, 9, 10, 3, 4, 9, 3, 4, 9, 3, 12, 9, 12, 9, 3, 4, 9, 3, 10, 12, 4, 9, 10], \"Can't Buy Me Love\": [13, 5, 13, 5, 11, 2, 8, 8, 0, 8, 2, 0, 2, 0, 8, 13, 5, 0, 8, 13, 5, 11, 2, 13, 5, 13, 5, 11, 2], 'Clarabella': [12, 12, 12, 4, 12, 6, 4, 12, 12, 12, 12, 4, 12, 6, 4, 12, 6, 12, 12, 4, 12, 6, 4, 12, 6, 12, 12, 12, 12], 'I Want To Hold Your Hand': [4, 12, 0, 8, 4, 12, 0, 8, 10, 12, 4, 0, 10, 12, 4, 6, 4, 10, 6, 6, 4, 10, 12, 10, 12, 10, 12], \"Baby's in black\": [8, 2, 0, 2, 8, 0, 8, 2, 8, 8, 0, 0, 8, 2, 8, 8, 2, 0, 2, 8, 0, 8, 2, 8, 8, 0, 0, 8, 2, 8, 5, 11, 0, 2, 8, 2, 0, 2, 8, 0, 8, 2, 8, 8, 0, 0, 8, 2, 8, 8, 2, 0, 2, 8, 0, 8, 2], 'AllMyLoving': [6, 12, 4, 0, 10, 6, 3, 12, 6, 12, 4, 0, 10, 12, 4, 0, 4, 4, 0, 4, 4, 0, 4, 4, 0, 4, 4, 0, 4, 4, 0, 4, 4], 'Golden Slumbers': [0, 6, 12, 4, 8, 0, 6, 12, 4, 10, 4, 10, 4, 8, 0, 6, 12, 4, 0, 6, 12, 4, 8, 0, 6, 12, 4, 10, 4, 10, 4, 8, 0, 6, 12, 4], 'IGotAWoman': [8, 2, 8, 0, 8, 0, 2, 8, 0, 8, 2, 8, 0, 8, 8, 2, 8, 0, 8, 0, 2, 8, 9, 8, 9, 8, 8, 9, 8, 9, 8, 8, 9, 8, 9, 8, 0, 2, 8, 0, 8, 0, 2, 8, 0, 8, 2, 8, 0, 8, 11, 2, 8, 0, 9, 8], 'LovelyRita': [2, 0, 2, 8, 6, 0, 8, 2, 5, 11, 2, 8, 0, 6, 12, 8, 2, 8, 5, 11, 2, 8, 6, 0, 8, 6, 5, 11, 2, 0, 13, 11, 8, 2, 8, 6, 0, 8, 2, 8, 11, 2, 2, 0, 2, 2, 0, 2], \"I'll Be Back\": [2, 0, 0, 4, 12, 10, 8, 0, 2, 0, 0, 4, 12, 10, 8, 0, 2, 0, 11, 2, 8, 2, 8, 2, 8, 0, 4, 12, 10, 8, 0, 2, 0, 0, 4, 12, 10, 8, 0, 2, 0, 2, 5, 11, 2, 2, 8, 2, 8, 2, 8, 0, 4, 12, 10, 8, 0, 2, 0, 0, 4, 12, 10, 8, 0, 2, 0, 11, 2, 8, 2, 8, 2, 8, 0, 4, 12, 10, 8, 0, 2, 0], 'NorwegianWood': [6, 6, 6, 4, 12, 6, 6, 6, 6, 4, 12, 6, 6, 12, 6, 8, 0, 6, 6, 6, 4, 12, 6, 6, 6, 6, 4, 12, 6, 6, 12, 6, 8, 0, 6, 6, 6, 4, 12, 6, 6, 6, 6, 4, 12, 6], 'ISawHerStandingThere': [0, 6, 0, 8, 0, 0, 6, 10, 0, 8, 0, 0, 6, 0, 8, 0, 0, 6, 10, 0, 8, 0, 6, 8, 0, 6, 0, 8, 0, 0, 6, 10, 0, 8, 0, 6, 8, 0, 6, 0, 8, 0, 0, 6, 10, 0, 8, 0, 0, 8, 0, 0, 8, 0], 'ComeTogether': [6, 6, 0, 12, 6, 6, 0, 12, 2, 12, 6, 6, 0, 12, 2, 12, 6, 6, 0, 12, 2], 'Cry Baby Cry': [12, 0, 10, 12, 8, 0, 10, 8, 8, 8, 8, 4, 12, 8, 8, 8, 8, 4, 12, 0, 10, 12, 8, 0, 10, 12, 12, 0, 10, 12, 8, 0, 10, 12, 12, 0, 10, 12, 8, 0, 10, 12, 12, 0, 10, 12, 8, 0, 10, 12, 12, 0, 10, 12, 0, 10, 12, 8, 0, 10, 8], 'PleasePleaseMe': [4, 10, 4, 10, 4, 10, 6, 0, 10, 4, 10, 12, 4, 10, 4, 10, 4, 10, 6, 0, 10, 4, 10, 12, 4, 10, 12, 4, 10, 4, 10, 12, 4, 10, 12, 4, 10, 4, 10, 4, 10, 6, 0, 10, 4, 10, 12, 4, 10, 12, 4, 10, 12, 4, 9, 6, 12, 4], 'Hide Your Love Away': [6, 0, 4, 12, 6, 12, 4, 12, 6, 0, 4, 12, 6, 12, 4, 12, 0, 6, 0, 4, 12, 6, 12, 4, 12, 6, 0, 4, 12, 6, 12, 4, 12, 0, 6, 12, 0, 6, 12, 0, 6, 0, 4, 12, 6, 12, 4, 12, 6, 0, 4, 12, 6, 12, 4, 12, 0, 6, 0, 4, 12, 6, 12, 4, 12, 6, 0, 4, 12, 6, 12, 4, 12, 0, 6, 12, 0, 6, 12, 0], 'Two Of Us': [12, 4, 4, 0, 12, 4, 4, 0, 12, 6, 12, 6, 12, 4, 12, 12, 4, 4, 0, 12, 4, 4, 0, 12, 6, 12, 6, 12, 4, 12, 6, 12, 0, 12, 0, 6, 12, 4, 4, 0, 12, 4, 4, 0, 12, 6, 12, 6, 12, 4, 12, 6, 12, 0, 12, 0, 6, 12, 4, 4, 0, 12, 4, 4, 0, 12, 6, 12, 6, 12, 4, 12], 'GettingBetter': [10, 4, 10, 12, 4, 12, 4, 12, 4, 12, 4, 12, 4, 12, 4, 12, 4, 12, 4, 12, 4, 10, 8, 10, 4, 10, 8, 10, 10, 12, 4, 12, 4, 12, 4, 12, 4, 12, 4, 12, 4, 12, 4, 12, 4, 12, 4, 10, 8, 10, 4, 10, 8, 10, 10, 12, 10, 4, 10, 4, 10, 4, 10, 4, 4, 4, 10, 8, 10, 4, 10, 8, 10, 12, 12, 12, 10, 4, 12, 10, 4, 10, 4, 10, 4, 10, 10, 4], 'Dear Prudence': [6, 6, 6, 6, 6, 6, 6, 6, 6, 6, 6, 6, 6, 6, 6, 6, 6, 6, 6, 6, 6, 6, 4, 12, 6, 6, 6, 6, 6, 6, 6, 6, 6, 6, 6, 6, 6, 6, 6, 6, 6, 6, 6, 6, 6, 6, 6, 6, 6, 6, 4, 12, 6, 6, 6, 6, 6, 12, 0, 12, 6, 12, 0, 12, 6, 10, 13, 12, 6, 6, 6, 6, 6, 6, 6, 6, 6, 6, 6, 6, 6, 6, 6, 6, 6, 6, 6, 6, 6, 6, 6, 4, 12, 6, 6, 6, 6], 'Nowhere Man': [6, 0, 12, 6, 12, 12, 6, 6, 0, 12, 6, 12, 12, 6, 11, 12, 11, 12, 11, 12, 0, 6, 0, 12, 6, 12, 12, 6, 6, 0, 12, 6, 12, 12, 6, 11, 12, 11, 12, 11, 12, 0, 6, 0, 12, 6, 12, 12, 12, 6, 12, 12, 6], 'Penny Lane': [12, 8, 0, 6, 12, 8, 12, 8, 9, 6, 4, 10, 0, 3, 10, 0, 3, 4, 6, 12, 2, 4, 12, 2, 4], 'AShotOfRythmAndBlues.chopro': [6, 0, 6, 12, 6, 0, 12, 0, 12, 12, 6, 12, 0, 6, 12, 6, 12, 0, 6, 12, 6, 12, 0, 0, 6, 0, 6, 0, 6, 0, 6, 0], 'Birthday': [0, 0, 6, 0, 8, 0, 0, 0, 6, 0, 8, 0, 8, 8, 8, 4, 12, 4, 12, 4, 12, 4, 12, 8, 0, 0, 4, 12, 4, 12, 4, 12, 4, 12, 8, 0, 0, 6, 0, 8, 0, 0, 0, 0], 'Michelle.2': [6, 12, 4, 2, 8, 0, 8, 0, 6, 12, 4, 2, 8, 0, 8, 0, 6, 4, 10, 3, 0, 6, 12, 6, 6, 6, 6, 12, 0, 6, 12, 4, 2, 8, 0, 8, 0, 6, 12, 4, 2, 8, 0, 8, 0], \"Octopus's Garden\": [10, 6, 3, 10, 4, 10, 6, 3, 10, 4, 6, 3, 4, 10, 6, 3, 4, 10], 'Back In The USSR': [0, 6, 4, 6, 0, 6, 4, 6, 6, 0, 4, 6, 6, 0, 6, 9, 8, 0, 6, 4, 6, 0, 6, 4, 6, 6, 0, 4, 6, 6, 0, 6, 9, 8, 6, 12, 0, 6, 0, 6, 11, 0, 2, 8, 6, 0, 0, 6, 4, 6, 0, 6, 4, 6, 6, 0, 4, 6, 6, 0, 6, 9, 8], 'OneAndOneIsTwo': [6, 12, 0, 6, 6, 12, 0, 6, 6, 12, 6, 0, 6, 12, 6, 0, 6, 6, 12, 0, 6, 6, 12, 0, 6, 6, 12, 6, 0, 6, 12, 6, 0, 6, 6, 12, 0, 6, 6, 12, 0, 6, 6, 12, 0, 6, 6, 12, 0, 6, 6, 12, 6, 0, 6, 12, 6, 0, 6, 6, 12, 0, 6, 6, 12, 0, 6], 'I Feel Fine': [6, 4, 12, 12, 6, 4, 12, 12, 6, 4, 12, 12, 2, 4, 6, 12, 2, 4, 6, 12, 6, 6, 4, 12, 6, 4, 12, 12, 2, 4, 6, 12, 2, 4, 6], 'AShotOfRythmAndBlues': [6, 0, 6, 12, 6, 0, 12, 0, 12, 12, 6, 12, 0, 6, 12, 6, 12, 0, 6, 12, 6, 12, 0, 0, 6, 0, 6, 0, 6, 0, 6, 0], 'ThatsAlrightMama': [0, 0, 6, 8, 0, 0, 6, 8, 0, 8, 0, 0], 'Lucy In The Sky With Diamonds': [0, 0, 6, 6, 0, 0, 6, 6, 12, 0, 0, 6, 6, 0, 0, 6, 6, 4, 3, 4, 10, 3, 4, 12, 6, 12, 4, 6, 12, 4, 6, 12, 4, 6, 6, 0, 12, 4, 6, 12, 4, 6, 12, 4, 6, 6, 0, 12, 4, 6, 12, 4, 6, 12, 4, 6, 6, 0], 'ObLaDiObLaDa': [12, 6, 12, 12, 4, 12, 6, 12, 12, 2, 8, 12, 6, 12, 12, 2, 8, 12, 6, 12, 12, 2, 8, 12, 6, 12, 12, 6, 12, 12, 4, 12, 6, 12, 12, 2, 8, 12, 6, 12, 4, 12, 4, 12, 6, 12, 6, 12, 12, 4, 12, 6, 12, 12, 2, 8, 12, 6, 12], 'Michelle': [2, 8, 0, 13, 11, 13, 11, 2, 8, 0, 13, 11, 13, 11, 2, 6, 12, 11, 2, 11, 2, 11, 2, 8, 2, 8, 11, 2, 8, 0, 13, 11, 13, 11, 2, 8, 0, 13, 11, 13, 11, 2, 8, 0, 13, 11, 13, 11, 2, 8, 0, 13, 11, 13, 11, 2, 8, 11, 2, 11, 2], 'Hey Jude': [10, 4, 4, 4, 4, 10, 3, 10, 4, 10, 10, 4, 4, 4, 4, 10, 3, 10, 4, 10, 10, 3, 12, 4, 10, 10, 3, 12, 4, 10, 10, 4, 10, 4, 4, 4, 4, 10, 3, 10, 4, 10, 10, 3, 12, 4, 10, 10, 3, 12, 4, 10, 10, 4, 10, 4, 4, 4, 4, 10, 3, 10, 4, 10, 10, 10, 9, 3, 10], 'TicketToRide': [0, 2, 8, 11, 6, 11, 12, 12, 13, 11, 8, 0, 11, 6, 11, 12, 12, 13, 11, 8, 0, 6, 8, 6, 8], 'AndILoveHer': [8, 2, 8, 2, 8, 2, 12, 0, 6, 8, 2, 8, 2, 8, 2, 12, 0, 6, 2, 6, 2, 0, 2, 0, 0, 8, 2, 8, 2, 8, 2, 12, 0, 6], 'KeepYourHandsOffMyBaby': [6, 12, 6, 12, 12, 8, 4, 6, 12, 8, 4, 6, 12, 4, 12, 8, 12, 8, 4, 6, 12, 4, 12, 12], \"I'm So Tired\": [0, 13, 6, 8, 0, 11, 6, 8, 0, 8, 11, 6, 0, 13, 6, 8, 0, 11, 6, 8, 0, 8, 11, 6, 0, 0, 8, 8, 6, 0, 0, 13, 6, 8, 0, 11, 6, 8, 0, 8, 11, 6, 0, 0, 8, 8, 6, 0], 'Girl': [0, 8, 4, 0, 6, 12, 4, 8, 0, 8, 4, 0, 6, 12, 4, 8, 4, 0, 6, 12, 4, 0, 6, 12, 0, 8, 4, 0, 6, 12, 4, 8, 0, 8, 4, 0, 6, 12, 4, 8, 4, 0, 6, 12, 4, 0, 6, 12, 6, 0, 6, 0, 6, 0, 6, 10, 4, 0, 6, 12, 4, 0, 6, 12, 0, 8, 4, 0, 6, 12, 4, 8, 0, 8, 4, 0, 6, 12, 4, 8, 4, 0, 6, 12, 4, 0, 6, 12], 'RockyRacoon': [0, 6, 12, 4, 4, 0, 6, 12, 4, 4, 0, 6, 12, 4, 4, 0, 6, 12, 4, 4, 0, 6, 12, 4, 4, 0, 6, 12, 4, 4, 0, 6, 12, 4, 4], \"When I'm Sixty Four\": [4, 12, 12, 4, 4, 4, 10, 1, 4, 0, 6, 12, 4, 0, 12, 0, 4, 12, 12, 4, 4, 4, 10, 1, 4, 0, 6, 12, 4, 0, 12, 0, 8, 0, 6, 10, 12, 4, 4, 12, 12, 4, 4, 4, 10, 1, 4, 0, 6, 12, 4, 8, 0, 6, 10, 12, 4, 12, 4, 10, 12, 4], 'Drive My Car': [0, 6, 0, 6, 0, 6, 8, 8, 11, 0, 2, 4, 2, 0, 11, 0, 2, 4, 2, 0, 11, 0, 2, 8, 0, 6, 0, 6, 0, 6, 8, 8, 11, 0, 2, 4, 2, 0, 11, 0, 2, 4, 2, 0, 11, 0, 2, 8, 11, 0, 2, 4, 2, 0, 11, 0, 2, 4, 2, 0, 11, 0, 2, 8, 0, 6, 0, 6, 0, 6, 8, 8, 8, 11, 0, 2, 4, 2, 0, 11, 0, 2, 4, 2, 0, 11, 0, 2, 8], \"I'm Looking Through You\": [12, 4, 12, 0, 8, 6, 6, 6, 12, 4, 12, 0, 8, 6, 6, 6, 8, 0, 12, 4, 6, 12, 4, 12, 0, 4, 12, 12, 4, 12, 4, 12, 4, 12, 4, 12, 0, 8, 6, 6, 6, 12, 4, 12, 0, 8, 6, 6, 6, 8, 0, 12, 4, 6, 12, 4, 12, 0, 4, 12, 12, 4, 12, 4, 12, 4, 4, 12, 4, 12, 6, 12, 4, 12, 0, 8, 6, 6, 6, 12, 4, 12, 0, 8, 6, 6, 6, 8, 0, 12, 4, 6, 12, 4, 12, 0, 4, 12, 12, 4, 12, 4, 12, 4, 4, 12, 4, 12, 6], 'While My Guitar Gently Weeps': [0, 0, 0, 10, 0, 12, 6, 8, 0, 0, 0, 10, 0, 12, 4, 8, 0, 5, 11, 5, 2, 8, 8, 0, 5, 11, 5, 2, 8, 8, 0, 0, 0, 10, 0, 12, 6, 8, 0, 0, 0, 10, 0, 12, 6, 8]}\n"
     ]
    }
   ],
   "source": [
    "finalChordDict = {}\n",
    "for song in songDict:\n",
    "        chordArray = songDict[song]\n",
    "        if len(chordArray) < 10:\n",
    "            print('Chords are too short, ignoring the song ' + song)\n",
    "        else:   \n",
    "            finalChordDict[song] = mapChordNamesToIndexes(chordArray)\n",
    "        \n",
    "print(finalChordDict)"
   ]
  },
  {
   "cell_type": "markdown",
   "id": "3030bbd2",
   "metadata": {},
   "source": [
    "### Create feature and target arrays for training\n",
    "\n",
    "Here we create functions for two strategy \n",
    "\n",
    "First one is using a fixed length for each song and using this array of a song in the feature array. This is the function **getFeaturesAndTargetsOfFlatSong**\n",
    "\n",
    "Second approach is to use window length and hop length in order to slice the chords of the songs and use each window as the feature arrays. By default, second option is selected. This is the function **getFeaturesAndTargetsByWindowAndHop**"
   ]
  },
  {
   "cell_type": "code",
   "execution_count": 18,
   "id": "44e64f09",
   "metadata": {},
   "outputs": [],
   "source": [
    "def getFeatureAndTargetArrForEachWindow(chords, windowLength, hopSize, index):\n",
    "    featureArray = chords[index: index + windowLength]\n",
    "    targetArray = chords[index + windowLength: index + windowLength + 1]\n",
    "    return featureArray, targetArray"
   ]
  },
  {
   "cell_type": "code",
   "execution_count": 19,
   "id": "b81a9a37",
   "metadata": {},
   "outputs": [],
   "source": [
    "def getFeaturesAndTargetsByWindowAndHop(chordsDictionary, windowSize, hopSize):\n",
    "    features = np.empty((0, windowSize), dtype=np.ndarray)\n",
    "    targets = np.empty((0, 1), dtype=np.ndarray)\n",
    "    for song in chordsDictionary:\n",
    "        chordArray = chordsDictionary[song]\n",
    "        if len(chordArray) < windowSize + 1:\n",
    "            print('Chords are shorter than number of targets so skipping the song: ' + song)\n",
    "            continue\n",
    "        indexProcessed = 0\n",
    "        while len(chordArray) - indexProcessed > windowSize + 1:\n",
    "            featureArr, targetArray = getFeatureAndTargetArrForEachWindow(chordArray, windowSize, hopSize, indexProcessed)\n",
    "            featureArr = np.array(featureArr).reshape(1, len(featureArr))\n",
    "            features = np.append(features, featureArr, axis=0)\n",
    "            targetArray = np.array(targetArray).reshape(1, len(targetArray))\n",
    "            targets = np.append(targets, targetArray, axis=0)\n",
    "            indexProcessed = indexProcessed + hopSize\n",
    "\n",
    "    features = np.array(features)\n",
    "    targets = np.array(targets)\n",
    "    print(features.shape)\n",
    "    print(targets.shape)\n",
    "    print('Slicing the song chords is done!')\n",
    "    return features, targets"
   ]
  },
  {
   "cell_type": "code",
   "execution_count": 20,
   "id": "841ebca1",
   "metadata": {},
   "outputs": [],
   "source": [
    "def fillChordArraysUntilDesiredLength(chordArr, desiredLength):\n",
    "    finalArr = np.zeros(desiredLength, dtype=int)\n",
    "    chordLength = len(chordArr)\n",
    "    if chordLength < desiredLength:\n",
    "        print('Chords are shorter than number of targets so repeating the chords: ' + song)\n",
    "        quotient, remainder = divmod(desiredLength, chordLength) \n",
    "        print(str(chordLength) + \" quotient \" + str(quotient) + \" remainder \" + str(remainder))\n",
    "        for step in range(quotient):\n",
    "            finalArr[step*chordLength:(step+1)*chordLength] = chordArr\n",
    "        finalArr[chordLength*quotient: desiredLength] = chordArr[0:remainder]\n",
    "        print(len(finalArr))\n",
    "    elif chordLength > desiredLength:\n",
    "        finalArr = chordArr[0: desiredLength]\n",
    "    else:\n",
    "        finalArr = chordArr\n",
    "    print(len(finalArr))\n",
    "    print(finalArr)\n",
    "    return finalArr"
   ]
  },
  {
   "cell_type": "code",
   "execution_count": 21,
   "id": "2728170b",
   "metadata": {},
   "outputs": [],
   "source": [
    "def getFeaturesAndTargetsOfFlatSong(chordsDictionary, desiredFeatureLength):\n",
    "    features = np.zeros((len(chordsDictionary),desiredFeatureLength), dtype=int)\n",
    "    targets = np.zeros((len(chordsDictionary),1), dtype=int)\n",
    "    for i, song in enumerate(chordsDictionary):\n",
    "        chordArray = chordsDictionary[song] \n",
    "        finalChords = fillChordArraysUntilDesiredLength(chordArray, desiredFeatureLength+1)\n",
    "        features[i:] = finalChords[0:desiredFeatureLength]\n",
    "        targets[i:] = finalChords[desiredFeatureLength:desiredFeatureLength+1]\n",
    "    print(features.shape)\n",
    "    print(targets.shape)\n",
    "    print('Slicing the song chords is done!')\n",
    "    return features, targets"
   ]
  },
  {
   "cell_type": "markdown",
   "id": "6dd3b159",
   "metadata": {},
   "source": [
    "Here we define which approach we want to train our model with. Alternatively, you can comment out getFeaturesAndTargetsByWindowAndHop function and use getFeaturesAndTargetsOfFlatSong. \n",
    "\n",
    "**featureLength** variable decides the fixed length of the arrays and used by getFeaturesAndTargetsOfFlatSong function.\n",
    "\n",
    "**windowSize** and **hopSize** variables are used by getFeaturesAndTargetsByWindowAndHop functiona and decides the window and hop sizes while slicing the chords."
   ]
  },
  {
   "cell_type": "code",
   "execution_count": 22,
   "id": "4f666a68",
   "metadata": {},
   "outputs": [
    {
     "name": "stdout",
     "output_type": "stream",
     "text": [
      "Chords are shorter than number of targets so skipping the song: TwistAndShout\n",
      "Chords are shorter than number of targets so skipping the song: ThatsAlrightMama\n",
      "(1596, 16)\n",
      "(1596, 1)\n",
      "Slicing the song chords is done!\n",
      "(1596, 16)\n",
      "(1596, 1)\n"
     ]
    }
   ],
   "source": [
    "windowSize = 16\n",
    "hopSize = 2\n",
    "\n",
    "featureLength = 50\n",
    "\n",
    "featureArr, targetArr = getFeaturesAndTargetsByWindowAndHop(finalChordDict, windowSize, hopSize)\n",
    "#featureArr, targetArr = getFeaturesAndTargetsOfFlatSong(finalChordDict, featureLength)\n",
    "print(featureArr.shape)\n",
    "print(targetArr.shape)"
   ]
  },
  {
   "cell_type": "markdown",
   "id": "69551b42",
   "metadata": {},
   "source": [
    "## Training Support Vector Machine Regression model"
   ]
  },
  {
   "cell_type": "code",
   "execution_count": 23,
   "id": "358cc55b",
   "metadata": {},
   "outputs": [],
   "source": [
    "from sklearn.model_selection import train_test_split\n",
    "from sklearn.gaussian_process import GaussianProcessRegressor\n",
    "from sklearn.gaussian_process.kernels import RBF\n",
    "from sklearn import svm\n",
    "import sklearn\n",
    "import pandas as pd"
   ]
  },
  {
   "cell_type": "markdown",
   "id": "e85d12aa",
   "metadata": {},
   "source": [
    "Here we first flatten the targets array and later we split the data by using %30 approach as test and training data."
   ]
  },
  {
   "cell_type": "code",
   "execution_count": 24,
   "id": "31d69cb7",
   "metadata": {},
   "outputs": [],
   "source": [
    "targets = pd.Series(targetArr.flatten())"
   ]
  },
  {
   "cell_type": "code",
   "execution_count": 25,
   "id": "0dd65db7",
   "metadata": {},
   "outputs": [],
   "source": [
    "featuresTrain, featuresTest, targetTrain, targetTest = train_test_split(featureArr, targets, test_size=0.3, random_state=4)\n"
   ]
  },
  {
   "cell_type": "markdown",
   "id": "98d03b44",
   "metadata": {},
   "source": [
    "Here we create a function which trains the SVR and returns the regression model. Later we will train many models and compare the performance by using this function.\n",
    "\n",
    "We also have a timer in the training function which logs the training time."
   ]
  },
  {
   "cell_type": "code",
   "execution_count": 26,
   "id": "c40ba775",
   "metadata": {},
   "outputs": [],
   "source": [
    "def trainAndGetSVRModel(valueC, valueEpsilon, kernel, featuresTrain, targetTrain):\n",
    "    startTime = time.time()\n",
    "    regr = svm.SVR(C=valueC, epsilon=valueEpsilon, kernel=kernel)\n",
    "    regr.fit(featuresTrain, targetTrain)\n",
    "    endTime = time.time()\n",
    "    timeSpent = endTime - startTime\n",
    "    print(f\"Time spent for the training is: {timeSpent:.4f} seconds, for values: \" + str(valueC) + \" epsilon: \" + str(valueEpsilon) + \" kernel \" + kernel)\n",
    "    return regr"
   ]
  },
  {
   "cell_type": "markdown",
   "id": "6ac822d1",
   "metadata": {},
   "source": [
    "**getErrorValues** function returns a row of different type of error values for the predicted values. This method used in order to print a table of different results."
   ]
  },
  {
   "cell_type": "code",
   "execution_count": 27,
   "id": "ccce91c1",
   "metadata": {},
   "outputs": [],
   "source": [
    "def getErrorValues(targetTest, targetPredicted, paramName, paramValue):\n",
    "    return { paramName: paramValue,\n",
    "            'Mean Squared Err': '%.4f'% sklearn.metrics.mean_squared_error(targetTest, targetPredicted),\n",
    "            'Mean Abs Err':  '%.4f'% sklearn.metrics.mean_absolute_error(targetTest, targetPredicted),\n",
    "            'Max Err':  '%.4f'% sklearn.metrics.max_error(targetTest, targetPredicted),\n",
    "            'Median Abs Err':  '%.4f'% sklearn.metrics.median_absolute_error(targetTest, targetPredicted),\n",
    "            'R2 score':  '%.4f'% sklearn.metrics.r2_score(targetTest, targetPredicted),\n",
    "            'Variance score':  '%.4f'% sklearn.metrics.explained_variance_score(targetTest, targetPredicted)}"
   ]
  },
  {
   "cell_type": "markdown",
   "id": "f3b29c3f",
   "metadata": {},
   "source": [
    "In this cell we define a styling for our tables so that we can see the difference between errors better and compare better."
   ]
  },
  {
   "cell_type": "code",
   "execution_count": 28,
   "id": "2f13540b",
   "metadata": {},
   "outputs": [],
   "source": [
    "def highlight(value):\n",
    "        return 'border: 1px solid black; padding: 5px'\n",
    "    \n",
    "def getDfWithStyle(df):\n",
    "    return df.style.applymap(highlight)"
   ]
  },
  {
   "cell_type": "markdown",
   "id": "8b25fe5a",
   "metadata": {},
   "source": [
    "#### Now we train our models with different C values from 0.05 to 50."
   ]
  },
  {
   "cell_type": "code",
   "execution_count": 29,
   "id": "1b529476",
   "metadata": {},
   "outputs": [
    {
     "name": "stdout",
     "output_type": "stream",
     "text": [
      "Time spent for the training is: 0.0807 seconds, for values: 0.05 epsilon: 0.001 kernel rbf\n",
      "Time spent for the training is: 0.0783 seconds, for values: 0.1 epsilon: 0.001 kernel rbf\n",
      "Time spent for the training is: 0.0835 seconds, for values: 1.0 epsilon: 0.001 kernel rbf\n",
      "Time spent for the training is: 0.1277 seconds, for values: 10.0 epsilon: 0.001 kernel rbf\n",
      "Time spent for the training is: 0.3128 seconds, for values: 50.0 epsilon: 0.001 kernel rbf\n"
     ]
    }
   ],
   "source": [
    "targetPredicted1 = trainAndGetSVRModel(0.05, 0.001, 'rbf', featuresTrain, targetTrain).predict(featuresTest)\n",
    "targetPredicted2 = trainAndGetSVRModel(0.10, 0.001, 'rbf', featuresTrain, targetTrain).predict(featuresTest)\n",
    "targetPredicted3 = trainAndGetSVRModel(1.0, 0.001, 'rbf', featuresTrain, targetTrain).predict(featuresTest)\n",
    "targetPredicted4 = trainAndGetSVRModel(10.0, 0.001, 'rbf', featuresTrain, targetTrain).predict(featuresTest)\n",
    "targetPredicted5 = trainAndGetSVRModel(50.0, 0.001, 'rbf', featuresTrain, targetTrain).predict(featuresTest)"
   ]
  },
  {
   "cell_type": "code",
   "execution_count": 30,
   "id": "7ebb7822",
   "metadata": {},
   "outputs": [
    {
     "data": {
      "text/html": [
       "<style type=\"text/css\">\n",
       "#T_89e84_row0_col0, #T_89e84_row0_col1, #T_89e84_row0_col2, #T_89e84_row0_col3, #T_89e84_row0_col4, #T_89e84_row0_col5, #T_89e84_row0_col6, #T_89e84_row1_col0, #T_89e84_row1_col1, #T_89e84_row1_col2, #T_89e84_row1_col3, #T_89e84_row1_col4, #T_89e84_row1_col5, #T_89e84_row1_col6, #T_89e84_row2_col0, #T_89e84_row2_col1, #T_89e84_row2_col2, #T_89e84_row2_col3, #T_89e84_row2_col4, #T_89e84_row2_col5, #T_89e84_row2_col6, #T_89e84_row3_col0, #T_89e84_row3_col1, #T_89e84_row3_col2, #T_89e84_row3_col3, #T_89e84_row3_col4, #T_89e84_row3_col5, #T_89e84_row3_col6, #T_89e84_row4_col0, #T_89e84_row4_col1, #T_89e84_row4_col2, #T_89e84_row4_col3, #T_89e84_row4_col4, #T_89e84_row4_col5, #T_89e84_row4_col6 {\n",
       "  border: 1px solid black;\n",
       "  padding: 5px;\n",
       "}\n",
       "</style>\n",
       "<table id=\"T_89e84\">\n",
       "  <thead>\n",
       "    <tr>\n",
       "      <th class=\"blank level0\" >&nbsp;</th>\n",
       "      <th id=\"T_89e84_level0_col0\" class=\"col_heading level0 col0\" >C Value</th>\n",
       "      <th id=\"T_89e84_level0_col1\" class=\"col_heading level0 col1\" >Mean Squared Err</th>\n",
       "      <th id=\"T_89e84_level0_col2\" class=\"col_heading level0 col2\" >Mean Abs Err</th>\n",
       "      <th id=\"T_89e84_level0_col3\" class=\"col_heading level0 col3\" >Max Err</th>\n",
       "      <th id=\"T_89e84_level0_col4\" class=\"col_heading level0 col4\" >Median Abs Err</th>\n",
       "      <th id=\"T_89e84_level0_col5\" class=\"col_heading level0 col5\" >R2 score</th>\n",
       "      <th id=\"T_89e84_level0_col6\" class=\"col_heading level0 col6\" >Variance score</th>\n",
       "    </tr>\n",
       "  </thead>\n",
       "  <tbody>\n",
       "    <tr>\n",
       "      <th id=\"T_89e84_level0_row0\" class=\"row_heading level0 row0\" >0</th>\n",
       "      <td id=\"T_89e84_row0_col0\" class=\"data row0 col0\" >0.05</td>\n",
       "      <td id=\"T_89e84_row0_col1\" class=\"data row0 col1\" >16.2660</td>\n",
       "      <td id=\"T_89e84_row0_col2\" class=\"data row0 col2\" >3.3697</td>\n",
       "      <td id=\"T_89e84_row0_col3\" class=\"data row0 col3\" >7.0794</td>\n",
       "      <td id=\"T_89e84_row0_col4\" class=\"data row0 col4\" >3.0793</td>\n",
       "      <td id=\"T_89e84_row0_col5\" class=\"data row0 col5\" >0.0170</td>\n",
       "      <td id=\"T_89e84_row0_col6\" class=\"data row0 col6\" >0.0253</td>\n",
       "    </tr>\n",
       "    <tr>\n",
       "      <th id=\"T_89e84_level0_row1\" class=\"row_heading level0 row1\" >1</th>\n",
       "      <td id=\"T_89e84_row1_col0\" class=\"data row1 col0\" >0.10</td>\n",
       "      <td id=\"T_89e84_row1_col1\" class=\"data row1 col1\" >15.8620</td>\n",
       "      <td id=\"T_89e84_row1_col2\" class=\"data row1 col2\" >3.3386</td>\n",
       "      <td id=\"T_89e84_row1_col3\" class=\"data row1 col3\" >7.1592</td>\n",
       "      <td id=\"T_89e84_row1_col4\" class=\"data row1 col4\" >3.1594</td>\n",
       "      <td id=\"T_89e84_row1_col5\" class=\"data row1 col5\" >0.0414</td>\n",
       "      <td id=\"T_89e84_row1_col6\" class=\"data row1 col6\" >0.0478</td>\n",
       "    </tr>\n",
       "    <tr>\n",
       "      <th id=\"T_89e84_level0_row2\" class=\"row_heading level0 row2\" >2</th>\n",
       "      <td id=\"T_89e84_row2_col0\" class=\"data row2 col0\" >1.00</td>\n",
       "      <td id=\"T_89e84_row2_col1\" class=\"data row2 col1\" >14.3619</td>\n",
       "      <td id=\"T_89e84_row2_col2\" class=\"data row2 col2\" >3.1093</td>\n",
       "      <td id=\"T_89e84_row2_col3\" class=\"data row2 col3\" >9.1094</td>\n",
       "      <td id=\"T_89e84_row2_col4\" class=\"data row2 col4\" >2.9239</td>\n",
       "      <td id=\"T_89e84_row2_col5\" class=\"data row2 col5\" >0.1321</td>\n",
       "      <td id=\"T_89e84_row2_col6\" class=\"data row2 col6\" >0.1334</td>\n",
       "    </tr>\n",
       "    <tr>\n",
       "      <th id=\"T_89e84_level0_row3\" class=\"row_heading level0 row3\" >3</th>\n",
       "      <td id=\"T_89e84_row3_col0\" class=\"data row3 col0\" >10.00</td>\n",
       "      <td id=\"T_89e84_row3_col1\" class=\"data row3 col1\" >14.8128</td>\n",
       "      <td id=\"T_89e84_row3_col2\" class=\"data row3 col2\" >2.9338</td>\n",
       "      <td id=\"T_89e84_row3_col3\" class=\"data row3 col3\" >12.0922</td>\n",
       "      <td id=\"T_89e84_row3_col4\" class=\"data row3 col4\" >2.5114</td>\n",
       "      <td id=\"T_89e84_row3_col5\" class=\"data row3 col5\" >0.1048</td>\n",
       "      <td id=\"T_89e84_row3_col6\" class=\"data row3 col6\" >0.1052</td>\n",
       "    </tr>\n",
       "    <tr>\n",
       "      <th id=\"T_89e84_level0_row4\" class=\"row_heading level0 row4\" >4</th>\n",
       "      <td id=\"T_89e84_row4_col0\" class=\"data row4 col0\" >50.00</td>\n",
       "      <td id=\"T_89e84_row4_col1\" class=\"data row4 col1\" >17.6650</td>\n",
       "      <td id=\"T_89e84_row4_col2\" class=\"data row4 col2\" >3.1051</td>\n",
       "      <td id=\"T_89e84_row4_col3\" class=\"data row4 col3\" >13.5373</td>\n",
       "      <td id=\"T_89e84_row4_col4\" class=\"data row4 col4\" >2.4461</td>\n",
       "      <td id=\"T_89e84_row4_col5\" class=\"data row4 col5\" >-0.0675</td>\n",
       "      <td id=\"T_89e84_row4_col6\" class=\"data row4 col6\" >-0.0662</td>\n",
       "    </tr>\n",
       "  </tbody>\n",
       "</table>\n"
      ],
      "text/plain": [
       "<pandas.io.formats.style.Styler at 0x7fd4d71e2a00>"
      ]
     },
     "metadata": {},
     "output_type": "display_data"
    }
   ],
   "source": [
    "dataC = getErrorValues(targetTest, targetPredicted1, 'C Value', '0.05')\n",
    "resultCDf = pd.DataFrame(dataC, index=[0])\n",
    "resultCDf.loc[len(resultCDf)] = getErrorValues(targetTest, targetPredicted2, \"C Value\", '0.10')\n",
    "resultCDf.loc[len(resultCDf)] = getErrorValues(targetTest, targetPredicted3, \"C Value\", '1.00')\n",
    "resultCDf.loc[len(resultCDf)] = getErrorValues(targetTest, targetPredicted4, \"C Value\", '10.00')\n",
    "resultCDf.loc[len(resultCDf)] = getErrorValues(targetTest, targetPredicted5, \"C Value\", '50.00')\n",
    "\n",
    "display(getDfWithStyle(resultCDf))"
   ]
  },
  {
   "cell_type": "markdown",
   "id": "9a5d8ac5",
   "metadata": {},
   "source": [
    "#### Now we train the models with different kernel functions"
   ]
  },
  {
   "cell_type": "code",
   "execution_count": 31,
   "id": "369a8cce",
   "metadata": {},
   "outputs": [
    {
     "name": "stdout",
     "output_type": "stream",
     "text": [
      "Time spent for the training is: 0.0830 seconds, for values: 1.0 epsilon: 0.001 kernel rbf\n",
      "Time spent for the training is: 0.4960 seconds, for values: 1.0 epsilon: 0.001 kernel linear\n",
      "Time spent for the training is: 0.1971 seconds, for values: 1.0 epsilon: 0.001 kernel poly\n",
      "Time spent for the training is: 0.1000 seconds, for values: 1.0 epsilon: 0.001 kernel sigmoid\n"
     ]
    }
   ],
   "source": [
    "targetPredictedByRbf = trainAndGetSVRModel(1.0, 0.001, 'rbf', featuresTrain, targetTrain).predict(featuresTest)\n",
    "targetPredictedByLinear = trainAndGetSVRModel(1.0, 0.001, 'linear', featuresTrain, targetTrain).predict(featuresTest)\n",
    "targetPredictedByPoly = trainAndGetSVRModel(1.0, 0.001, 'poly', featuresTrain, targetTrain).predict(featuresTest)\n",
    "targetPredictedBySigmoid = trainAndGetSVRModel(1.0, 0.001, 'sigmoid', featuresTrain, targetTrain).predict(featuresTest)\n"
   ]
  },
  {
   "cell_type": "code",
   "execution_count": 32,
   "id": "24df9449",
   "metadata": {
    "scrolled": true
   },
   "outputs": [
    {
     "data": {
      "text/html": [
       "<style type=\"text/css\">\n",
       "#T_bcc2d_row0_col0, #T_bcc2d_row0_col1, #T_bcc2d_row0_col2, #T_bcc2d_row0_col3, #T_bcc2d_row0_col4, #T_bcc2d_row0_col5, #T_bcc2d_row0_col6, #T_bcc2d_row1_col0, #T_bcc2d_row1_col1, #T_bcc2d_row1_col2, #T_bcc2d_row1_col3, #T_bcc2d_row1_col4, #T_bcc2d_row1_col5, #T_bcc2d_row1_col6, #T_bcc2d_row2_col0, #T_bcc2d_row2_col1, #T_bcc2d_row2_col2, #T_bcc2d_row2_col3, #T_bcc2d_row2_col4, #T_bcc2d_row2_col5, #T_bcc2d_row2_col6, #T_bcc2d_row3_col0, #T_bcc2d_row3_col1, #T_bcc2d_row3_col2, #T_bcc2d_row3_col3, #T_bcc2d_row3_col4, #T_bcc2d_row3_col5, #T_bcc2d_row3_col6 {\n",
       "  border: 1px solid black;\n",
       "  padding: 5px;\n",
       "}\n",
       "</style>\n",
       "<table id=\"T_bcc2d\">\n",
       "  <thead>\n",
       "    <tr>\n",
       "      <th class=\"blank level0\" >&nbsp;</th>\n",
       "      <th id=\"T_bcc2d_level0_col0\" class=\"col_heading level0 col0\" >Kernel Value</th>\n",
       "      <th id=\"T_bcc2d_level0_col1\" class=\"col_heading level0 col1\" >Mean Squared Err</th>\n",
       "      <th id=\"T_bcc2d_level0_col2\" class=\"col_heading level0 col2\" >Mean Abs Err</th>\n",
       "      <th id=\"T_bcc2d_level0_col3\" class=\"col_heading level0 col3\" >Max Err</th>\n",
       "      <th id=\"T_bcc2d_level0_col4\" class=\"col_heading level0 col4\" >Median Abs Err</th>\n",
       "      <th id=\"T_bcc2d_level0_col5\" class=\"col_heading level0 col5\" >R2 score</th>\n",
       "      <th id=\"T_bcc2d_level0_col6\" class=\"col_heading level0 col6\" >Variance score</th>\n",
       "    </tr>\n",
       "  </thead>\n",
       "  <tbody>\n",
       "    <tr>\n",
       "      <th id=\"T_bcc2d_level0_row0\" class=\"row_heading level0 row0\" >0</th>\n",
       "      <td id=\"T_bcc2d_row0_col0\" class=\"data row0 col0\" >rbf</td>\n",
       "      <td id=\"T_bcc2d_row0_col1\" class=\"data row0 col1\" >14.3619</td>\n",
       "      <td id=\"T_bcc2d_row0_col2\" class=\"data row0 col2\" >3.1093</td>\n",
       "      <td id=\"T_bcc2d_row0_col3\" class=\"data row0 col3\" >9.1094</td>\n",
       "      <td id=\"T_bcc2d_row0_col4\" class=\"data row0 col4\" >2.9239</td>\n",
       "      <td id=\"T_bcc2d_row0_col5\" class=\"data row0 col5\" >0.1321</td>\n",
       "      <td id=\"T_bcc2d_row0_col6\" class=\"data row0 col6\" >0.1334</td>\n",
       "    </tr>\n",
       "    <tr>\n",
       "      <th id=\"T_bcc2d_level0_row1\" class=\"row_heading level0 row1\" >1</th>\n",
       "      <td id=\"T_bcc2d_row1_col0\" class=\"data row1 col0\" >linear</td>\n",
       "      <td id=\"T_bcc2d_row1_col1\" class=\"data row1 col1\" >14.8588</td>\n",
       "      <td id=\"T_bcc2d_row1_col2\" class=\"data row1 col2\" >3.1918</td>\n",
       "      <td id=\"T_bcc2d_row1_col3\" class=\"data row1 col3\" >9.1935</td>\n",
       "      <td id=\"T_bcc2d_row1_col4\" class=\"data row1 col4\" >3.2074</td>\n",
       "      <td id=\"T_bcc2d_row1_col5\" class=\"data row1 col5\" >0.1021</td>\n",
       "      <td id=\"T_bcc2d_row1_col6\" class=\"data row1 col6\" >0.1036</td>\n",
       "    </tr>\n",
       "    <tr>\n",
       "      <th id=\"T_bcc2d_level0_row2\" class=\"row_heading level0 row2\" >2</th>\n",
       "      <td id=\"T_bcc2d_row2_col0\" class=\"data row2 col0\" >poly</td>\n",
       "      <td id=\"T_bcc2d_row2_col1\" class=\"data row2 col1\" >15.4463</td>\n",
       "      <td id=\"T_bcc2d_row2_col2\" class=\"data row2 col2\" >3.1165</td>\n",
       "      <td id=\"T_bcc2d_row2_col3\" class=\"data row2 col3\" >11.3957</td>\n",
       "      <td id=\"T_bcc2d_row2_col4\" class=\"data row2 col4\" >2.7576</td>\n",
       "      <td id=\"T_bcc2d_row2_col5\" class=\"data row2 col5\" >0.0666</td>\n",
       "      <td id=\"T_bcc2d_row2_col6\" class=\"data row2 col6\" >0.0686</td>\n",
       "    </tr>\n",
       "    <tr>\n",
       "      <th id=\"T_bcc2d_level0_row3\" class=\"row_heading level0 row3\" >3</th>\n",
       "      <td id=\"T_bcc2d_row3_col0\" class=\"data row3 col0\" >sigmoid</td>\n",
       "      <td id=\"T_bcc2d_row3_col1\" class=\"data row3 col1\" >254.0218</td>\n",
       "      <td id=\"T_bcc2d_row3_col2\" class=\"data row3 col2\" >11.5175</td>\n",
       "      <td id=\"T_bcc2d_row3_col3\" class=\"data row3 col3\" >63.0430</td>\n",
       "      <td id=\"T_bcc2d_row3_col4\" class=\"data row3 col4\" >8.4900</td>\n",
       "      <td id=\"T_bcc2d_row3_col5\" class=\"data row3 col5\" >-14.3509</td>\n",
       "      <td id=\"T_bcc2d_row3_col6\" class=\"data row3 col6\" >-13.7441</td>\n",
       "    </tr>\n",
       "  </tbody>\n",
       "</table>\n"
      ],
      "text/plain": [
       "<pandas.io.formats.style.Styler at 0x7fd4d71b7580>"
      ]
     },
     "metadata": {},
     "output_type": "display_data"
    }
   ],
   "source": [
    "dataKernel = getErrorValues(targetTest, targetPredictedByRbf, 'Kernel Value', 'rbf')\n",
    "resultKernelDf = pd.DataFrame(dataKernel, index=[0])\n",
    "resultKernelDf.loc[len(resultKernelDf)] = getErrorValues(targetTest, targetPredictedByLinear, 'Kernel Value','linear')\n",
    "resultKernelDf.loc[len(resultKernelDf)] = getErrorValues(targetTest, targetPredictedByPoly, 'Kernel Value', 'poly')\n",
    "resultKernelDf.loc[len(resultKernelDf)] = getErrorValues(targetTest, targetPredictedBySigmoid, 'Kernel Value', 'sigmoid')\n",
    "\n",
    "display(getDfWithStyle(resultKernelDf))\n"
   ]
  },
  {
   "cell_type": "markdown",
   "id": "e2e823f2",
   "metadata": {},
   "source": [
    "#### Now we train the models with different epsilon values from 0.001 to 0.1"
   ]
  },
  {
   "cell_type": "code",
   "execution_count": 33,
   "id": "c252c843",
   "metadata": {},
   "outputs": [
    {
     "name": "stdout",
     "output_type": "stream",
     "text": [
      "Time spent for the training is: 0.0831 seconds, for values: 1.0 epsilon: 0.001 kernel rbf\n",
      "Time spent for the training is: 0.1142 seconds, for values: 1.0 epsilon: 0.005 kernel rbf\n",
      "Time spent for the training is: 0.0820 seconds, for values: 1.0 epsilon: 0.01 kernel rbf\n",
      "Time spent for the training is: 0.0788 seconds, for values: 1.0 epsilon: 0.05 kernel rbf\n",
      "Time spent for the training is: 0.0773 seconds, for values: 1.0 epsilon: 0.1 kernel rbf\n"
     ]
    }
   ],
   "source": [
    "targetPredictedByEps1 = trainAndGetSVRModel(1.0, 0.001, 'rbf', featuresTrain, targetTrain).predict(featuresTest)\n",
    "targetPredictedByEps2 = trainAndGetSVRModel(1.0, 0.005, 'rbf', featuresTrain, targetTrain).predict(featuresTest)\n",
    "targetPredictedByEps3 = trainAndGetSVRModel(1.0, 0.010, 'rbf', featuresTrain, targetTrain).predict(featuresTest)\n",
    "targetPredictedByEps4 = trainAndGetSVRModel(1.0, 0.050, 'rbf', featuresTrain, targetTrain).predict(featuresTest)\n",
    "targetPredictedByEps5 = trainAndGetSVRModel(1.0, 0.100, 'rbf', featuresTrain, targetTrain).predict(featuresTest)\n"
   ]
  },
  {
   "cell_type": "code",
   "execution_count": 34,
   "id": "56649e95",
   "metadata": {},
   "outputs": [
    {
     "data": {
      "text/html": [
       "<style type=\"text/css\">\n",
       "#T_2a693_row0_col0, #T_2a693_row0_col1, #T_2a693_row0_col2, #T_2a693_row0_col3, #T_2a693_row0_col4, #T_2a693_row0_col5, #T_2a693_row0_col6, #T_2a693_row1_col0, #T_2a693_row1_col1, #T_2a693_row1_col2, #T_2a693_row1_col3, #T_2a693_row1_col4, #T_2a693_row1_col5, #T_2a693_row1_col6, #T_2a693_row2_col0, #T_2a693_row2_col1, #T_2a693_row2_col2, #T_2a693_row2_col3, #T_2a693_row2_col4, #T_2a693_row2_col5, #T_2a693_row2_col6, #T_2a693_row3_col0, #T_2a693_row3_col1, #T_2a693_row3_col2, #T_2a693_row3_col3, #T_2a693_row3_col4, #T_2a693_row3_col5, #T_2a693_row3_col6, #T_2a693_row4_col0, #T_2a693_row4_col1, #T_2a693_row4_col2, #T_2a693_row4_col3, #T_2a693_row4_col4, #T_2a693_row4_col5, #T_2a693_row4_col6 {\n",
       "  border: 1px solid black;\n",
       "  padding: 5px;\n",
       "}\n",
       "</style>\n",
       "<table id=\"T_2a693\">\n",
       "  <thead>\n",
       "    <tr>\n",
       "      <th class=\"blank level0\" >&nbsp;</th>\n",
       "      <th id=\"T_2a693_level0_col0\" class=\"col_heading level0 col0\" >Epsilon Value</th>\n",
       "      <th id=\"T_2a693_level0_col1\" class=\"col_heading level0 col1\" >Mean Squared Err</th>\n",
       "      <th id=\"T_2a693_level0_col2\" class=\"col_heading level0 col2\" >Mean Abs Err</th>\n",
       "      <th id=\"T_2a693_level0_col3\" class=\"col_heading level0 col3\" >Max Err</th>\n",
       "      <th id=\"T_2a693_level0_col4\" class=\"col_heading level0 col4\" >Median Abs Err</th>\n",
       "      <th id=\"T_2a693_level0_col5\" class=\"col_heading level0 col5\" >R2 score</th>\n",
       "      <th id=\"T_2a693_level0_col6\" class=\"col_heading level0 col6\" >Variance score</th>\n",
       "    </tr>\n",
       "  </thead>\n",
       "  <tbody>\n",
       "    <tr>\n",
       "      <th id=\"T_2a693_level0_row0\" class=\"row_heading level0 row0\" >0</th>\n",
       "      <td id=\"T_2a693_row0_col0\" class=\"data row0 col0\" >0.001</td>\n",
       "      <td id=\"T_2a693_row0_col1\" class=\"data row0 col1\" >14.3619</td>\n",
       "      <td id=\"T_2a693_row0_col2\" class=\"data row0 col2\" >3.1093</td>\n",
       "      <td id=\"T_2a693_row0_col3\" class=\"data row0 col3\" >9.1094</td>\n",
       "      <td id=\"T_2a693_row0_col4\" class=\"data row0 col4\" >2.9239</td>\n",
       "      <td id=\"T_2a693_row0_col5\" class=\"data row0 col5\" >0.1321</td>\n",
       "      <td id=\"T_2a693_row0_col6\" class=\"data row0 col6\" >0.1334</td>\n",
       "    </tr>\n",
       "    <tr>\n",
       "      <th id=\"T_2a693_level0_row1\" class=\"row_heading level0 row1\" >1</th>\n",
       "      <td id=\"T_2a693_row1_col0\" class=\"data row1 col0\" >0.005</td>\n",
       "      <td id=\"T_2a693_row1_col1\" class=\"data row1 col1\" >14.3616</td>\n",
       "      <td id=\"T_2a693_row1_col2\" class=\"data row1 col2\" >3.1093</td>\n",
       "      <td id=\"T_2a693_row1_col3\" class=\"data row1 col3\" >9.1078</td>\n",
       "      <td id=\"T_2a693_row1_col4\" class=\"data row1 col4\" >2.9212</td>\n",
       "      <td id=\"T_2a693_row1_col5\" class=\"data row1 col5\" >0.1321</td>\n",
       "      <td id=\"T_2a693_row1_col6\" class=\"data row1 col6\" >0.1335</td>\n",
       "    </tr>\n",
       "    <tr>\n",
       "      <th id=\"T_2a693_level0_row2\" class=\"row_heading level0 row2\" >2</th>\n",
       "      <td id=\"T_2a693_row2_col0\" class=\"data row2 col0\" >0.010</td>\n",
       "      <td id=\"T_2a693_row2_col1\" class=\"data row2 col1\" >14.3613</td>\n",
       "      <td id=\"T_2a693_row2_col2\" class=\"data row2 col2\" >3.1093</td>\n",
       "      <td id=\"T_2a693_row2_col3\" class=\"data row2 col3\" >9.1060</td>\n",
       "      <td id=\"T_2a693_row2_col4\" class=\"data row2 col4\" >2.9205</td>\n",
       "      <td id=\"T_2a693_row2_col5\" class=\"data row2 col5\" >0.1321</td>\n",
       "      <td id=\"T_2a693_row2_col6\" class=\"data row2 col6\" >0.1335</td>\n",
       "    </tr>\n",
       "    <tr>\n",
       "      <th id=\"T_2a693_level0_row3\" class=\"row_heading level0 row3\" >3</th>\n",
       "      <td id=\"T_2a693_row3_col0\" class=\"data row3 col0\" >0.050</td>\n",
       "      <td id=\"T_2a693_row3_col1\" class=\"data row3 col1\" >14.3608</td>\n",
       "      <td id=\"T_2a693_row3_col2\" class=\"data row3 col2\" >3.1103</td>\n",
       "      <td id=\"T_2a693_row3_col3\" class=\"data row3 col3\" >9.0837</td>\n",
       "      <td id=\"T_2a693_row3_col4\" class=\"data row3 col4\" >2.9396</td>\n",
       "      <td id=\"T_2a693_row3_col5\" class=\"data row3 col5\" >0.1322</td>\n",
       "      <td id=\"T_2a693_row3_col6\" class=\"data row3 col6\" >0.1335</td>\n",
       "    </tr>\n",
       "    <tr>\n",
       "      <th id=\"T_2a693_level0_row4\" class=\"row_heading level0 row4\" >4</th>\n",
       "      <td id=\"T_2a693_row4_col0\" class=\"data row4 col0\" >0.100</td>\n",
       "      <td id=\"T_2a693_row4_col1\" class=\"data row4 col1\" >14.3643</td>\n",
       "      <td id=\"T_2a693_row4_col2\" class=\"data row4 col2\" >3.1116</td>\n",
       "      <td id=\"T_2a693_row4_col3\" class=\"data row4 col3\" >9.0454</td>\n",
       "      <td id=\"T_2a693_row4_col4\" class=\"data row4 col4\" >2.9217</td>\n",
       "      <td id=\"T_2a693_row4_col5\" class=\"data row4 col5\" >0.1319</td>\n",
       "      <td id=\"T_2a693_row4_col6\" class=\"data row4 col6\" >0.1332</td>\n",
       "    </tr>\n",
       "  </tbody>\n",
       "</table>\n"
      ],
      "text/plain": [
       "<pandas.io.formats.style.Styler at 0x7fd4d55a48e0>"
      ]
     },
     "metadata": {},
     "output_type": "display_data"
    }
   ],
   "source": [
    "dataEpsion = getErrorValues(targetTest, targetPredictedByEps1, \"Epsilon Value\", '0.001')\n",
    "resultEpsilonDf = pd.DataFrame(dataEpsion, index=[0])\n",
    "resultEpsilonDf.loc[len(resultEpsilonDf)] = getErrorValues(targetTest, targetPredictedByEps2, \"Epsilon Value\", '0.005')\n",
    "resultEpsilonDf.loc[len(resultEpsilonDf)] = getErrorValues(targetTest, targetPredictedByEps3, \"Epsilon Value\", '0.010')\n",
    "resultEpsilonDf.loc[len(resultEpsilonDf)] = getErrorValues(targetTest, targetPredictedByEps4, \"Epsilon Value\", '0.050')\n",
    "resultEpsilonDf.loc[len(resultEpsilonDf)] = getErrorValues(targetTest, targetPredictedByEps5, \"Epsilon Value\", '0.100')\n",
    "\n",
    "display(getDfWithStyle(resultEpsilonDf))\n"
   ]
  },
  {
   "cell_type": "markdown",
   "id": "92f42175",
   "metadata": {},
   "source": [
    "## Train and Predict next n chords for given song\n",
    "\n",
    "In this chapter, we will use the best performed values in the previous trainings and train a model with the feature and target arrays we extracted from The Beatles.\n",
    "\n",
    "The goal is getting a song and composing a new chorus for the song by using this model.\n",
    "\n",
    "First we need a function to fit the chords played before chorus in the song to our feature array rows. The function **prepareSongForPrediction** gets the chords played before the chorus, whole chords of the song and the feature length. \n",
    "\n",
    "If there is not enough chords played before the chorus, we add chords using the chords in the song starting by the end of the song. \n",
    "If the chords played before chorus is longer than our feature length, then we throw the chords away from the beginning."
   ]
  },
  {
   "cell_type": "code",
   "execution_count": 35,
   "id": "635f5c85",
   "metadata": {},
   "outputs": [],
   "source": [
    "def prepareSongForPrediction(beginningChords, fullChords, featureSize):\n",
    "    finalArr = np.zeros((1, featureSize), dtype=int)\n",
    "    lengthOfBeginning = len(beginningChords)\n",
    "    lengthOfFullSong = len(fullChords)\n",
    "    if lengthOfBeginning < featureSize:\n",
    "        chordArray = np.zeros(featureSize, dtype=int)\n",
    "        print('Beginning chords are shorter than number of features, repeating the chords')\n",
    "        chordArray[featureSize-lengthOfBeginning:featureSize] = beginningChords\n",
    "        if featureSize-lengthOfBeginning <= lengthOfFullSong:\n",
    "            lengthToAdd = featureSize-lengthOfBeginning\n",
    "            chordArray[0:lengthToAdd] = fullChords[lengthOfFullSong-lengthToAdd:lengthOfFullSong]\n",
    "            chordArray[lengthToAdd:featureSize] = beginningChords\n",
    "        else:\n",
    "            quotient, remainder = divmod(featureSize-lengthOfBeginning, lengthOfFullSong) \n",
    "            print(quotient)\n",
    "            print(remainder)\n",
    "            chordArray[0:remainder] = chordArray[lengthOfFullSong-remainder:lengthOfFullSong]\n",
    "            for step in range(quotient):\n",
    "                start = remainder + step*lengthOfFullSong\n",
    "                end = remainder + (step+1)*lengthOfFullSong\n",
    "                chordArray[start:end] = fullChords\n",
    "        finalArr[0:featureSize] = chordArray\n",
    "    elif lengthOfBeginning > featureSize:\n",
    "        finalArr[0:featureSize] = beginningChords[lengthOfBeginning-featureSize: lengthOfBeginning]\n",
    "    else:\n",
    "        finalArr[0:featureSize] = beginningChords\n",
    "    print('Chords are ready for prediction.')\n",
    "    return finalArr"
   ]
  },
  {
   "cell_type": "markdown",
   "id": "f08713c7",
   "metadata": {},
   "source": [
    "#### Now we train the SVMR with C value of 1.0, epsilon of 0.001 and kernel of rbf"
   ]
  },
  {
   "cell_type": "code",
   "execution_count": 36,
   "id": "28c4bcc5",
   "metadata": {
    "scrolled": true
   },
   "outputs": [
    {
     "name": "stdout",
     "output_type": "stream",
     "text": [
      "Time spent for the training is: 0.0873 seconds, for values: 1.0 epsilon: 0.001 kernel rbf\n"
     ]
    }
   ],
   "source": [
    "regression = trainAndGetSVRModel(1.0, 0.001, 'rbf', featuresTrain, targetTrain)"
   ]
  },
  {
   "cell_type": "markdown",
   "id": "2acded57",
   "metadata": {},
   "source": [
    "Here we decide which song we like to compose the chorus for. We can change the song name by changing the **songFileName**.\n",
    "\n",
    "Later we create a Song object with the ChordPro file and we extract the full chords, the chords played before the chorus and the original chorus of the song.\n",
    "\n",
    "In order to use the song for prediction, we need to map the chord names to integer again by using the same functions before."
   ]
  },
  {
   "cell_type": "code",
   "execution_count": 37,
   "id": "03a9b986",
   "metadata": {
    "scrolled": false
   },
   "outputs": [
    {
     "name": "stdout",
     "output_type": "stream",
     "text": [
      "./data/chordpro/ObLaDiObLaDa.chopro\n",
      "Beginning chords are shorter than number of features, repeating the chords\n",
      "Chords are ready for prediction.\n"
     ]
    }
   ],
   "source": [
    "#songFileName = 'AllYouNeedIsLove.chopro'\n",
    "#songFileName = 'StrawberryFieldsForever.2.chopro'\n",
    "songFileName = 'ObLaDiObLaDa.chopro'\n",
    "\n",
    "songToGenerate = Song(pathOfChordTxtFiles + songFileName)\n",
    "fullChords = songToGenerate.getChords()\n",
    "chordsBeforeChorus = songToGenerate.getChordsBeforeChorus()\n",
    "\n",
    "chordsBeforeChorusInt = mapChordNamesToIndexes(chordsBeforeChorus)\n",
    "fullChordsInt = mapChordNamesToIndexes(fullChords)\n",
    "\n",
    "featureOfSong = prepareSongForPrediction(chordsBeforeChorusInt, fullChordsInt, windowSize)"
   ]
  },
  {
   "cell_type": "markdown",
   "id": "188e630c",
   "metadata": {},
   "source": [
    "In this step, our feature array fronm the chosen song is ready to be used by the regression. \n",
    "\n",
    "We use **generatePredictedChords** function in order to call the predict function and add each chord predicted to the end of the chords played before the chorus. Every time we add the prediction to the end and remove a chord from the beginning. So that every prediction will be done on the chords together with predicted ones."
   ]
  },
  {
   "cell_type": "code",
   "execution_count": 38,
   "id": "c4c3a838",
   "metadata": {},
   "outputs": [],
   "source": [
    "def generatePredictedChords(regr, beginningChords, chordsLengthToPredict):\n",
    "    featureArrLength = len(beginningChords[0:])\n",
    "    predictedChords = np.zeros(chordsLengthToPredict, dtype=int)\n",
    "    for i in range(chordsLengthToPredict):\n",
    "        nextValue = int(regr.predict(beginningChords))\n",
    "        predictedChords[i] = nextValue\n",
    "        beginningChords = np.roll(beginningChords, -1, axis=1)\n",
    "        beginningChords[:, -1] = nextValue\n",
    "        print(beginningChords)\n",
    "    print('Done, chords predicted: ')\n",
    "    print(predictedChords)\n",
    "    return predictedChords"
   ]
  },
  {
   "cell_type": "markdown",
   "id": "b0f3dc55",
   "metadata": {},
   "source": [
    "Now we run the functions and print both the original chorus and composed chorus by regression."
   ]
  },
  {
   "cell_type": "code",
   "execution_count": 39,
   "id": "a9a08f9c",
   "metadata": {
    "scrolled": true
   },
   "outputs": [
    {
     "name": "stdout",
     "output_type": "stream",
     "text": [
      "[[12 12  2  8 12  6 12 12  6 12 12  4 12  6 12  6]]\n",
      "[[12  2  8 12  6 12 12  6 12 12  4 12  6 12  6  6]]\n",
      "[[ 2  8 12  6 12 12  6 12 12  4 12  6 12  6  6  7]]\n",
      "[[ 8 12  6 12 12  6 12 12  4 12  6 12  6  6  7  8]]\n",
      "[[12  6 12 12  6 12 12  4 12  6 12  6  6  7  8  6]]\n",
      "[[ 6 12 12  6 12 12  4 12  6 12  6  6  7  8  6  7]]\n",
      "Done, chords predicted: \n",
      "[6 6 7 8 6 7]\n",
      "Original chorus:  ['G', 'Bm', 'Em', 'G', 'D7', 'G']\n",
      "Composed chorus:  ['D', 'D', 'D#', 'E', 'D', 'D#']\n"
     ]
    }
   ],
   "source": [
    "chorus = songToGenerate.getChorus()\n",
    "chorusLengthToPredict = len(chorus)\n",
    "\n",
    "composedChords = generatePredictedChords(regression, featureOfSong, chorusLengthToPredict)\n",
    "chordNamesOfComposition = mapIndexesToChordNames(composedChords)\n",
    "\n",
    "print('Original chorus: ', chorus)\n",
    "print('Composed chorus: ', chordNamesOfComposition)\n"
   ]
  },
  {
   "cell_type": "markdown",
   "id": "7df970cb",
   "metadata": {},
   "source": [
    "### Lets listen the midi file of composed chords"
   ]
  },
  {
   "cell_type": "markdown",
   "id": "4e1613e9",
   "metadata": {},
   "source": [
    "Lets convert the composition to a listenable format. In this case we will create a Acoustic Grand Piano which plays the chords where each chord is played for 500 milliseconds. \n",
    "\n",
    "The output will be saved as a midi file with the name of the song together with '-composed-chorus.mid' and it can be found and listened under the composed_midi folder."
   ]
  },
  {
   "cell_type": "code",
   "execution_count": 40,
   "id": "33265a92",
   "metadata": {},
   "outputs": [],
   "source": [
    "from pychord import Chord\n",
    "import pretty_midi\n",
    "\n",
    "\n",
    "def createMidi(chordNamesOfComposition, songFileName):\n",
    "    chords = [Chord(c) for c in chordNamesOfComposition]\n",
    "    midi = pretty_midi.PrettyMIDI()\n",
    "    pianoProgram = pretty_midi.instrument_name_to_program('Acoustic Grand Piano')\n",
    "    piano = pretty_midi.Instrument(program=pianoProgram)\n",
    "    length = 1\n",
    "    for n, chord in enumerate(chords):\n",
    "        for noteName in chord.components_with_pitch(root_pitch=4):\n",
    "            noteNumber = pretty_midi.note_name_to_number(noteName)\n",
    "            note = pretty_midi.Note(velocity=100, pitch=noteNumber, start=n * length, end=(n + 1) * length)\n",
    "            piano.notes.append(note)\n",
    "    midi.instruments.append(piano)\n",
    "    midi.write('./composed_midi/' + songFileName+ '-composed-chorus.mid')\n",
    "\n",
    "\n",
    "createMidi(chordNamesOfComposition, songFileName)"
   ]
  },
  {
   "cell_type": "markdown",
   "id": "5d22a7b6",
   "metadata": {},
   "source": [
    "## Create an Http POST API\n",
    "\n",
    "In order to examine the SVMR for real time algorithmic composition purposes, I have created an HTTP POST API.\n",
    "\n",
    "In order to use the API, providing a flat array of chord names and the length of the new composed chords are the only values needed.\n",
    "\n",
    "The API uses the chord array for training a new model by using window length of 16 and hop size of 2 and runs predictions for the same array.\n",
    "\n",
    "The composed chords are returned as the response in array of chord names. In live coding or other algorithmic composition performances, this API can be called iteratively many times as it is responsing very quickly.\n",
    "\n",
    "Also for us to listen, I have also created a midi file of piano instrument playing the chords in the api. So after the api is run, the idi file named composedArray can be listened."
   ]
  },
  {
   "cell_type": "code",
   "execution_count": 41,
   "id": "8ba66c98",
   "metadata": {},
   "outputs": [],
   "source": [
    "def trainAndGenerateChords(chordArrayToTrain, numberOfResultsToPredict):\n",
    "    windowSize = 16\n",
    "    hopSize = 2\n",
    "    \n",
    "    dictOfSong = {\"songName\": chordArrayToTrain}\n",
    "    featureArr, targetArr = getFeaturesAndTargetsByWindowAndHop(dictOfSong, windowSize, hopSize)\n",
    "    targets = pd.Series(targetArr.flatten())\n",
    "    featuresTrain, featuresTest, targetTrain, targetTest = train_test_split(featureArr, targets, test_size=0.3, random_state=4)\n",
    "    \n",
    "    regression = trainAndGetSVRModel(1.00, 0.001, 'rbf', featuresTrain, targetTrain)\n",
    "    \n",
    "    arrayForPrediction = prepareSongForPrediction(chordArrayToTrain, chordArrayToTrain, windowSize)\n",
    "    composedChords = generatePredictedChords(regression, arrayForPrediction, numberOfResultsToPredict)\n",
    "\n",
    "    return mapIndexesToChordNames(composedChords)\n",
    "    "
   ]
  },
  {
   "cell_type": "code",
   "execution_count": 42,
   "id": "03845a15",
   "metadata": {},
   "outputs": [],
   "source": [
    "def trainAndCheckErrorValues(chordArrayToTrain, numberOfResultsToPredict):\n",
    "    windowSize = 16\n",
    "    hopSize = 2\n",
    "    \n",
    "    dictOfSong = {\"songName\": chordArrayToTrain}\n",
    "    featureArr, targetArr = getFeaturesAndTargetsByWindowAndHop(dictOfSong, windowSize, hopSize)\n",
    "    targets = pd.Series(targetArr.flatten())\n",
    "    featuresTrain, featuresTest, targetTrain, targetTest = train_test_split(featureArr, targets, test_size=0.3, random_state=4)\n",
    "    \n",
    "    regression = trainAndGetSVRModel(1.00, 0.001, 'rbf', featuresTrain, targetTrain)\n",
    "    targetsPredicted = regression.predict(featuresTest)\n",
    "    \n",
    "    resultApiDf = pd.DataFrame(getErrorValues(targetTest, targetsPredicted, 'Api composed', ''), index=[0])\n",
    "    display(getDfWithStyle(resultApiDf))\n",
    "    \n",
    "    arrayForPrediction = prepareSongForPrediction(chordArrayToTrain, chordArrayToTrain, windowSize)\n",
    "    composedChords = generatePredictedChords(regression, arrayForPrediction, numberOfResultsToPredict)\n",
    "\n",
    "    return mapIndexesToChordNames(composedChords)"
   ]
  },
  {
   "cell_type": "code",
   "execution_count": null,
   "id": "acf216b0",
   "metadata": {},
   "outputs": [
    {
     "name": "stdout",
     "output_type": "stream",
     "text": [
      " * Serving Flask app '__main__'\n",
      " * Debug mode: off\n"
     ]
    },
    {
     "name": "stderr",
     "output_type": "stream",
     "text": [
      "\u001b[31m\u001b[1mWARNING: This is a development server. Do not use it in a production deployment. Use a production WSGI server instead.\u001b[0m\n",
      " * Running on http://127.0.0.1:5000\n",
      "\u001b[33mPress CTRL+C to quit\u001b[0m\n"
     ]
    },
    {
     "name": "stdout",
     "output_type": "stream",
     "text": [
      "Api trainAndGenerate is called!\n",
      "(25, 16)\n",
      "(25, 1)\n",
      "Slicing the song chords is done!\n",
      "Time spent for the training is: 0.0010 seconds, for values: 1.0 epsilon: 0.001 kernel rbf\n"
     ]
    },
    {
     "data": {
      "text/html": [
       "<style type=\"text/css\">\n",
       "#T_49789_row0_col0, #T_49789_row0_col1, #T_49789_row0_col2, #T_49789_row0_col3, #T_49789_row0_col4, #T_49789_row0_col5, #T_49789_row0_col6 {\n",
       "  border: 1px solid black;\n",
       "  padding: 5px;\n",
       "}\n",
       "</style>\n",
       "<table id=\"T_49789\">\n",
       "  <thead>\n",
       "    <tr>\n",
       "      <th class=\"blank level0\" >&nbsp;</th>\n",
       "      <th id=\"T_49789_level0_col0\" class=\"col_heading level0 col0\" >Api composed</th>\n",
       "      <th id=\"T_49789_level0_col1\" class=\"col_heading level0 col1\" >Mean Squared Err</th>\n",
       "      <th id=\"T_49789_level0_col2\" class=\"col_heading level0 col2\" >Mean Abs Err</th>\n",
       "      <th id=\"T_49789_level0_col3\" class=\"col_heading level0 col3\" >Max Err</th>\n",
       "      <th id=\"T_49789_level0_col4\" class=\"col_heading level0 col4\" >Median Abs Err</th>\n",
       "      <th id=\"T_49789_level0_col5\" class=\"col_heading level0 col5\" >R2 score</th>\n",
       "      <th id=\"T_49789_level0_col6\" class=\"col_heading level0 col6\" >Variance score</th>\n",
       "    </tr>\n",
       "  </thead>\n",
       "  <tbody>\n",
       "    <tr>\n",
       "      <th id=\"T_49789_level0_row0\" class=\"row_heading level0 row0\" >0</th>\n",
       "      <td id=\"T_49789_row0_col0\" class=\"data row0 col0\" ></td>\n",
       "      <td id=\"T_49789_row0_col1\" class=\"data row0 col1\" >18.7589</td>\n",
       "      <td id=\"T_49789_row0_col2\" class=\"data row0 col2\" >3.8559</td>\n",
       "      <td id=\"T_49789_row0_col3\" class=\"data row0 col3\" >6.3381</td>\n",
       "      <td id=\"T_49789_row0_col4\" class=\"data row0 col4\" >4.7689</td>\n",
       "      <td id=\"T_49789_row0_col5\" class=\"data row0 col5\" >0.0621</td>\n",
       "      <td id=\"T_49789_row0_col6\" class=\"data row0 col6\" >0.0696</td>\n",
       "    </tr>\n",
       "  </tbody>\n",
       "</table>\n"
      ],
      "text/plain": [
       "<pandas.io.formats.style.Styler at 0x7fd4d965a550>"
      ]
     },
     "metadata": {},
     "output_type": "display_data"
    },
    {
     "name": "stderr",
     "output_type": "stream",
     "text": [
      "127.0.0.1 - - [02/May/2023 10:35:20] \"POST /trainAndGenerate HTTP/1.1\" 200 -\n"
     ]
    },
    {
     "name": "stdout",
     "output_type": "stream",
     "text": [
      "Chords are ready for prediction.\n",
      "[[ 6  4 12  0  6 12  0  6 12  2  8 12  4  6  4  6]]\n",
      "[[ 4 12  0  6 12  0  6 12  2  8 12  4  6  4  6  6]]\n",
      "[[12  0  6 12  0  6 12  2  8 12  4  6  4  6  6  6]]\n",
      "[[ 0  6 12  0  6 12  2  8 12  4  6  4  6  6  6  8]]\n",
      "[[ 6 12  0  6 12  2  8 12  4  6  4  6  6  6  8  6]]\n",
      "[[12  0  6 12  2  8 12  4  6  4  6  6  6  8  6  6]]\n",
      "[[ 0  6 12  2  8 12  4  6  4  6  6  6  8  6  6  7]]\n",
      "[[ 6 12  2  8 12  4  6  4  6  6  6  8  6  6  7  6]]\n",
      "Done, chords predicted: \n",
      "[6 6 6 8 6 6 7 6]\n",
      "Time spent for the  training and prediction is: 0.0173 seconds\n"
     ]
    }
   ],
   "source": [
    "from flask import Flask, jsonify, request\n",
    "\n",
    "app = Flask(__name__)\n",
    "\n",
    "@app.route('/trainAndGenerate', methods=['POST'])\n",
    "def trainSVRAndGenerateComposition():\n",
    "    print('Api trainAndGenerate is called!')\n",
    "    startTime = time.time()\n",
    "    inputArrayOfChords = []\n",
    "    numberOfResultsToPredict = 0\n",
    "    try:\n",
    "        data = request.json\n",
    "        inputArrayOfChords = data['chordArayToTrain']\n",
    "        numberOfResultsToPredict = data['numberOfResultsToPredict']\n",
    "    except:\n",
    "        print(\"An exception occurred\")\n",
    "        raise ValueError(\"Chords should be provided in a string array of chordArayToTrain\")\n",
    "    \n",
    "    inputArrayOfChords = mapChordNamesToIndexes(inputArrayOfChords)\n",
    "    #chordNamesOfComposition = trainAndGenerateChords(inputArrayOfChords, numberOfResultsToPredict)\n",
    "    chordNamesOfComposition = trainAndCheckErrorValues(inputArrayOfChords, numberOfResultsToPredict)\n",
    "    \n",
    "    endTime = time.time()\n",
    "    timeSpent = endTime - startTime\n",
    "    print(f\"Time spent for the  training and prediction is: {timeSpent:.4f} seconds\")\n",
    "    createMidi(chordNamesOfComposition, 'api composition')\n",
    "    return jsonify({'composedArray': chordNamesOfComposition})\n",
    "\n",
    "if __name__ == '__main__':\n",
    "    app.run(port=5000)"
   ]
  },
  {
   "cell_type": "code",
   "execution_count": null,
   "id": "2956f422",
   "metadata": {},
   "outputs": [],
   "source": []
  }
 ],
 "metadata": {
  "kernelspec": {
   "display_name": "Python 3 (ipykernel)",
   "language": "python",
   "name": "python3"
  },
  "language_info": {
   "codemirror_mode": {
    "name": "ipython",
    "version": 3
   },
   "file_extension": ".py",
   "mimetype": "text/x-python",
   "name": "python",
   "nbconvert_exporter": "python",
   "pygments_lexer": "ipython3",
   "version": "3.9.16"
  }
 },
 "nbformat": 4,
 "nbformat_minor": 5
}
