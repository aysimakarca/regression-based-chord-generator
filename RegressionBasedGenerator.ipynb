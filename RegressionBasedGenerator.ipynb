{
 "cells": [
  {
   "cell_type": "markdown",
   "id": "f867164f",
   "metadata": {},
   "source": [
    "# REGRESSION FOR ALGORITHMIC MUSIC COMPOSITION"
   ]
  },
  {
   "cell_type": "markdown",
   "id": "c356cf85",
   "metadata": {},
   "source": [
    "## Extracting chords from ChordPro files of The Beatles Songs.\n",
    "\n",
    "In this chapter, the functions used for parsing ChordPro files were defined. An organized library version of the functions also can be found in the repository: https://github.com/aysimakarca/chordpro. \n",
    "\n",
    "Data used was collected from http://getsome.org/guitar/olga/chordpro/b/Beatles/"
   ]
  },
  {
   "cell_type": "code",
   "execution_count": 1,
   "id": "c08ae51e",
   "metadata": {},
   "outputs": [],
   "source": [
    "import re\n",
    "import os\n",
    "import numpy as np\n",
    "import matplotlib.pyplot as plt\n",
    "import time\n",
    "from pychord import Chord"
   ]
  },
  {
   "cell_type": "markdown",
   "id": "76889dc3",
   "metadata": {},
   "source": [
    "Here we define the unique note names as the limited characters which an chord can start with."
   ]
  },
  {
   "cell_type": "code",
   "execution_count": 2,
   "id": "10845a6e",
   "metadata": {},
   "outputs": [],
   "source": [
    "uniqueChordNames = [\"A\",\"B\", \"C\", \"D\", \"E\", \"F\", \"G\"]       \n"
   ]
  },
  {
   "cell_type": "markdown",
   "id": "0d2804c8",
   "metadata": {},
   "source": [
    "The functions below are part of ChordPro parsing features. Here we extract special information like chorus, intro, title, key and using them in the creation of Song object below. "
   ]
  },
  {
   "cell_type": "code",
   "execution_count": 3,
   "id": "1666e42b",
   "metadata": {},
   "outputs": [],
   "source": [
    "def readChordProFile(chordProFile):\n",
    "    with open(chordProFile, 'r') as file:\n",
    "        print(chordProFile)\n",
    "        content = file.read()\n",
    "        return content"
   ]
  },
  {
   "cell_type": "code",
   "execution_count": 4,
   "id": "d9db19ca",
   "metadata": {},
   "outputs": [],
   "source": [
    "def cleanChords(chords):\n",
    "    finalChords = []\n",
    "    for chord in chords:\n",
    "        chord = chord.replace(\"H\", \"B\")\n",
    "        chord = chord.replace(\"b\", \"-\")\n",
    "        chord = chord.replace(\"min\", \"m\")\n",
    "        chord = chord.replace(\"maj\", \"\")\n",
    "        chord = chord.replace(\"sus\", \"\")\n",
    "        chord = chord.replace(\"dim\", \"\")\n",
    "        if len(chord) > 3:\n",
    "            chord = chord[0:3]\n",
    "        chord = chord.replace(\"7\", \"\")        \n",
    "        chord = chord.replace(\"(\", \"\")\n",
    "        chord = chord.replace(\"+\", \"\")\n",
    "        chord = chord.replace(\"?\", \"\")\n",
    "        chord = chord.replace(\".\", \"\")\n",
    "        chord = chord.split(\"/\")[0]\n",
    "        chord = chord.split(\"+\")[0]\n",
    "        chord = re.sub(r'\\d+', '', chord)\n",
    "        restWithoutAlphabethic = re.sub(r'[a-zA-Z]+', '', chord[1:]) \n",
    "        chord = chord[0] + restWithoutAlphabethic\n",
    "        \n",
    "        if chord[0:1] in uniqueChordNames:\n",
    "            finalChords.append(chord)\n",
    "    return finalChords"
   ]
  },
  {
   "cell_type": "code",
   "execution_count": 5,
   "id": "871e4b45",
   "metadata": {},
   "outputs": [],
   "source": [
    "def getChordsOfALine(line, content):\n",
    "    chordPattern = r'\\[([^\\]]+)\\]'\n",
    "    lineChords = []\n",
    "    if \"chorus}\" in line.lower():\n",
    "        lineChords = getChorus(content)\n",
    "    elif \"repeat intro}\" in line.lower():\n",
    "        lineChords = getIntro(content)\n",
    "    elif \"[\" in line:\n",
    "        lineChords = re.findall(chordPattern, line)   \n",
    "    return lineChords"
   ]
  },
  {
   "cell_type": "code",
   "execution_count": 6,
   "id": "35bd6356",
   "metadata": {},
   "outputs": [],
   "source": [
    "def getChorus(content):\n",
    "    patternArr = [\"{soc}(.*?){eoc}\", \"{start_of_chorus}(.*?){end_of_chorus}\"]\n",
    "    chords = []\n",
    "    for pattern in patternArr:\n",
    "        match = re.search(pattern, content, re.DOTALL)\n",
    "        if match:\n",
    "            chorus = match.group(1).strip()\n",
    "            chordPattern = r\"\\[([^\\]]*)\\]\"\n",
    "            chords = re.findall(chordPattern, chorus)\n",
    "            return chords\n",
    "    return chords"
   ]
  },
  {
   "cell_type": "code",
   "execution_count": 7,
   "id": "38e9d81d",
   "metadata": {},
   "outputs": [],
   "source": [
    "def getIntro(content):\n",
    "    chordsOfIntro = []\n",
    "    inIntro = False\n",
    "    for line in content.split(\"\\n\"): \n",
    "        if '{c:intro:}' in line.lower() or '{c:intro}'in line.lower():\n",
    "            inIntro = True\n",
    "        elif inIntro:\n",
    "            lineChords = getChordsOfALine(line, content)\n",
    "            if len(lineChords) > 0:\n",
    "                chordsOfIntro.extend(lineChords)\n",
    "            else:\n",
    "                inIntro = False\n",
    "                break\n",
    "    return chordsOfIntro"
   ]
  },
  {
   "cell_type": "code",
   "execution_count": 8,
   "id": "59e5ee8f",
   "metadata": {},
   "outputs": [],
   "source": [
    "def getTitle(content, chordProFile):\n",
    "    pattern = r\"\\{title:\\s*(.*?)\\s*\\}\"\n",
    "    match = re.search(pattern, content)\n",
    "    title = ''\n",
    "    if match:\n",
    "        title = match.group(1)\n",
    "    else:\n",
    "        title = os.path.splitext(os.path.basename(chordProFile))[0]\n",
    "    return title"
   ]
  },
  {
   "cell_type": "code",
   "execution_count": 9,
   "id": "e1c27caa",
   "metadata": {},
   "outputs": [],
   "source": [
    "def getKey(content):\n",
    "    pattern = r\"{key:\\s*([A-G][#b]?)\\s*}\"\n",
    "    match = re.search(pattern, content)\n",
    "    key = ''\n",
    "    if match:\n",
    "        key = match.group(1)\n",
    "    return key"
   ]
  },
  {
   "cell_type": "markdown",
   "id": "63602ba8",
   "metadata": {},
   "source": [
    "A song class was created in order to access the chord information easily. A song object can be initialized by providing a path for the ChordPro song file and the constructor will call the functions above. It will extract the chords, chorus and other information within the song object."
   ]
  },
  {
   "cell_type": "code",
   "execution_count": 10,
   "id": "f7b730b6",
   "metadata": {},
   "outputs": [],
   "source": [
    "class Song:\n",
    "    def __init__(self, chordProFile):\n",
    "        self.chordProFile = chordProFile\n",
    "        self.content = readChordProFile(chordProFile)\n",
    "        self.chorus = self.getChorus()\n",
    "        self.chords = self.getChords()\n",
    "        self.title = self.getTitle()\n",
    "        self.key = self.getKey()\n",
    "        \n",
    "    def getChords(self):\n",
    "        chords = []\n",
    "        for line in self.content.split(\"\\n\"): \n",
    "            lineChords = getChordsOfALine(line, self.content)\n",
    "            chords.extend(cleanChords(lineChords))\n",
    "        return chords\n",
    "    \n",
    "    def getChordsBeforeChorus(self):\n",
    "        chords = []\n",
    "        for line in self.content.split(\"\\n\"): \n",
    "            if 'chorus' in line.lower() or '{soc}'in line.lower() or '{start_of_chorus}'in line.lower():\n",
    "                break\n",
    "            lineChords = getChordsOfALine(line, self.content)\n",
    "            chords.extend(cleanChords(lineChords))\n",
    "        return chords\n",
    "        \n",
    "    def getChorus(self):\n",
    "        return getChorus(self.content)\n",
    "    \n",
    "    def getIntro(self):\n",
    "        return getIntro(self.content)\n",
    "    \n",
    "    def getTitle(self):\n",
    "        return getTitle(self.content, self.chordProFile)\n",
    "    \n",
    "    def getKey(self):\n",
    "        return getKey(self.content)\n",
    "    "
   ]
  },
  {
   "cell_type": "markdown",
   "id": "81fba26d",
   "metadata": {},
   "source": [
    "## Feature extraction & data preparation for training"
   ]
  },
  {
   "cell_type": "markdown",
   "id": "b58a3391",
   "metadata": {},
   "source": [
    "In this part, we are going to create feature and target arrays by using the ChordPro functions above as well as the helper functions below.\n",
    "\n",
    "### Create a song dictionary of songs with chords\n",
    "\n",
    "First, we start with providing a folder path where songs can be found and we are going to iterate over each song. For every file we find, we are going to initialize a Song object and add its chords into a dictionary named **songDict** where key is the song name and value is the chord array. "
   ]
  },
  {
   "cell_type": "code",
   "execution_count": 11,
   "id": "6d7c94ed",
   "metadata": {},
   "outputs": [],
   "source": [
    "def createChordDictFromChordProFiles(dataFolderPath):\n",
    "    fileNames = os.listdir(dataFolderPath)\n",
    "    chordsDict = {}\n",
    "    longestChordLength = 0\n",
    "    for file in fileNames:\n",
    "        if '.DS_Store' in file:\n",
    "            continue\n",
    "        chordproFile = dataFolderPath + file\n",
    "        song = Song(chordproFile)\n",
    "        chordsDict[song.title] = song.chords\n",
    "    return chordsDict"
   ]
  },
  {
   "cell_type": "code",
   "execution_count": 12,
   "id": "d62a3040",
   "metadata": {},
   "outputs": [
    {
     "name": "stdout",
     "output_type": "stream",
     "text": [
      "./data/chordpro/HelloGoodbye.chopro\n",
      "./data/chordpro/TheContinuingStoryOfBungalowBill.chopro\n",
      "./data/chordpro/YellowSubmarine.chopro\n",
      "./data/chordpro/StrawberryFieldsForever.2.chopro\n",
      "./data/chordpro/GetBack.chopro\n",
      "./data/chordpro/Blackbird.chopro\n",
      "./data/chordpro/Help.chopro\n",
      "./data/chordpro/ADayInALife.chopro\n",
      "./data/chordpro/DontLetMeDown.chopro\n",
      "./data/chordpro/FromMeToYou.chopro\n",
      "./data/chordpro/SoldierOfLove.chopro\n",
      "./data/chordpro/EleanorRigby.chopro\n",
      "./data/chordpro/ChristmastimeIsHereAgain.chopro\n",
      "./data/chordpro/WeCanWorkItOut.chopro\n",
      "./data/chordpro/WithALittleHelpFromMyFriends.chopro\n",
      "./data/chordpro/AllTogetherNow.chopro\n",
      "./data/chordpro/LetItBe.2.chopro\n",
      "./data/chordpro/TellMeWhy.chopro\n",
      "./data/chordpro/Anna.chopro\n",
      "./data/chordpro/AcrossTheUniverse.chopro\n",
      "./data/chordpro/IAmAWalrus.chopro\n",
      "./data/chordpro/TooMuchMonkeyBusiness.chopro\n",
      "./data/chordpro/WithALittleHelpFromMyFriends.2.chopro\n",
      "./data/chordpro/IShouldHaveKnownBetter.chopro\n",
      "./data/chordpro/ICallYourName.chopro\n",
      "./data/chordpro/CantBuyMeLove.2.chopro\n",
      "./data/chordpro/SheLovesYou.german.chopro\n",
      "./data/chordpro/IveJustSeenAFace.chopro\n",
      "./data/chordpro/Yesterday.3.chopro\n",
      "./data/chordpro/LetItBe.chopro\n",
      "./data/chordpro/MaxwellsSilverHammer.chopro\n",
      "./data/chordpro/HereThereAndEverywhere.2.chopro\n",
      "./data/chordpro/TwistAndShout.chopro\n",
      "./data/chordpro/GoodDaySunshine.chopro\n",
      "./data/chordpro/ItsOnlyLove.chopro\n",
      "./data/chordpro/SomeOtherGuy.chopro\n",
      "./data/chordpro/Yesterday.chopro\n",
      "./data/chordpro/ImGonnaSitRightDownAndCryOverYou.chopro\n",
      "./data/chordpro/WhenImSixtyFour.chopro\n",
      "./data/chordpro/YellowSubmarine.2.chopro\n",
      "./data/chordpro/AHardDaysNight.chopro\n",
      "./data/chordpro/LongAndWindingRoad.chopro\n",
      "./data/chordpro/NobodyIKnow.chopro\n",
      "./data/chordpro/HereComesTheSun.chopro\n",
      "./data/chordpro/WhenImSixtyFour.2.chopro\n",
      "./data/chordpro/AllYouNeedIsLove.chopro\n",
      "./data/chordpro/AskMeWhy.chopro\n",
      "./data/chordpro/InMyLife.chopro\n",
      "./data/chordpro/LadyMadonna.chopro\n",
      "./data/chordpro/Misery.chopro\n",
      "./data/chordpro/EightDaysAWeek.2.chopro\n",
      "./data/chordpro/CantBuyMeLove.chopro\n",
      "./data/chordpro/StrawberryFieldsForever.chopro\n",
      "./data/chordpro/Clarabella.chopro\n",
      "./data/chordpro/IWantToHoldYourHand.chopro\n",
      "./data/chordpro/BabysInBlack.chopro\n",
      "./data/chordpro/AllMyLoving.chopro\n",
      "./data/chordpro/GoldenSlumbers.chopro\n",
      "./data/chordpro/IGotAWoman.chopro\n",
      "./data/chordpro/LovelyRita.chopro\n",
      "./data/chordpro/HereThereAndEverywhere.chopro\n",
      "./data/chordpro/IllBeBack.chopro\n",
      "./data/chordpro/NorwegianWood.chopro\n",
      "./data/chordpro/EightDaysAWeek.chopro\n",
      "./data/chordpro/ISawHerStandingThere.chopro\n",
      "./data/chordpro/ComeTogether.chopro\n",
      "./data/chordpro/CryBabyCry.chopro\n",
      "./data/chordpro/PleasePleaseMe.chopro\n",
      "./data/chordpro/HideYourLoveAway.chopro\n",
      "./data/chordpro/TwoOfUs.chopro\n",
      "./data/chordpro/GettingBetter.chopro\n",
      "./data/chordpro/DearPrudence.chopro\n",
      "./data/chordpro/NowhereMan.chopro\n",
      "./data/chordpro/PennyLane.chopro\n",
      "./data/chordpro/AShotOfRythmAndBlues.chopro.txt\n",
      "./data/chordpro/Yesterday.2.chopro\n",
      "./data/chordpro/Birthday.chopro\n",
      "./data/chordpro/Michelle.2.chopro\n",
      "./data/chordpro/OctopussGarden.chopro\n",
      "./data/chordpro/NowhereMan.2.chopro\n",
      "./data/chordpro/BackInTheUSSR.chopro\n",
      "./data/chordpro/OneAndOneIsTwo.chopro\n",
      "./data/chordpro/IFeelFine.chopro\n",
      "./data/chordpro/AShotOfRythmAndBlues.chopro\n",
      "./data/chordpro/ThatsAlrightMama.chopro\n",
      "./data/chordpro/LucyInTheSkyWithDiamonds.chopro\n",
      "./data/chordpro/ObLaDiObLaDa.chopro\n",
      "./data/chordpro/Michelle.chopro\n",
      "./data/chordpro/HeyJude.chopro\n",
      "./data/chordpro/TicketToRide.chopro\n",
      "./data/chordpro/AndILoveHer.chopro\n",
      "./data/chordpro/KeepYourHandsOffMyBaby.chopro\n",
      "./data/chordpro/ImSoTired.chopro\n",
      "./data/chordpro/Girl.chopro\n",
      "./data/chordpro/RockyRacoon.chopro\n",
      "./data/chordpro/A Day in a Life.chordpro\n",
      "./data/chordpro/WhenImSixtyFour.3.chopro\n",
      "./data/chordpro/SheLovesYou.chopro\n",
      "./data/chordpro/AcrossTheUniverse.chopro.txt\n",
      "./data/chordpro/DriveMyCar.chopro\n",
      "./data/chordpro/HeyJude.2.chopro\n",
      "./data/chordpro/ImLookingThroughYou.chopro\n",
      "./data/chordpro/WhileMyGuitarGentlyWeeps.chopro\n"
     ]
    }
   ],
   "source": [
    "pathOfChordTxtFiles = './data/chordpro/'\n",
    "\n",
    "songDict = createChordDictFromChordProFiles(pathOfChordTxtFiles)"
   ]
  },
  {
   "cell_type": "markdown",
   "id": "72bb8657",
   "metadata": {},
   "source": [
    "### Map the string chord names to integer values\n",
    "\n",
    "The chords we worked until this point are in string format. However it is better for the regression to use integer values compared to string values. So we will create two mapping functions to map chords from string to int and from int to string.\n",
    "\n",
    "In order to do the mapping, we build a list of unique chords exists in our songs so that we can use the index as the integer value. This will also be used when mapping from int to chord names back."
   ]
  },
  {
   "cell_type": "code",
   "execution_count": 13,
   "id": "7c008f35",
   "metadata": {},
   "outputs": [
    {
     "name": "stdout",
     "output_type": "stream",
     "text": [
      "['A', 'A-', 'B', 'B-', 'C', 'C#', 'D', 'D#', 'E', 'E-', 'F', 'F#', 'G', 'G#']\n",
      "14\n"
     ]
    }
   ],
   "source": [
    "distinctChordNames = list(sorted({ele for val in songDict.values() for ele in val}))\n",
    "print(distinctChordNames)\n",
    "print(len(distinctChordNames))"
   ]
  },
  {
   "cell_type": "code",
   "execution_count": 14,
   "id": "01c1446a",
   "metadata": {},
   "outputs": [],
   "source": [
    "def mapChordNamesToIndexes(chords):\n",
    "    indexArr = []\n",
    "    for i, chord in enumerate(chords):\n",
    "        indexArr.append(distinctChordNames.index(chord))\n",
    "    return indexArr"
   ]
  },
  {
   "cell_type": "code",
   "execution_count": 15,
   "id": "a70ed03f",
   "metadata": {},
   "outputs": [],
   "source": [
    "def mapIndexesToChordNames(indexes):\n",
    "    chords = []\n",
    "    for i, index in enumerate(indexes):\n",
    "        chords.append(distinctChordNames[index])\n",
    "    return chords"
   ]
  },
  {
   "cell_type": "markdown",
   "id": "8a222a6f",
   "metadata": {},
   "source": [
    "Here we ignore the songs which has less than 10 chords as they are most likely to have a wrong formatting."
   ]
  },
  {
   "cell_type": "code",
   "execution_count": 16,
   "id": "102ca24e",
   "metadata": {},
   "outputs": [
    {
     "name": "stdout",
     "output_type": "stream",
     "text": [
      "Chords are too short, ignoring the song ChristmastimeIsHereAgain\n",
      "Chords are too short, ignoring the song Anna\n",
      "Chords are too short, ignoring the song TooMuchMonkeyBusiness\n",
      "Chords are too short, ignoring the song TwistAndShout\n",
      "{'Hello, Goodbye': [4, 12, 6, 8, 6, 8, 6, 12, 6, 4, 12, 4, 9, 12, 4, 10, 12, 4, 12, 6, 8, 6, 8, 6, 12, 6, 4, 12, 4, 9, 12, 4, 10, 12, 4, 12, 6, 8, 6, 8, 6, 12, 6, 4, 12, 4, 9, 12, 4, 10, 12, 4, 12, 6, 8, 6, 8, 6, 12, 6, 4, 12, 4, 9, 12, 4, 10, 12, 4, 9, 12], 'The Continuing Story of Bungalow Bill': [4, 12, 4, 10, 4, 10, 12, 0, 8, 0, 6, 0, 6, 8, 0, 4, 10, 12, 0, 4, 10, 8, 12, 0, 10, 0, 4, 10, 12, 0, 4, 10, 12, 8, 12, 0, 10, 0, 4, 10, 12, 0, 4, 10, 12, 8, 12, 0, 10], 'Yellow Submarine': [12, 6, 4, 12, 8, 0, 4, 6, 12, 6, 4, 12, 8, 0, 4, 6, 12, 6, 4, 12, 8, 0, 4, 6, 12, 6, 4, 12, 8, 0, 4, 6, 12, 6, 12, 6, 12, 6, 4, 12, 8, 0, 4, 6, 12, 6, 4, 12, 12, 6, 12, 6, 12, 6, 4, 12, 8, 0, 4, 6, 12, 6, 4, 12, 8, 0, 4, 6, 12, 6, 12, 6, 12], 'Strawberry Fields Forever': [12, 6, 9, 4, 6, 8, 0, 6, 12, 6, 6, 2, 8, 4, 0, 6, 12, 8, 0, 6, 4, 12, 4], 'GetBack': [0, 6, 0, 12, 6, 0, 6, 0, 12, 6, 0, 6, 0, 12, 6, 0, 6], 'Blackbird': [12, 4, 12, 4, 0, 0, 7, 8, 12, 12, 0, 4, 4, 12, 12, 0, 4, 6, 12, 12, 4, 12, 4, 0, 0, 7, 8, 12, 12, 0, 4, 4, 12, 0, 4, 6, 12, 10, 8, 6, 4, 3, 4, 10, 8, 6, 4, 3, 0, 6, 6, 12, 4, 12, 4, 12], 'Help': [2, 12, 8, 0, 0, 5, 11, 6, 12, 0, 5, 11, 6, 12, 0, 2, 12, 8, 0, 0, 0, 5, 11, 6, 12, 0, 5, 11, 6, 12, 0, 2, 12, 8, 0, 0, 0, 11, 0, 0], 'A Day in a Life': [12, 2, 8, 8, 4, 4, 12, 2, 8, 4, 8, 0, 4, 12, 2, 8, 4, 10, 8, 8, 4, 10, 8, 4, 12, 2, 8, 4, 8, 0, 4, 12, 2, 8, 4, 10, 8, 8, 4, 12, 2, 8, 4, 8, 0, 4, 12, 2, 8, 4, 10, 8, 8, 4, 2, 12, 12, 8, 8, 6, 8, 11, 8, 11, 8, 6, 8, 11, 8, 11, 4, 12, 6, 0, 4, 12, 6, 0, 12, 2, 8, 4, 8, 0, 4, 12, 2, 8, 4, 10, 8, 8, 4, 2, 12, 12, 8], 'DontLetMeDown': [8, 11, 11, 0, 8, 11, 11, 0, 8, 8, 8, 11, 11, 8, 8, 8, 11, 11, 8, 8, 8, 2, 2, 8, 0, 8], 'From Me To You': [12, 8, 12, 6, 4, 8, 4, 6, 12, 12, 8, 12, 6, 4, 8, 4, 6, 12, 6, 12, 4, 8, 0, 6, 6, 12, 8, 12, 6, 4, 8, 4, 6, 12], 'SoldierOfLove': [10, 6, 10, 6, 10, 10, 6, 10, 6, 10, 6, 12, 10, 10, 0, 3, 4, 10, 0, 3, 4, 10, 6, 10, 6, 10], 'Eleanor Rigby': [3, 6, 3, 6, 6, 3, 6, 6, 3, 6, 6, 6, 3, 6, 6, 6, 3, 6], 'WeCanWorkItOut': [12, 4, 12, 12, 4, 10, 12, 12, 4, 12, 12, 4, 10, 12, 4, 12, 4, 6, 12, 4, 12, 12, 4, 10, 12, 12, 4, 12, 12, 4, 10, 12, 4, 12, 4, 6, 8, 0, 2, 2, 8, 6, 4, 6, 8, 0, 2, 2, 8, 6, 4, 6, 12, 4, 12, 12, 4, 10, 12, 12, 4, 12, 12, 4, 10, 12, 4, 12, 4, 6], 'WithALittleHelpFromMyFriends': [4, 6, 12, 12, 4, 6, 12, 12, 4, 4, 3, 10, 4, 3, 10, 4, 3, 10, 4, 0, 6, 4, 3, 10, 0, 6, 4, 3, 10, 4, 3, 10, 4, 3, 10, 4, 3, 10, 4, 0, 6, 4, 3, 10, 0, 6, 4, 3, 10, 4, 3, 10, 4, 3, 10, 4, 3, 10, 4, 0, 6, 4, 3, 10, 0, 6, 4, 3, 10, 4, 3, 10, 4, 3, 10, 4, 3, 10, 4, 0, 6, 4, 3, 10, 0, 6, 4, 3, 10], 'All Together Now': [10, 4, 10, 4, 10, 10, 4, 10, 4, 10, 10, 3, 10, 3, 4, 10, 4, 10], 'Let it Be': [12, 6, 8, 4, 12, 6, 4, 12, 6, 8, 4, 12, 6, 4, 12, 8, 2, 4, 12, 6, 4, 12, 12, 6, 8, 4, 12, 6, 4, 12, 12, 6, 8, 4, 12, 6, 4, 12, 12, 6, 8, 4, 12, 6, 4, 12, 12, 6, 8, 4, 12, 6, 4, 12], 'TellMeWhy': [12, 4, 0, 6, 12, 6, 4, 0, 6, 12, 4, 0, 6, 12, 6, 4, 12, 4, 0, 6, 12, 4, 0, 6, 12, 4, 0, 6, 12, 6, 4, 0, 6, 12, 4, 0, 6, 12, 6, 4, 12, 4, 0, 6, 12, 4, 0, 6, 12, 4, 0, 6, 12, 6, 4, 0, 6, 12, 4, 0, 6, 12, 6, 4, 4, 10, 12, 0, 6, 12, 4, 12, 4, 0, 6, 12, 6, 4, 0, 6, 12, 4, 0, 6, 12, 0, 1, 12, 4], 'Across the Universe': [4, 8, 6, 12, 12, 4, 8, 6, 10, 4, 6, 12, 10, 12, 10, 4, 4, 8, 6, 12, 12, 4, 8, 6, 12, 12, 4, 8, 6, 12, 12, 4, 8, 6, 12, 12], 'IAmAWalrus': [2, 0, 12, 10, 8, 8, 6, 6, 0, 0, 4, 6, 8, 0, 0, 4, 6, 0, 0, 0, 6, 10, 12, 0, 0, 10, 2, 4, 6, 8, 4, 6, 8, 0, 0, 4, 6, 8, 0, 0, 4, 6, 0, 6, 0, 8, 6, 6, 4, 6, 8, 8, 2, 0, 12, 10, 8, 2, 0, 12, 10, 8, 10, 2, 4, 6, 8, 4, 6, 8], 'WithALittleHelpFromMyFriends.2': [6, 0, 8, 0, 6, 0, 8, 0, 0, 6, 4, 12, 6, 4, 12, 6, 4, 12, 6, 0, 4, 12, 6, 4, 12, 6, 4, 12, 6, 0, 4, 12, 6, 4, 12, 6, 4, 12, 6, 0, 2, 8, 6, 4, 12, 2, 8, 6, 4, 12, 4, 12, 6, 4, 12, 6, 4, 12, 6, 0, 2, 8, 6, 4, 12, 2, 8, 6, 4, 12, 4, 12, 6, 4, 12, 6, 6, 4, 12, 3, 12, 6], 'IShouldHaveKnownBetter': [4, 12, 4, 12, 4, 12, 4, 12, 4, 12, 0, 10, 12, 4, 12, 4, 12, 4, 12, 4, 12, 4, 12, 4, 12, 4, 12, 0, 10, 8, 0, 10, 4, 8, 0, 10, 4, 10, 12, 4, 0, 10, 12, 4, 12, 4, 12, 4, 12, 4, 12, 4, 12, 4, 12, 4, 12, 0, 10, 12, 4, 12, 4, 12, 4, 12, 4, 12, 4, 12, 4, 12, 4, 12, 0, 10, 12, 4, 12, 4, 12, 4, 12, 4, 12, 4, 12, 4, 12, 4, 12, 0, 10, 8, 0, 10, 4, 8, 0, 10, 4, 10, 12, 4, 0, 10, 12, 4, 12, 4, 12, 4, 12, 4, 12, 4, 12, 4], 'ICallYourName': [8, 5, 11, 2, 8, 5, 11, 0, 0, 5, 11, 4, 2], 'CantBuyMeLove.2': [8, 0, 8, 0, 6, 12, 4, 4, 10, 4, 4, 12, 10, 12, 10, 4, 4, 4, 10, 4, 4, 12, 10, 12, 10, 4, 4, 8, 0, 10, 4, 8, 0, 6, 12, 4, 4, 10, 4, 12, 10, 12, 10, 4, 8, 0, 8, 0, 6, 12, 4], 'She Loves You': [4, 0, 6, 10, 4, 4, 0, 8, 12, 4, 0, 8, 12, 0, 10, 6, 12, 4, 0, 8, 12, 4, 0, 8, 12, 0, 10, 6, 12, 0, 6, 10, 12, 4, 4, 0, 8, 12, 4, 0, 8, 12, 0, 10, 6, 12, 4, 0, 6, 10, 4], 'IveJustSeenAFace': [12, 6, 8, 4, 6, 12, 6, 4, 12, 6, 12], 'Yesterday': [4, 8, 8, 0, 12, 10, 12, 4, 12, 0, 6, 10, 4, 4, 8, 8, 0, 12, 10, 12, 4, 12, 0, 6, 10, 4, 8, 8, 0, 12, 10, 12, 4, 8, 8, 0, 12, 10, 12, 4, 4, 8, 8, 0, 12, 10, 12, 4, 12, 0, 6, 10, 4, 8, 8, 0, 12, 10, 12, 4, 8, 8, 0, 12, 10, 12, 4, 4, 8, 8, 0, 12, 10, 12, 4, 12, 0, 6, 10, 4, 12, 0, 6, 10, 4], \"Maxwell's Silver Hammer\": [6, 2, 8, 0, 6, 0, 6, 2, 8, 0, 6, 0, 8, 0, 6, 8, 0, 8, 0, 6, 6, 8, 0, 8, 0, 6, 6, 8, 0, 8, 0, 6], 'Here There and Everywhere': [10, 12, 0, 3, 10, 12, 0, 3, 8, 0, 8, 0, 6, 12, 12, 4, 10, 12, 0, 3, 10, 12, 0, 3, 8, 0, 8, 0, 6, 12, 12, 9, 1, 10, 3, 4, 10, 3, 4, 10, 12, 0, 3, 10, 12, 0, 3, 8, 0, 8, 0, 6, 12, 12, 4, 12, 10, 12, 0, 3, 10, 12, 0, 3, 10], 'Good Day Sunshine': [12, 6, 12, 6, 4, 10, 6, 12, 4, 10, 4, 10, 6, 12, 4, 10, 12, 6, 12, 6, 4, 12, 6, 12, 6, 12, 6, 12, 6, 12, 6], 'ItsOnlyLove': [4, 8, 3, 10, 12, 12, 12, 12, 10, 12, 4, 0, 3, 12, 4, 0, 3, 12, 10, 12, 10, 12, 10, 12, 4, 0, 4, 0], 'SomeOtherGuy': [0, 4, 6, 12, 6, 0, 6, 6, 12, 6, 0, 6, 6, 6, 6, 6, 0, 4, 6, 6], 'ImGonnaSitRightDownAndCryOverYou': [6, 4, 12, 4, 12, 6, 12, 4, 12, 4, 12, 4, 6, 12, 12, 4, 12, 6, 12, 4, 12, 4, 6, 12, 12, 4, 12, 6, 12, 12, 6, 12, 6, 4, 12, 4, 12, 6, 12, 4, 6, 12, 12], \"When I'm Sixty-Four\": [12, 6, 12, 12, 4, 9, 12, 8, 0, 6, 12, 8, 6, 8, 8, 2, 8, 0, 4, 6, 12], \"A Hard Day's Night\": [12, 4, 12, 10, 12, 4, 12, 10, 12, 4, 6, 12, 4, 12, 2, 8, 2, 12, 8, 4, 6, 12, 4, 12, 10, 12, 4, 12, 10, 12, 4, 6, 12, 4, 12, 12, 4, 12, 10, 12, 4, 12, 10, 12, 4, 6, 12, 4, 12, 12, 4, 12], 'The Long and Winding Road': [6, 11, 12, 6, 6, 12, 6, 2, 8, 0, 6, 6, 12, 6, 2, 8, 0, 6, 6, 11, 12, 6, 6, 12, 6, 2, 8, 0, 6, 6, 12, 6, 2, 8, 0, 6, 6, 12, 6, 8, 0, 6, 12, 6, 8, 0, 6, 11, 12, 6, 6, 12, 6, 2, 8, 0, 6, 6, 12, 6, 2, 8, 0, 6, 6, 12, 6, 8, 6, 12, 6, 8, 0, 6, 11, 12, 6, 6, 12, 6, 2, 8, 0, 6, 6, 12, 6, 2, 8, 0, 6], 'Nobody I Know': [4, 6, 12, 4, 6, 12, 4, 3, 12, 6, 12, 4, 8, 0, 1, 4, 6, 12, 4, 6, 12, 4, 6, 12, 4, 6, 12, 4, 0, 8, 0, 4, 0, 4, 6, 12, 4, 6, 12], 'Here Comes the Sun': [12, 4, 6, 12, 4, 6, 12, 4, 0, 12, 4, 12, 4, 12, 6, 12, 12], 'WhenImSixtyFour.2': [12, 6, 12, 4, 9, 12, 8, 0, 6, 12, 8, 8, 6, 8, 8, 8, 2, 8, 8, 0, 0, 4, 6, 12, 12, 12, 6, 12, 4, 9, 12, 8, 0, 6, 12, 8, 6, 8, 8, 8, 8, 2, 2, 8, 0, 0, 4, 6, 12, 12, 12, 6, 12, 4, 9, 12, 8, 0, 6, 12], 'All You Need Is Love': [12, 6, 8, 12, 6, 8, 6, 12, 6, 12, 6, 8, 12, 6, 8, 6, 12, 6, 12, 0, 6, 12, 0, 6, 12, 2, 8, 12, 4, 6, 4, 12, 6, 8, 12, 6, 8, 6, 12, 6, 12, 0, 6, 12, 0, 6, 12, 2, 8, 12, 4, 6, 4, 12, 0, 6, 12, 0, 6, 12, 2, 8, 12, 4, 6, 4], 'AskMeWhy': [8, 11, 13, 11, 8, 8, 11, 13, 11, 8, 13, 5, 0, 11, 2, 8, 11, 13, 11, 8, 8, 11, 13, 11, 8, 13, 5, 0, 8, 8, 0, 2, 8, 8, 0, 2, 8, 2, 8, 11, 13, 11, 13, 0, 8, 8], 'InMyLife': [12, 6, 12, 6, 12, 8, 12, 4, 4, 12, 12, 8, 12, 4, 4, 12, 8, 4, 10, 12, 8, 0, 4, 12, 6, 12, 8, 12, 4, 4, 12, 12, 8, 12, 4, 4, 12, 8, 4, 10, 12, 8, 0, 4, 12, 6, 12, 8, 12, 4, 4, 12, 12, 8, 12, 4, 4, 12, 8, 4, 10, 12, 8, 0, 4, 12, 6, 4, 12, 6, 6, 12], 'Lady Madonna': [8, 0, 8, 0, 8, 0, 8, 4, 6, 8, 0, 8, 0, 8, 0, 8, 4, 6, 8, 0, 6, 12, 8, 0, 6, 12, 0, 2, 8, 0, 8, 0, 8, 0, 8, 0, 8, 0, 8, 0, 8, 0, 8, 4, 6, 8, 0, 6, 12, 8, 0, 6, 12, 0, 2, 8, 0, 8, 0, 8, 0, 8, 0], 'Misery': [4, 10, 4, 10, 10, 12, 4, 0, 4, 10, 4, 10, 10, 12, 4, 0, 4, 0, 12, 12, 4, 10, 4, 10, 10, 12, 4, 10, 12, 4, 0, 4, 0, 4, 0], 'Eight Days A Week': [3, 4, 9, 3, 4, 9, 3, 12, 9, 12, 9, 3, 4, 9, 3, 3, 4, 9, 3, 4, 9, 3, 12, 9, 12, 9, 3, 4, 9, 3, 10, 12, 4, 9, 10, 3, 4, 9, 3, 4, 9, 3, 12, 9, 12, 9, 3, 4, 9, 3], \"Can't Buy Me Love\": [13, 5, 13, 5, 11, 2, 8, 8, 0, 8, 2, 0, 2, 0, 8, 13, 5, 0, 8, 13, 5, 11, 2, 13, 5, 13, 5, 11, 2], 'Clarabella': [12, 12, 12, 4, 12, 6, 4, 12, 12, 12, 12, 4, 12, 6, 4, 12, 6, 12, 12, 4, 12, 6, 4, 12, 6, 12, 12, 12, 12], 'I Want To Hold Your Hand': [4, 12, 0, 8, 4, 12, 0, 8, 10, 12, 4, 0, 10, 12, 4, 6, 4, 10, 6, 6, 4, 10, 12, 10, 12, 10, 12], \"Baby's in black\": [8, 2, 0, 2, 8, 0, 8, 2, 8, 8, 0, 0, 8, 2, 8, 8, 2, 0, 2, 8, 0, 8, 2, 8, 8, 0, 0, 8, 2, 8, 5, 11, 0, 2, 8, 2, 0, 2, 8, 0, 8, 2, 8, 8, 0, 0, 8, 2, 8, 8, 2, 0, 2, 8, 0, 8, 2], 'AllMyLoving': [6, 12, 4, 0, 10, 6, 3, 12, 6, 12, 4, 0, 10, 12, 4, 0, 4, 4, 0, 4, 4, 0, 4, 4, 0, 4, 4, 0, 4, 4, 0, 4, 4], 'Golden Slumbers': [0, 6, 12, 4, 8, 0, 6, 12, 4, 10, 4, 10, 4, 8, 0, 6, 12, 4, 0, 6, 12, 4, 8, 0, 6, 12, 4, 10, 4, 10, 4, 8, 0, 6, 12, 4], 'IGotAWoman': [8, 2, 8, 0, 8, 0, 2, 8, 0, 8, 2, 8, 0, 8, 8, 2, 8, 0, 8, 0, 2, 8, 9, 8, 9, 8, 8, 9, 8, 9, 8, 8, 9, 8, 9, 8, 0, 2, 8, 0, 8, 0, 2, 8, 0, 8, 2, 8, 0, 8, 11, 2, 8, 0, 9, 8], 'LovelyRita': [2, 0, 2, 8, 6, 0, 8, 2, 5, 11, 2, 8, 0, 6, 12, 8, 2, 8, 5, 11, 2, 8, 6, 0, 8, 6, 5, 11, 2, 0, 13, 11, 8, 2, 8, 6, 0, 8, 2, 8, 11, 2], \"I'll Be Back\": [2, 0, 0, 4, 12, 10, 8, 0, 2, 0, 0, 4, 12, 10, 8, 0, 2, 0, 11, 2, 8, 2, 8, 2, 8, 0, 4, 12, 10, 8, 0, 2, 0, 0, 4, 12, 10, 8, 0, 2, 0, 2, 5, 11, 2, 2, 8, 2, 8, 2, 8, 0, 4, 12, 10, 8, 0, 2, 0, 0, 4, 12, 10, 8, 0, 2, 0, 11, 2, 8, 2, 8, 2, 8, 0, 4, 12, 10, 8, 0, 2, 0], 'NorwegianWood': [6, 6, 6, 4, 12, 6, 6, 6, 6, 4, 12, 6, 6, 12, 6, 8, 0, 6, 6, 6, 4, 12, 6, 6, 6, 6, 4, 12, 6, 6, 12, 6, 8, 0, 6, 6, 6, 4, 12, 6, 6, 6, 6, 4, 12, 6], 'ISawHerStandingThere': [0, 6, 0, 8, 0, 0, 6, 10, 0, 8, 0, 0, 6, 0, 8, 0, 0, 6, 10, 0, 8, 0, 6, 8, 0, 6, 0, 8, 0, 0, 6, 10, 0, 8, 0, 6, 8, 0, 6, 0, 8, 0, 0, 6, 10, 0, 8, 0, 0, 8, 0, 0, 8, 0], 'ComeTogether': [6, 6, 0, 12, 6, 6, 0, 12, 2, 12, 6, 6, 0, 12, 2, 12, 6, 6, 0, 12, 2], 'Cry Baby Cry': [12, 0, 10, 12, 8, 0, 10, 8, 8, 8, 8, 4, 12, 8, 8, 8, 8, 4, 12, 0, 10, 12, 8, 0, 10, 12, 12, 0, 10, 12, 8, 0, 10, 12, 12, 0, 10, 12, 8, 0, 10, 12, 12, 0, 10, 12, 8, 0, 10, 12, 12, 0, 10, 12, 0, 10, 12, 8, 0, 10, 8], 'PleasePleaseMe': [4, 10, 4, 10, 4, 10, 6, 0, 10, 4, 10, 12, 4, 10, 4, 10, 4, 10, 6, 0, 10, 4, 10, 12, 4, 10, 12, 4, 10, 4, 10, 12, 4, 10, 12, 4, 10, 4, 10, 4, 10, 6, 0, 10, 4, 10, 12, 4, 10, 12, 4, 10, 12, 4, 9, 6, 12, 4], 'Hide Your Love Away': [6, 0, 4, 12, 6, 12, 4, 12, 6, 0, 4, 12, 6, 12, 4, 12, 0, 6, 0, 4, 12, 6, 12, 4, 12, 6, 0, 4, 12, 6, 12, 4, 12, 0, 6, 12, 0, 6, 12, 0, 6, 0, 4, 12, 6, 12, 4, 12, 6, 0, 4, 12, 6, 12, 4, 12, 0, 6, 0, 4, 12, 6, 12, 4, 12, 6, 0, 4, 12, 6, 12, 4, 12, 0, 6, 12, 0, 6, 12, 0], 'Two Of Us': [12, 4, 4, 0, 12, 4, 4, 0, 12, 6, 12, 6, 12, 4, 12, 12, 4, 4, 0, 12, 4, 4, 0, 12, 6, 12, 6, 12, 4, 12, 6, 12, 0, 12, 0, 6, 12, 4, 4, 0, 12, 4, 4, 0, 12, 6, 12, 6, 12, 4, 12, 12, 4, 4, 0, 12, 4, 4, 0, 12, 6, 12, 6, 12, 4, 12], 'GettingBetter': [10, 4, 10, 12, 4, 12, 4, 12, 4, 12, 4, 12, 4, 12, 4, 12, 4, 12, 4, 12, 4, 10, 8, 10, 4, 10, 8, 10, 10, 12, 4, 12, 4, 12, 4, 12, 4, 12, 4, 12, 4, 12, 4, 12, 4, 12, 10, 4, 10, 4, 10, 4, 10, 4, 4, 4, 10, 8, 10, 4, 10, 8, 10, 12, 12, 12, 10, 4, 12, 10, 4, 10, 4, 10, 4, 10, 10, 4], 'Dear Prudence': [6, 6, 6, 6, 6, 6, 6, 6, 6, 6, 6, 6, 6, 6, 6, 6, 6, 6, 6, 6, 6, 6, 4, 12, 6, 6, 6, 6, 6, 6, 6, 6, 6, 6, 6, 6, 6, 6, 6, 6, 6, 6, 6, 6, 6, 6, 6, 6, 6, 6, 4, 12, 6, 6, 6, 6, 6, 12, 0, 12, 6, 12, 0, 12, 6, 10, 13, 12, 6, 6, 6, 6, 6, 6, 6, 6, 6, 6, 6, 6, 6, 6, 6, 6, 6, 6, 6, 6, 6, 6, 6, 4, 12, 6, 6, 6, 6], 'Nowhere Man': [6, 0, 12, 6, 12, 12, 6, 6, 0, 12, 6, 12, 12, 6, 11, 12, 11, 12, 11, 12, 0, 6, 0, 12, 6, 12, 12, 6, 6, 0, 12, 6, 12, 12, 6, 11, 12, 11, 12, 11, 12, 0, 6, 0, 12, 6, 12, 12, 12, 6, 12, 12, 6], 'Penny Lane': [12, 8, 0, 6, 12, 8, 12, 8, 9, 6, 4, 10, 0, 3, 10, 0, 3, 4, 6, 12, 2, 4, 12, 2, 4], 'AShotOfRythmAndBlues.chopro': [6, 0, 6, 12, 6, 0, 12, 0, 12, 12, 6, 12, 0, 6, 12, 6, 12, 0, 6, 12, 6, 12, 0, 0, 6, 0, 6, 0, 6, 0, 6, 0], 'Birthday': [0, 0, 6, 0, 8, 0, 0, 0, 6, 0, 8, 0, 8, 8, 8, 4, 12, 4, 12, 4, 12, 4, 12, 8, 0, 0, 4, 12, 4, 12, 4, 12, 4, 12, 8, 0, 0, 6, 0, 8, 0, 0, 0, 0], 'Michelle.2': [6, 12, 4, 2, 8, 0, 8, 0, 6, 12, 4, 2, 8, 0, 8, 0, 6, 4, 10, 3, 0, 6, 12, 6, 6, 6, 6, 12, 0, 6, 12, 4, 2, 8, 0, 8, 0, 6, 12, 4, 2, 8, 0, 8, 0], \"Octopus's Garden\": [10, 6, 3, 10, 4, 10, 6, 3, 10, 4, 6, 3, 4, 10, 6, 3, 4, 10], 'Back In The USSR': [0, 6, 4, 6, 0, 6, 4, 6, 6, 0, 4, 6, 6, 0, 6, 9, 8, 0, 6, 4, 6, 0, 6, 4, 6, 6, 12, 0, 6, 0, 6, 11, 0, 2, 8, 6, 0, 0, 6, 4, 6, 0, 6, 4, 6], 'OneAndOneIsTwo': [6, 12, 0, 6, 6, 12, 0, 6, 6, 12, 6, 0, 6, 12, 6, 0, 6, 6, 12, 0, 6, 6, 12, 0, 6, 6, 12, 6, 0, 6, 12, 6, 0, 6, 6, 12, 0, 6, 6, 12, 0, 6, 6, 12, 0, 6, 6, 12, 0, 6, 6, 12, 6, 0, 6, 12, 6, 0, 6, 6, 12, 0, 6, 6, 12, 0, 6], 'I Feel Fine': [6, 4, 12, 12, 6, 4, 12, 12, 6, 4, 12, 12, 2, 4, 6, 12, 2, 4, 6, 12, 6, 6, 4, 12, 6, 4, 12], 'AShotOfRythmAndBlues': [6, 0, 6, 12, 6, 0, 12, 0, 12, 12, 6, 12, 0, 6, 12, 6, 12, 0, 6, 12, 6, 12, 0, 0, 6, 0, 6, 0, 6, 0, 6, 0], 'ThatsAlrightMama': [0, 0, 6, 8, 0, 0, 6, 8, 0, 8, 0, 0], 'Lucy In The Sky With Diamonds': [0, 0, 6, 6, 0, 0, 6, 6, 12, 0, 0, 6, 6, 0, 0, 6, 6, 4, 3, 4, 10, 3, 4, 12, 6, 12, 4, 6, 12, 4, 6, 12, 4, 6, 6, 0], 'ObLaDiObLaDa': [12, 6, 12, 12, 4, 12, 6, 12, 12, 2, 8, 12, 6, 12, 12, 2, 8, 12, 6, 12, 12, 2, 8, 12, 6, 12, 12, 6, 12, 12, 4, 12, 6, 12, 12, 2, 8, 12, 6, 12, 4, 12, 4, 12, 6, 12, 6, 12, 12, 4, 12, 6, 12, 12, 2, 8, 12, 6, 12], 'Michelle': [2, 8, 0, 13, 11, 13, 11, 2, 8, 0, 13, 11, 13, 11, 2, 6, 12, 11, 2, 11, 2, 11, 2, 8, 2, 8, 11, 2, 8, 0, 13, 11, 13, 11, 2, 8, 0, 13, 11, 13, 11, 2, 8, 0, 13, 11, 13, 11, 2, 8, 0, 13, 11, 13, 11, 2, 8, 11, 2, 11, 2], 'Hey Jude': [10, 4, 4, 4, 4, 10, 3, 10, 4, 10, 10, 4, 4, 4, 4, 10, 3, 10, 4, 10, 10, 3, 12, 4, 10, 10, 3, 12, 4, 10, 10, 4, 10, 4, 4, 4, 4, 10, 3, 10, 4, 10, 10, 3, 12, 4, 10, 10, 3, 12, 4, 10, 10, 4, 10, 4, 4, 4, 4, 10, 3, 10, 4, 10, 10, 10, 9, 3, 10], 'TicketToRide': [0, 2, 8, 11, 6, 11, 12, 12, 13, 11, 8, 0, 6, 8, 6, 8], 'AndILoveHer': [8, 2, 8, 2, 8, 2, 12, 0, 6, 8, 2, 8, 2, 8, 2, 12, 0, 6, 2, 6, 2, 0, 2, 0, 0, 8, 2, 8, 2, 8, 2, 12, 0, 6], 'KeepYourHandsOffMyBaby': [6, 12, 6, 12, 12, 8, 4, 6, 12, 8, 4, 6, 12, 4, 12, 8, 12, 8, 4, 6, 12, 4, 12, 12], \"I'm So Tired\": [0, 13, 6, 8, 0, 11, 6, 8, 0, 8, 11, 6, 0, 13, 6, 8, 0, 11, 6, 8, 0, 8, 11, 6, 0, 0, 8, 8, 6, 0, 0, 13, 6, 8, 0, 11, 6, 8, 0, 8, 11, 6], 'Girl': [0, 8, 4, 0, 6, 12, 4, 8, 0, 8, 4, 0, 6, 12, 4, 8, 4, 0, 6, 12, 4, 0, 6, 12, 0, 8, 4, 0, 6, 12, 4, 8, 0, 8, 4, 0, 6, 12, 4, 8, 4, 0, 6, 12, 4, 0, 6, 12, 6, 0, 6, 0, 6, 0, 6, 10, 4, 0, 6, 12, 4, 0, 6, 12, 0, 8, 4, 0, 6, 12, 4, 8, 0, 8, 4, 0, 6, 12, 4, 8, 4, 0, 6, 12, 4, 0, 6, 12], 'RockyRacoon': [0, 6, 12, 4, 4, 0, 6, 12, 4, 4, 0, 6, 12, 4, 4, 0, 6, 12, 4, 4, 0, 6, 12, 4, 4, 0, 6, 12, 4, 4, 0, 6, 12, 4, 4], \"When I'm Sixty Four\": [4, 12, 12, 4, 4, 4, 10, 1, 4, 0, 6, 12, 4, 0, 12, 0, 4, 12, 12, 4, 4, 4, 10, 1, 4, 0, 6, 12, 4, 0, 12, 0, 8, 0, 6, 10, 12, 4, 4, 12, 12, 4, 4, 4, 10, 1, 4, 0, 6, 12, 4, 8, 0, 6, 10, 12, 4, 12, 4, 10, 12, 4], 'Drive My Car': [0, 6, 0, 6, 0, 6, 8, 8, 11, 0, 2, 4, 2, 0, 11, 0, 2, 4, 2, 0, 11, 0, 2, 8, 0, 6, 0, 6, 0, 6, 8, 8, 0, 6, 0, 6, 0, 6, 8, 8, 8], \"I'm Looking Through You\": [12, 4, 12, 0, 8, 6, 6, 6, 12, 4, 12, 0, 8, 6, 6, 6, 8, 0, 12, 4, 6, 12, 4, 12, 0, 4, 12, 12, 4, 12, 4, 12, 4, 12, 4, 12, 0, 8, 6, 6, 6, 12, 4, 12, 0, 8, 6, 6, 6, 8, 0, 12, 4, 6, 12, 4, 12, 0, 4, 12, 12, 4, 12, 4, 12, 4, 4, 12, 4, 12, 6, 12, 4, 12, 0, 8, 6, 6, 6, 12, 4, 12, 0, 8, 6, 6, 6, 8, 0, 12, 4, 6, 12, 4, 12, 0, 4, 12, 12, 4, 12, 4, 12, 4], 'While My Guitar Gently Weeps': [0, 0, 0, 10, 0, 12, 6, 8, 0, 0, 0, 10, 0, 12, 4, 8, 0, 5, 11, 5, 2, 8, 8, 0, 5, 11, 5, 2, 8, 8, 0, 0, 0, 10, 0, 12, 6, 8, 0, 0, 0, 10, 0, 12, 6, 8]}\n"
     ]
    }
   ],
   "source": [
    "finalChordDict = {}\n",
    "for song in songDict:\n",
    "        chordArray = songDict[song]\n",
    "        if len(chordArray) < 10:\n",
    "            print('Chords are too short, ignoring the song ' + song)\n",
    "        else:   \n",
    "            finalChordDict[song] = mapChordNamesToIndexes(chordArray)\n",
    "        \n",
    "print(finalChordDict)"
   ]
  },
  {
   "cell_type": "markdown",
   "id": "3030bbd2",
   "metadata": {},
   "source": [
    "### Create feature and target arrays for training\n",
    "\n",
    "Here we create functions for two strategy \n",
    "\n",
    "First one is using a fixed length for each song and using this array of a song in the feature array. This is the function **getFeaturesAndTargetsOfFlatSong**\n",
    "\n",
    "Second approach is to use window length and hop length in order to slice the chords of the songs and use each window as the feature arrays. By default, second option is selected. This is the function **getFeaturesAndTargetsByWindowAndHop**"
   ]
  },
  {
   "cell_type": "code",
   "execution_count": 17,
   "id": "44e64f09",
   "metadata": {},
   "outputs": [],
   "source": [
    "def getFeatureAndTargetArrForEachWindow(chords, windowLength, hopSize, index):\n",
    "    featureArray = chords[index: index + windowLength]\n",
    "    targetArray = chords[index + windowLength: index + windowLength + 1]\n",
    "    return featureArray, targetArray"
   ]
  },
  {
   "cell_type": "code",
   "execution_count": 18,
   "id": "b81a9a37",
   "metadata": {},
   "outputs": [],
   "source": [
    "def getFeaturesAndTargetsByWindowAndHop(chordsDictionary, windowSize, hopSize):\n",
    "    features = np.empty((0, windowSize), dtype=np.ndarray)\n",
    "    targets = np.empty((0, 1), dtype=np.ndarray)\n",
    "    for song in chordsDictionary:\n",
    "        chordArray = chordsDictionary[song]\n",
    "        if len(chordArray) < windowSize + 1:\n",
    "            print('Chords are shorter than number of targets so skipping the song: ' + song)\n",
    "            continue\n",
    "        indexProcessed = 0\n",
    "        while len(chordArray) - indexProcessed > windowSize + 1:\n",
    "            featureArr, targetArray = getFeatureAndTargetArrForEachWindow(chordArray, windowSize, hopSize, indexProcessed)\n",
    "            featureArr = np.array(featureArr).reshape(1, len(featureArr))\n",
    "            features = np.append(features, featureArr, axis=0)\n",
    "            targetArray = np.array(targetArray).reshape(1, len(targetArray))\n",
    "            targets = np.append(targets, targetArray, axis=0)\n",
    "            indexProcessed = indexProcessed + hopSize\n",
    "\n",
    "    features = np.array(features)\n",
    "    targets = np.array(targets)\n",
    "    print(features.shape)\n",
    "    print(targets.shape)\n",
    "    print('Slicing the song chords is done!')\n",
    "    return features, targets"
   ]
  },
  {
   "cell_type": "code",
   "execution_count": 19,
   "id": "841ebca1",
   "metadata": {},
   "outputs": [],
   "source": [
    "def fillChordArraysUntilDesiredLength(chordArr, desiredLength):\n",
    "    finalArr = np.zeros(desiredLength, dtype=int)\n",
    "    chordLength = len(chordArr)\n",
    "    if chordLength < desiredLength:\n",
    "        print('Chords are shorter than number of targets so repeating the chords: ' + song)\n",
    "        quotient, remainder = divmod(desiredLength, chordLength) \n",
    "        print(str(chordLength) + \" quotient \" + str(quotient) + \" remainder \" + str(remainder))\n",
    "        for step in range(quotient):\n",
    "            finalArr[step*chordLength:(step+1)*chordLength] = chordArr\n",
    "        finalArr[chordLength*quotient: desiredLength] = chordArr[0:remainder]\n",
    "        print(len(finalArr))\n",
    "    elif chordLength > desiredLength:\n",
    "        finalArr = chordArr[0: desiredLength]\n",
    "    else:\n",
    "        finalArr = chordArr\n",
    "    print(len(finalArr))\n",
    "    print(finalArr)\n",
    "    return finalArr"
   ]
  },
  {
   "cell_type": "code",
   "execution_count": 20,
   "id": "2728170b",
   "metadata": {},
   "outputs": [],
   "source": [
    "def getFeaturesAndTargetsOfFlatSong(chordsDictionary, desiredFeatureLength):\n",
    "    features = np.zeros((len(chordsDictionary),desiredFeatureLength), dtype=int)\n",
    "    targets = np.zeros((len(chordsDictionary),1), dtype=int)\n",
    "    for i, song in enumerate(chordsDictionary):\n",
    "        chordArray = chordsDictionary[song] \n",
    "        finalChords = fillChordArraysUntilDesiredLength(chordArray, desiredFeatureLength+1)\n",
    "        features[i:] = finalChords[0:desiredFeatureLength]\n",
    "        targets[i:] = finalChords[desiredFeatureLength:desiredFeatureLength+1]\n",
    "    print(features.shape)\n",
    "    print(targets.shape)\n",
    "    print('Slicing the song chords is done!')\n",
    "    return features, targets"
   ]
  },
  {
   "cell_type": "markdown",
   "id": "21487077",
   "metadata": {},
   "source": [
    "Here we define which approach we want to train our model with. Alternatively, you can comment out getFeaturesAndTargetsByWindowAndHop function and use getFeaturesAndTargetsOfFlatSong. \n",
    "\n",
    "**featureLength** variable decides the fixed length of the arrays and used by getFeaturesAndTargetsOfFlatSong function.\n",
    "\n",
    "**windowSize** and **hopSize** variables are used by getFeaturesAndTargetsByWindowAndHop functiona and decides the window and hop sizes while slicing the chords."
   ]
  },
  {
   "cell_type": "code",
   "execution_count": 21,
   "id": "4f666a68",
   "metadata": {},
   "outputs": [
    {
     "name": "stdout",
     "output_type": "stream",
     "text": [
      "Chords are shorter than number of targets so skipping the song: ICallYourName\n",
      "Chords are shorter than number of targets so skipping the song: IveJustSeenAFace\n",
      "Chords are shorter than number of targets so skipping the song: ThatsAlrightMama\n",
      "Chords are shorter than number of targets so skipping the song: TicketToRide\n",
      "(1424, 16)\n",
      "(1424, 1)\n",
      "Slicing the song chords is done!\n",
      "(1424, 16)\n",
      "(1424, 1)\n"
     ]
    }
   ],
   "source": [
    "windowSize = 16\n",
    "hopSize = 2\n",
    "\n",
    "featureLength = 50\n",
    "\n",
    "featureArr, targetArr = getFeaturesAndTargetsByWindowAndHop(finalChordDict, windowSize, hopSize)\n",
    "#featureArr, targetArr = getFeaturesAndTargetsOfFlatSong(finalChordDict, featureLength)\n",
    "print(featureArr.shape)\n",
    "print(targetArr.shape)"
   ]
  },
  {
   "cell_type": "markdown",
   "id": "69551b42",
   "metadata": {},
   "source": [
    "## Training Support Vector Machine Regression model"
   ]
  },
  {
   "cell_type": "code",
   "execution_count": 22,
   "id": "358cc55b",
   "metadata": {},
   "outputs": [],
   "source": [
    "from sklearn.model_selection import train_test_split\n",
    "from sklearn.gaussian_process import GaussianProcessRegressor\n",
    "from sklearn.gaussian_process.kernels import RBF\n",
    "from sklearn import svm\n",
    "import sklearn\n",
    "import pandas as pd"
   ]
  },
  {
   "cell_type": "markdown",
   "id": "0c5e4b07",
   "metadata": {},
   "source": [
    "Here we first flatten the targets array and later we split the data by using %30 approach as test and training data."
   ]
  },
  {
   "cell_type": "code",
   "execution_count": 23,
   "id": "31d69cb7",
   "metadata": {},
   "outputs": [],
   "source": [
    "targets = pd.Series(targetArr.flatten())"
   ]
  },
  {
   "cell_type": "code",
   "execution_count": 24,
   "id": "0dd65db7",
   "metadata": {},
   "outputs": [],
   "source": [
    "featuresTrain, featuresTest, targetTrain, targetTest = train_test_split(featureArr, targets, test_size=0.3, random_state=4)\n"
   ]
  },
  {
   "cell_type": "markdown",
   "id": "6418e332",
   "metadata": {},
   "source": [
    "Here we create a function which trains the SVR and returns the regression model. Later we will train many models and compare the performance by using this function.\n",
    "\n",
    "We also have a timer in the training function which logs the training time."
   ]
  },
  {
   "cell_type": "code",
   "execution_count": 25,
   "id": "c40ba775",
   "metadata": {},
   "outputs": [],
   "source": [
    "def trainAndGetSVRModel(valueC, valueEpsilon, kernel, featuresTrain, targetTrain):\n",
    "    startTime = time.time()\n",
    "    regr = svm.SVR(C=valueC, epsilon=valueEpsilon, kernel=kernel)\n",
    "    regr.fit(featuresTrain, targetTrain)\n",
    "    endTime = time.time()\n",
    "    timeSpent = endTime - startTime\n",
    "    print(f\"Time spent for the training is: {timeSpent:.4f} seconds, for values: \" + str(valueC) + \" epsilon: \" + str(valueEpsilon) + \" kernel \" + kernel)\n",
    "    return regr"
   ]
  },
  {
   "cell_type": "markdown",
   "id": "7595bbaa",
   "metadata": {},
   "source": [
    "**getErrorValues** function returns a row of different type of error values for the predicted values. This method used in order to print a table of different results."
   ]
  },
  {
   "cell_type": "code",
   "execution_count": 26,
   "id": "921b18ad",
   "metadata": {},
   "outputs": [],
   "source": [
    "def getErrorValues(targetTest, targetPredicted, paramName, paramValue):\n",
    "    return { paramName: paramValue,\n",
    "            'Mean Squared Err': '%.4f'% sklearn.metrics.mean_squared_error(targetTest, targetPredicted),\n",
    "            'Mean Abs Err':  '%.4f'% sklearn.metrics.mean_absolute_error(targetTest, targetPredicted),\n",
    "            'Max Err':  '%.4f'% sklearn.metrics.max_error(targetTest, targetPredicted),\n",
    "            'Median Abs Err':  '%.4f'% sklearn.metrics.median_absolute_error(targetTest, targetPredicted),\n",
    "            'R2 score':  '%.4f'% sklearn.metrics.r2_score(targetTest, targetPredicted),\n",
    "            'Variance score':  '%.4f'% sklearn.metrics.explained_variance_score(targetTest, targetPredicted)}"
   ]
  },
  {
   "cell_type": "markdown",
   "id": "e0cdf3fc",
   "metadata": {},
   "source": [
    "In this cell we define a styling for our tables so that we can see the difference between errors better and compare better."
   ]
  },
  {
   "cell_type": "code",
   "execution_count": 27,
   "id": "3a5f2d4a",
   "metadata": {},
   "outputs": [],
   "source": [
    "def highlight(value):\n",
    "        return 'border: 1px solid black; padding: 5px'\n",
    "    \n",
    "def getDfWithStyle(df):\n",
    "    return df.style.applymap(highlight)"
   ]
  },
  {
   "cell_type": "markdown",
   "id": "16c84906",
   "metadata": {},
   "source": [
    "#### Now we train our models with different C values from 0.05 to 50."
   ]
  },
  {
   "cell_type": "code",
   "execution_count": 28,
   "id": "1b529476",
   "metadata": {},
   "outputs": [
    {
     "name": "stdout",
     "output_type": "stream",
     "text": [
      "Time spent for the training is: 0.0537 seconds, for values: 0.05 epsilon: 0.001 kernel rbf\n",
      "Time spent for the training is: 0.0410 seconds, for values: 0.1 epsilon: 0.001 kernel rbf\n",
      "Time spent for the training is: 0.0419 seconds, for values: 1.0 epsilon: 0.001 kernel rbf\n",
      "Time spent for the training is: 0.0661 seconds, for values: 10.0 epsilon: 0.001 kernel rbf\n",
      "Time spent for the training is: 0.1667 seconds, for values: 50.0 epsilon: 0.001 kernel rbf\n"
     ]
    }
   ],
   "source": [
    "targetPredicted1 = trainAndGetSVRModel(0.05, 0.001, 'rbf', featuresTrain, targetTrain).predict(featuresTest)\n",
    "targetPredicted2 = trainAndGetSVRModel(0.10, 0.001, 'rbf', featuresTrain, targetTrain).predict(featuresTest)\n",
    "targetPredicted3 = trainAndGetSVRModel(1.0, 0.001, 'rbf', featuresTrain, targetTrain).predict(featuresTest)\n",
    "targetPredicted4 = trainAndGetSVRModel(10.0, 0.001, 'rbf', featuresTrain, targetTrain).predict(featuresTest)\n",
    "targetPredicted5 = trainAndGetSVRModel(50.0, 0.001, 'rbf', featuresTrain, targetTrain).predict(featuresTest)"
   ]
  },
  {
   "cell_type": "code",
   "execution_count": 29,
   "id": "7ebb7822",
   "metadata": {},
   "outputs": [
    {
     "data": {
      "text/html": [
       "<style type=\"text/css\">\n",
       "#T_f42b5_row0_col0, #T_f42b5_row0_col1, #T_f42b5_row0_col2, #T_f42b5_row0_col3, #T_f42b5_row0_col4, #T_f42b5_row0_col5, #T_f42b5_row0_col6, #T_f42b5_row1_col0, #T_f42b5_row1_col1, #T_f42b5_row1_col2, #T_f42b5_row1_col3, #T_f42b5_row1_col4, #T_f42b5_row1_col5, #T_f42b5_row1_col6, #T_f42b5_row2_col0, #T_f42b5_row2_col1, #T_f42b5_row2_col2, #T_f42b5_row2_col3, #T_f42b5_row2_col4, #T_f42b5_row2_col5, #T_f42b5_row2_col6, #T_f42b5_row3_col0, #T_f42b5_row3_col1, #T_f42b5_row3_col2, #T_f42b5_row3_col3, #T_f42b5_row3_col4, #T_f42b5_row3_col5, #T_f42b5_row3_col6, #T_f42b5_row4_col0, #T_f42b5_row4_col1, #T_f42b5_row4_col2, #T_f42b5_row4_col3, #T_f42b5_row4_col4, #T_f42b5_row4_col5, #T_f42b5_row4_col6 {\n",
       "  border: 1px solid black;\n",
       "  padding: 5px;\n",
       "}\n",
       "</style>\n",
       "<table id=\"T_f42b5\">\n",
       "  <thead>\n",
       "    <tr>\n",
       "      <th class=\"blank level0\" >&nbsp;</th>\n",
       "      <th id=\"T_f42b5_level0_col0\" class=\"col_heading level0 col0\" >C Value</th>\n",
       "      <th id=\"T_f42b5_level0_col1\" class=\"col_heading level0 col1\" >Mean Squared Err</th>\n",
       "      <th id=\"T_f42b5_level0_col2\" class=\"col_heading level0 col2\" >Mean Abs Err</th>\n",
       "      <th id=\"T_f42b5_level0_col3\" class=\"col_heading level0 col3\" >Max Err</th>\n",
       "      <th id=\"T_f42b5_level0_col4\" class=\"col_heading level0 col4\" >Median Abs Err</th>\n",
       "      <th id=\"T_f42b5_level0_col5\" class=\"col_heading level0 col5\" >R2 score</th>\n",
       "      <th id=\"T_f42b5_level0_col6\" class=\"col_heading level0 col6\" >Variance score</th>\n",
       "    </tr>\n",
       "  </thead>\n",
       "  <tbody>\n",
       "    <tr>\n",
       "      <th id=\"T_f42b5_level0_row0\" class=\"row_heading level0 row0\" >0</th>\n",
       "      <td id=\"T_f42b5_row0_col0\" class=\"data row0 col0\" >0.05</td>\n",
       "      <td id=\"T_f42b5_row0_col1\" class=\"data row0 col1\" >16.0423</td>\n",
       "      <td id=\"T_f42b5_row0_col2\" class=\"data row0 col2\" >3.3307</td>\n",
       "      <td id=\"T_f42b5_row0_col3\" class=\"data row0 col3\" >7.3846</td>\n",
       "      <td id=\"T_f42b5_row0_col4\" class=\"data row0 col4\" >2.3305</td>\n",
       "      <td id=\"T_f42b5_row0_col5\" class=\"data row0 col5\" >0.0061</td>\n",
       "      <td id=\"T_f42b5_row0_col6\" class=\"data row0 col6\" >0.0196</td>\n",
       "    </tr>\n",
       "    <tr>\n",
       "      <th id=\"T_f42b5_level0_row1\" class=\"row_heading level0 row1\" >1</th>\n",
       "      <td id=\"T_f42b5_row1_col0\" class=\"data row1 col0\" >0.10</td>\n",
       "      <td id=\"T_f42b5_row1_col1\" class=\"data row1 col1\" >15.7942</td>\n",
       "      <td id=\"T_f42b5_row1_col2\" class=\"data row1 col2\" >3.3132</td>\n",
       "      <td id=\"T_f42b5_row1_col3\" class=\"data row1 col3\" >7.7686</td>\n",
       "      <td id=\"T_f42b5_row1_col4\" class=\"data row1 col4\" >2.6270</td>\n",
       "      <td id=\"T_f42b5_row1_col5\" class=\"data row1 col5\" >0.0215</td>\n",
       "      <td id=\"T_f42b5_row1_col6\" class=\"data row1 col6\" >0.0350</td>\n",
       "    </tr>\n",
       "    <tr>\n",
       "      <th id=\"T_f42b5_level0_row2\" class=\"row_heading level0 row2\" >2</th>\n",
       "      <td id=\"T_f42b5_row2_col0\" class=\"data row2 col0\" >1.00</td>\n",
       "      <td id=\"T_f42b5_row2_col1\" class=\"data row2 col1\" >15.4241</td>\n",
       "      <td id=\"T_f42b5_row2_col2\" class=\"data row2 col2\" >3.2081</td>\n",
       "      <td id=\"T_f42b5_row2_col3\" class=\"data row2 col3\" >10.7735</td>\n",
       "      <td id=\"T_f42b5_row2_col4\" class=\"data row2 col4\" >2.9473</td>\n",
       "      <td id=\"T_f42b5_row2_col5\" class=\"data row2 col5\" >0.0444</td>\n",
       "      <td id=\"T_f42b5_row2_col6\" class=\"data row2 col6\" >0.0480</td>\n",
       "    </tr>\n",
       "    <tr>\n",
       "      <th id=\"T_f42b5_level0_row3\" class=\"row_heading level0 row3\" >3</th>\n",
       "      <td id=\"T_f42b5_row3_col0\" class=\"data row3 col0\" >10.00</td>\n",
       "      <td id=\"T_f42b5_row3_col1\" class=\"data row3 col1\" >16.5587</td>\n",
       "      <td id=\"T_f42b5_row3_col2\" class=\"data row3 col2\" >3.1904</td>\n",
       "      <td id=\"T_f42b5_row3_col3\" class=\"data row3 col3\" >13.0687</td>\n",
       "      <td id=\"T_f42b5_row3_col4\" class=\"data row3 col4\" >2.8152</td>\n",
       "      <td id=\"T_f42b5_row3_col5\" class=\"data row3 col5\" >-0.0259</td>\n",
       "      <td id=\"T_f42b5_row3_col6\" class=\"data row3 col6\" >-0.0258</td>\n",
       "    </tr>\n",
       "    <tr>\n",
       "      <th id=\"T_f42b5_level0_row4\" class=\"row_heading level0 row4\" >4</th>\n",
       "      <td id=\"T_f42b5_row4_col0\" class=\"data row4 col0\" >50.00</td>\n",
       "      <td id=\"T_f42b5_row4_col1\" class=\"data row4 col1\" >17.9717</td>\n",
       "      <td id=\"T_f42b5_row4_col2\" class=\"data row4 col2\" >3.1164</td>\n",
       "      <td id=\"T_f42b5_row4_col3\" class=\"data row4 col3\" >13.0185</td>\n",
       "      <td id=\"T_f42b5_row4_col4\" class=\"data row4 col4\" >2.3834</td>\n",
       "      <td id=\"T_f42b5_row4_col5\" class=\"data row4 col5\" >-0.1134</td>\n",
       "      <td id=\"T_f42b5_row4_col6\" class=\"data row4 col6\" >-0.1133</td>\n",
       "    </tr>\n",
       "  </tbody>\n",
       "</table>\n"
      ],
      "text/plain": [
       "<pandas.io.formats.style.Styler at 0x7fc64c0d7e20>"
      ]
     },
     "metadata": {},
     "output_type": "display_data"
    }
   ],
   "source": [
    "dataC = getErrorValues(targetTest, targetPredicted1, 'C Value', '0.05')\n",
    "resultCDf = pd.DataFrame(dataC, index=[0])\n",
    "resultCDf.loc[len(resultCDf)] = getErrorValues(targetTest, targetPredicted2, \"C Value\", '0.10')\n",
    "resultCDf.loc[len(resultCDf)] = getErrorValues(targetTest, targetPredicted3, \"C Value\", '1.00')\n",
    "resultCDf.loc[len(resultCDf)] = getErrorValues(targetTest, targetPredicted4, \"C Value\", '10.00')\n",
    "resultCDf.loc[len(resultCDf)] = getErrorValues(targetTest, targetPredicted5, \"C Value\", '50.00')\n",
    "\n",
    "display(getDfWithStyle(resultCDf))"
   ]
  },
  {
   "cell_type": "code",
   "execution_count": 30,
   "id": "1d9d0fac",
   "metadata": {
    "scrolled": true
   },
   "outputs": [
    {
     "data": {
      "image/png": "[encoded data removed]",
      "text/plain": [
       "<Figure size 640x480 with 1 Axes>"
      ]
     },
     "metadata": {},
     "output_type": "display_data"
    }
   ],
   "source": [
    "plt.scatter(targetTest, targetPredicted1, color='blue', label='C 0.01', alpha=0.5)\n",
    "plt.scatter(targetTest, targetPredicted2, color='green', label='C 0.05', alpha=0.5)\n",
    "plt.scatter(targetTest, targetPredicted3, color='yellow', label='C 0.10', alpha=0.5)\n",
    "plt.plot(targetTest, targetTest, color='red', linewidth=2)\n",
    "plt.xlabel('Actual Values')\n",
    "plt.ylabel('Predicted Values')\n",
    "plt.title('Support Vector Machine Regression Model')\n",
    "plt.show()"
   ]
  },
  {
   "cell_type": "markdown",
   "id": "b7359969",
   "metadata": {},
   "source": [
    "#### Now we train the models with different kernel functions"
   ]
  },
  {
   "cell_type": "code",
   "execution_count": null,
   "id": "369a8cce",
   "metadata": {},
   "outputs": [
    {
     "name": "stdout",
     "output_type": "stream",
     "text": [
      "Time spent for the training is: 0.0493 seconds, for values: 1.0 epsilon: 0.001 kernel rbf\n"
     ]
    }
   ],
   "source": [
    "targetPredictedByRbf = trainAndGetSVRModel(1.0, 0.001, 'rbf', featuresTrain, targetTrain).predict(featuresTest)\n",
    "targetPredictedByLinear = trainAndGetSVRModel(1.0, 0.001, 'linear', featuresTrain, targetTrain).predict(featuresTest)\n",
    "targetPredictedByPoly = trainAndGetSVRModel(1.0, 0.001, 'poly', featuresTrain, targetTrain).predict(featuresTest)\n",
    "targetPredictedBySigmoid = trainAndGetSVRModel(1.0, 0.001, 'sigmoid', featuresTrain, targetTrain).predict(featuresTest)\n"
   ]
  },
  {
   "cell_type": "code",
   "execution_count": null,
   "id": "24df9449",
   "metadata": {
    "scrolled": true
   },
   "outputs": [],
   "source": [
    "dataKernel = getErrorValues(targetTest, targetPredictedByRbf, 'Kernel Value', 'rbf')\n",
    "resultKernelDf = pd.DataFrame(dataKernel, index=[0])\n",
    "resultKernelDf.loc[len(resultKernelDf)] = getErrorValues(targetTest, targetPredictedByLinear, 'Kernel Value','linear')\n",
    "resultKernelDf.loc[len(resultKernelDf)] = getErrorValues(targetTest, targetPredictedByPoly, 'Kernel Value', 'poly')\n",
    "resultKernelDf.loc[len(resultKernelDf)] = getErrorValues(targetTest, targetPredictedBySigmoid, 'Kernel Value', 'sigmoid')\n",
    "\n",
    "display(getDfWithStyle(resultKernelDf))\n"
   ]
  },
  {
   "cell_type": "markdown",
   "id": "d1e12870",
   "metadata": {},
   "source": [
    "#### Now we train the models with different epsilon values from 0.001 to 0.1"
   ]
  },
  {
   "cell_type": "code",
   "execution_count": null,
   "id": "c252c843",
   "metadata": {},
   "outputs": [],
   "source": [
    "targetPredictedByEps1 = trainAndGetSVRModel(1.0, 0.001, 'rbf', featuresTrain, targetTrain).predict(featuresTest)\n",
    "targetPredictedByEps2 = trainAndGetSVRModel(1.0, 0.005, 'rbf', featuresTrain, targetTrain).predict(featuresTest)\n",
    "targetPredictedByEps3 = trainAndGetSVRModel(1.0, 0.010, 'rbf', featuresTrain, targetTrain).predict(featuresTest)\n",
    "targetPredictedByEps4 = trainAndGetSVRModel(1.0, 0.050, 'rbf', featuresTrain, targetTrain).predict(featuresTest)\n",
    "targetPredictedByEps5 = trainAndGetSVRModel(1.0, 0.100, 'rbf', featuresTrain, targetTrain).predict(featuresTest)\n"
   ]
  },
  {
   "cell_type": "code",
   "execution_count": null,
   "id": "56649e95",
   "metadata": {},
   "outputs": [],
   "source": [
    "dataEpsion = getErrorValues(targetTest, targetPredictedByEps1, \"Epsilon Value\", '0.001')\n",
    "resultEpsilonDf = pd.DataFrame(dataEpsion, index=[0])\n",
    "resultEpsilonDf.loc[len(resultEpsilonDf)] = getErrorValues(targetTest, targetPredictedByEps2, \"Epsilon Value\", '0.005')\n",
    "resultEpsilonDf.loc[len(resultEpsilonDf)] = getErrorValues(targetTest, targetPredictedByEps3, \"Epsilon Value\", '0.010')\n",
    "resultEpsilonDf.loc[len(resultEpsilonDf)] = getErrorValues(targetTest, targetPredictedByEps4, \"Epsilon Value\", '0.050')\n",
    "resultEpsilonDf.loc[len(resultEpsilonDf)] = getErrorValues(targetTest, targetPredictedByEps5, \"Epsilon Value\", '0.100')\n",
    "\n",
    "display(getDfWithStyle(resultEpsilonDf))\n"
   ]
  },
  {
   "cell_type": "markdown",
   "id": "92f42175",
   "metadata": {},
   "source": [
    "## Train and Predict next n chords for given song\n",
    "\n",
    "In this chapter, we will use the best performed values in the previous trainings and train a model with the feature and target arrays we extracted from The Beatles.\n",
    "\n",
    "The goal is getting a song and composing a new chorus for the song by using this model.\n",
    "\n",
    "First we need a function to fit the chords played before chorus in the song to our feature array rows. The function **prepareSongForPrediction** gets the chords played before the chorus, whole chords of the song and the feature length. \n",
    "\n",
    "If there is not enough chords played before the chorus, we add chords using the chords in the song starting by the end of the song. \n",
    "If the chords played before chorus is longer than our feature length, then we throw the chords away from the beginning."
   ]
  },
  {
   "cell_type": "code",
   "execution_count": null,
   "id": "635f5c85",
   "metadata": {},
   "outputs": [],
   "source": [
    "def prepareSongForPrediction(beginningChords, fullChords, featureSize):\n",
    "    finalArr = np.zeros((1, featureSize), dtype=int)\n",
    "    lengthOfBeginning = len(beginningChords)\n",
    "    lengthOfFullSong = len(fullChords)\n",
    "    if lengthOfBeginning < featureSize:\n",
    "        chordArray = np.zeros(featureSize, dtype=int)\n",
    "        print('Beginning chords are shorter than number of features, repeating the chords')\n",
    "        chordArray[featureSize-lengthOfBeginning:featureSize] = beginningChords\n",
    "        if featureSize-lengthOfBeginning <= lengthOfFullSong:\n",
    "            lengthToAdd = featureSize-lengthOfBeginning\n",
    "            chordArray[0:lengthToAdd] = fullChords[lengthOfFullSong-lengthToAdd:lengthOfFullSong]\n",
    "            chordArray[lengthToAdd:featureSize] = beginningChords\n",
    "        else:\n",
    "            quotient, remainder = divmod(featureSize-lengthOfBeginning, lengthOfFullSong) \n",
    "            print(quotient)\n",
    "            print(remainder)\n",
    "            chordArray[0:remainder] = chordArray[lengthOfFullSong-remainder:lengthOfFullSong]\n",
    "            for step in range(quotient):\n",
    "                start = remainder + step*lengthOfFullSong\n",
    "                end = remainder + (step+1)*lengthOfFullSong\n",
    "                chordArray[start:end] = fullChords\n",
    "        finalArr[0:featureSize] = chordArray\n",
    "    elif lengthOfBeginning > featureSize:\n",
    "        finalArr[0:featureSize] = beginningChords[lengthOfBeginning-featureSize: lengthOfBeginning]\n",
    "    else:\n",
    "        finalArr[0:featureSize] = beginningChords\n",
    "    print('Chords are ready for prediction.')\n",
    "    return finalArr"
   ]
  },
  {
   "cell_type": "markdown",
   "id": "9ae2af57",
   "metadata": {},
   "source": [
    "#### Now we train the SVMR with C value of 1.0, epsilon of 0.001 and kernel of rbf"
   ]
  },
  {
   "cell_type": "code",
   "execution_count": null,
   "id": "28c4bcc5",
   "metadata": {
    "scrolled": true
   },
   "outputs": [],
   "source": [
    "regression = trainAndGetSVRModel(1.0, 0.001, 'rbf', featuresTrain, targetTrain)"
   ]
  },
  {
   "cell_type": "markdown",
   "id": "651a637a",
   "metadata": {},
   "source": [
    "Here we decide which song we like to compose the chorus for. We can change the song name by changing the **songFileName**.\n",
    "\n",
    "Later we create a Song object with the ChordPro file and we extract the full chords, the chords played before the chorus and the original chorus of the song.\n",
    "\n",
    "In order to use the song for prediction, we need to map the chord names to integer again by using the same functions before."
   ]
  },
  {
   "cell_type": "code",
   "execution_count": null,
   "id": "03a9b986",
   "metadata": {
    "scrolled": false
   },
   "outputs": [],
   "source": [
    "#songFileName = 'AllYouNeedIsLove.chopro'\n",
    "#songFileName = 'StrawberryFieldsForever.2.chopro'\n",
    "songFileName = 'ObLaDiObLaDa.chopro'\n",
    "\n",
    "songToGenerate = Song(pathOfChordTxtFiles + songFileName)\n",
    "fullChords = songToGenerate.getChords()\n",
    "chordsBeforeChorus = songToGenerate.getChordsBeforeChorus()\n",
    "\n",
    "chordsBeforeChorusInt = mapChordNamesToIndexes(chordsBeforeChorus)\n",
    "fullChordsInt = mapChordNamesToIndexes(fullChords)\n",
    "\n",
    "featureOfSong = prepareSongForPrediction(chordsBeforeChorusInt, fullChordsInt, windowSize)"
   ]
  },
  {
   "cell_type": "markdown",
   "id": "56690408",
   "metadata": {},
   "source": [
    "In this step, our feature array fronm the chosen song is ready to be used by the regression. \n",
    "\n",
    "We use **generatePredictedChords** function in order to call the predict function and add each chord predicted to the end of the chords played before the chorus. Every time we add the prediction to the end and remove a chord from the beginning. So that every prediction will be done on the chords together with predicted ones."
   ]
  },
  {
   "cell_type": "code",
   "execution_count": null,
   "id": "c4c3a838",
   "metadata": {},
   "outputs": [],
   "source": [
    "def generatePredictedChords(regr, beginningChords, chordsLengthToPredict):\n",
    "    featureArrLength = len(beginningChords[0:])\n",
    "    predictedChords = np.zeros(chordsLengthToPredict, dtype=int)\n",
    "    for i in range(chordsLengthToPredict):\n",
    "        nextValue = int(regr.predict(beginningChords))\n",
    "        predictedChords[i] = nextValue\n",
    "        beginningChords = np.roll(beginningChords, -1, axis=1)\n",
    "        beginningChords[:, -1] = nextValue\n",
    "        print(beginningChords)\n",
    "    print('Done, chords predicted: ')\n",
    "    print(predictedChords)\n",
    "    return predictedChords"
   ]
  },
  {
   "cell_type": "markdown",
   "id": "f2b98d8a",
   "metadata": {},
   "source": [
    "Now we run the functions and print both the original chorus and composed chorus by regression."
   ]
  },
  {
   "cell_type": "code",
   "execution_count": null,
   "id": "a9a08f9c",
   "metadata": {
    "scrolled": true
   },
   "outputs": [],
   "source": [
    "chorus = songToGenerate.getChorus()\n",
    "chorusLengthToPredict = len(chorus)\n",
    "\n",
    "composedChords = generatePredictedChords(regression, featureOfSong, chorusLengthToPredict)\n",
    "chordNamesOfComposition = mapIndexesToChordNames(composedChords)\n",
    "\n",
    "print('Original chorus: ', chorus)\n",
    "print('Composed chorus: ', chordNamesOfComposition)"
   ]
  },
  {
   "cell_type": "markdown",
   "id": "63af16f3",
   "metadata": {},
   "source": [
    "### Lets listen the midi file of composed chords"
   ]
  },
  {
   "cell_type": "markdown",
   "id": "4e1613e9",
   "metadata": {},
   "source": [
    "Lets convert the composition to a listenable format. In this case we will create a Acoustic Grand Piano which plays the chords where each chord is played for 500 milliseconds. \n",
    "\n",
    "The output will be saved as a midi file with the name of the song together with '-composed-chorus.mid' and it can be found and listened under the composed_midi folder."
   ]
  },
  {
   "cell_type": "code",
   "execution_count": null,
   "id": "33265a92",
   "metadata": {},
   "outputs": [],
   "source": [
    "from pychord import Chord\n",
    "import pretty_midi\n",
    "\n",
    "\n",
    "def createMidi(chordNamesOfComposition, songFileName):\n",
    "    chords = [Chord(c) for c in chordNamesOfComposition]\n",
    "    midi = pretty_midi.PrettyMIDI()\n",
    "    pianoProgram = pretty_midi.instrument_name_to_program('Acoustic Grand Piano')\n",
    "    piano = pretty_midi.Instrument(program=pianoProgram)\n",
    "    length = 1\n",
    "    for n, chord in enumerate(chords):\n",
    "        for noteName in chord.components_with_pitch(root_pitch=4):\n",
    "            noteNumber = pretty_midi.note_name_to_number(noteName)\n",
    "            note = pretty_midi.Note(velocity=100, pitch=noteNumber, start=n * length, end=(n + 1) * length)\n",
    "            piano.notes.append(note)\n",
    "    midi.instruments.append(piano)\n",
    "    midi.write('./composed_midi/' + songFileName+ '-composed-chorus.mid')\n",
    "\n",
    "\n",
    "createMidi(chordNamesOfComposition, songFileName)"
   ]
  },
  {
   "cell_type": "markdown",
   "id": "5d22a7b6",
   "metadata": {},
   "source": [
    "## Create an Http POST API\n",
    "\n",
    "In order to examine the SVMR for real time algorithmic composition purposes, I have created an HTTP POST API.\n",
    "\n",
    "In order to use the API, providing a flat array of chord names and the length of the new composed chords are the only values needed.\n",
    "\n",
    "The API uses the chord array for training a new model by using window length of 16 and hop size of 2 and runs predictions for the same array.\n",
    "\n",
    "The composed chords are returned as the response in array of chord names. In live coding or other algorithmic composition performances, this API can be called iteratively many times as it is responsing very quickly.\n",
    "\n",
    "Also for us to listen, I have also created a midi file of piano instrument playing the chords in the api. So after the api is run, the idi file named composedArray can be listened."
   ]
  },
  {
   "cell_type": "code",
   "execution_count": null,
   "id": "8ba66c98",
   "metadata": {},
   "outputs": [],
   "source": [
    "def trainAndGenerateChords(chordArrayToTrain, numberOfResultsToPredict):\n",
    "    windowSize = 16\n",
    "    hopSize = 2\n",
    "    \n",
    "    dictOfSong = {\"songName\": chordArrayToTrain}\n",
    "    featureArr, targetArr = getFeaturesAndTargetsByWindowAndHop(dictOfSong, windowSize, hopSize)\n",
    "    targets = pd.Series(targetArr.flatten())\n",
    "    featuresTrain, featuresTest, targetTrain, targetTest = train_test_split(featureArr, targets, test_size=0.3, random_state=4)\n",
    "    \n",
    "    regression = trainAndGetSVRModel(1.00, 0.001, 'rbf', featuresTrain, targetTrain)\n",
    "    \n",
    "    arrayForPrediction = prepareSongForPrediction(chordArrayToTrain, chordArrayToTrain, windowSize)\n",
    "    composedChords = generatePredictedChords(regression, arrayForPrediction, numberOfResultsToPredict)\n",
    "    return mapIndexesToChordNames(composedChords)\n",
    "    "
   ]
  },
  {
   "cell_type": "code",
   "execution_count": null,
   "id": "acf216b0",
   "metadata": {},
   "outputs": [],
   "source": [
    "from flask import Flask, jsonify, request\n",
    "\n",
    "app = Flask(__name__)\n",
    "\n",
    "@app.route('/trainAndGenerate', methods=['POST'])\n",
    "def trainSVRAndGenerateComposition():\n",
    "    print('Api trainAndGenerate is called!')\n",
    "    startTime = time.time()\n",
    "    inputArrayOfChords = []\n",
    "    numberOfResultsToPredict = 0\n",
    "    try:\n",
    "        data = request.json\n",
    "        inputArrayOfChords = data['chordArayToTrain']\n",
    "        numberOfResultsToPredict = data['numberOfResultsToPredict']\n",
    "    except:\n",
    "        print(\"An exception occurred\")\n",
    "        raise ValueError(\"Chords should be provided in a string array of chordArayToTrain\")\n",
    "    \n",
    "    inputArrayOfChords = mapChordNamesToIndexes(inputArrayOfChords)\n",
    "    chordNamesOfComposition = trainAndGenerateChords(inputArrayOfChords, numberOfResultsToPredict)\n",
    "    \n",
    "    endTime = time.time()\n",
    "    timeSpent = endTime - startTime\n",
    "    createMidi(chordNamesOfComposition, 'api composition')\n",
    "    print(f\"Time spent for the  training and prediction is: {timeSpent:.4f} seconds\")\n",
    "    return jsonify({'composedArray': chordNamesOfComposition})\n",
    "\n",
    "if __name__ == '__main__':\n",
    "    app.run(port=5000)"
   ]
  },
  {
   "cell_type": "code",
   "execution_count": null,
   "id": "857e4c4f",
   "metadata": {},
   "outputs": [],
   "source": []
  }
 ],
 "metadata": {
  "kernelspec": {
   "display_name": "Python 3 (ipykernel)",
   "language": "python",
   "name": "python3"
  },
  "language_info": {
   "codemirror_mode": {
    "name": "ipython",
    "version": 3
   },
   "file_extension": ".py",
   "mimetype": "text/x-python",
   "name": "python",
   "nbconvert_exporter": "python",
   "pygments_lexer": "ipython3",
   "version": "3.9.16"
  }
 },
 "nbformat": 4,
 "nbformat_minor": 5
}
